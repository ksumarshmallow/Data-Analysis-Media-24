{
 "cells": [
  {
   "cell_type": "markdown",
   "metadata": {},
   "source": [
    "# Семинар 3. Визуализация. Новые признаки"
   ]
  },
  {
   "cell_type": "markdown",
   "metadata": {},
   "source": [
    "Анализируем датасет с информацией об атлетах участвовавших в Олимпийских играх (**olymp.csv**)\n",
    "\n",
    "Данные содержат следующие признаки:\n",
    "- **`ID`** - уникальный номер спортсмена\n",
    "- **`Name`** - имя атлета\n",
    "- **`Sex`** - пол (мужской - M,  женский - F)\n",
    "- **`Age`** - возраст атлета\n",
    "- **`Height`** - рост (в см)\n",
    "- **`Weight`** - вес (в кг)\n",
    "- **`Team`** - cтрана\n",
    "- **`NOC`** - код страны от Олимпийского комитета (3 буквы)\n",
    "- **`Games`** - год и сезон Олимпийских игр\n",
    "- **`Year`** - год Олимпийских игр\n",
    "- **`Season`** - сезон (Зимние - Winter,  Лето - Summer)\n",
    "- **`City`** - город проведения Олимпийских игр\n",
    "- **`Sport`** - спортивная дисциплина\n",
    "- **`Event`** - категория спортивной дисциплины\n",
    "- **`Medal`** - достоинство медали (Золото - Gold, Серебро - Silver, Бронза - Bronze, Без медали - NaN)\n"
   ]
  },
  {
   "cell_type": "code",
   "execution_count": 1,
   "metadata": {},
   "outputs": [
    {
     "data": {
      "text/html": [
       "<div>\n",
       "<style scoped>\n",
       "    .dataframe tbody tr th:only-of-type {\n",
       "        vertical-align: middle;\n",
       "    }\n",
       "\n",
       "    .dataframe tbody tr th {\n",
       "        vertical-align: top;\n",
       "    }\n",
       "\n",
       "    .dataframe thead th {\n",
       "        text-align: right;\n",
       "    }\n",
       "</style>\n",
       "<table border=\"1\" class=\"dataframe\">\n",
       "  <thead>\n",
       "    <tr style=\"text-align: right;\">\n",
       "      <th></th>\n",
       "      <th>ID</th>\n",
       "      <th>Name</th>\n",
       "      <th>Sex</th>\n",
       "      <th>Age</th>\n",
       "      <th>Height</th>\n",
       "      <th>Weight</th>\n",
       "      <th>Team</th>\n",
       "      <th>NOC</th>\n",
       "      <th>Games</th>\n",
       "      <th>Year</th>\n",
       "      <th>Season</th>\n",
       "      <th>City</th>\n",
       "      <th>Sport</th>\n",
       "      <th>Event</th>\n",
       "      <th>Medal</th>\n",
       "    </tr>\n",
       "  </thead>\n",
       "  <tbody>\n",
       "    <tr>\n",
       "      <th>0</th>\n",
       "      <td>1</td>\n",
       "      <td>A Dijiang</td>\n",
       "      <td>M</td>\n",
       "      <td>24.0</td>\n",
       "      <td>180.0</td>\n",
       "      <td>80.0</td>\n",
       "      <td>China</td>\n",
       "      <td>CHN</td>\n",
       "      <td>1992 Summer</td>\n",
       "      <td>1992</td>\n",
       "      <td>Summer</td>\n",
       "      <td>Barcelona</td>\n",
       "      <td>Basketball</td>\n",
       "      <td>Basketball Men's Basketball</td>\n",
       "      <td>NaN</td>\n",
       "    </tr>\n",
       "    <tr>\n",
       "      <th>1</th>\n",
       "      <td>2</td>\n",
       "      <td>A Lamusi</td>\n",
       "      <td>M</td>\n",
       "      <td>23.0</td>\n",
       "      <td>170.0</td>\n",
       "      <td>60.0</td>\n",
       "      <td>China</td>\n",
       "      <td>CHN</td>\n",
       "      <td>2012 Summer</td>\n",
       "      <td>2012</td>\n",
       "      <td>Summer</td>\n",
       "      <td>London</td>\n",
       "      <td>Judo</td>\n",
       "      <td>Judo Men's Extra-Lightweight</td>\n",
       "      <td>NaN</td>\n",
       "    </tr>\n",
       "    <tr>\n",
       "      <th>2</th>\n",
       "      <td>3</td>\n",
       "      <td>Gunnar Nielsen Aaby</td>\n",
       "      <td>M</td>\n",
       "      <td>24.0</td>\n",
       "      <td>NaN</td>\n",
       "      <td>NaN</td>\n",
       "      <td>Denmark</td>\n",
       "      <td>DEN</td>\n",
       "      <td>1920 Summer</td>\n",
       "      <td>1920</td>\n",
       "      <td>Summer</td>\n",
       "      <td>Antwerpen</td>\n",
       "      <td>Football</td>\n",
       "      <td>Football Men's Football</td>\n",
       "      <td>NaN</td>\n",
       "    </tr>\n",
       "    <tr>\n",
       "      <th>3</th>\n",
       "      <td>4</td>\n",
       "      <td>Edgar Lindenau Aabye</td>\n",
       "      <td>M</td>\n",
       "      <td>34.0</td>\n",
       "      <td>NaN</td>\n",
       "      <td>NaN</td>\n",
       "      <td>Denmark/Sweden</td>\n",
       "      <td>DEN</td>\n",
       "      <td>1900 Summer</td>\n",
       "      <td>1900</td>\n",
       "      <td>Summer</td>\n",
       "      <td>Paris</td>\n",
       "      <td>Tug-Of-War</td>\n",
       "      <td>Tug-Of-War Men's Tug-Of-War</td>\n",
       "      <td>Gold</td>\n",
       "    </tr>\n",
       "    <tr>\n",
       "      <th>4</th>\n",
       "      <td>5</td>\n",
       "      <td>Christine Jacoba Aaftink</td>\n",
       "      <td>F</td>\n",
       "      <td>21.0</td>\n",
       "      <td>185.0</td>\n",
       "      <td>82.0</td>\n",
       "      <td>Netherlands</td>\n",
       "      <td>NED</td>\n",
       "      <td>1988 Winter</td>\n",
       "      <td>1988</td>\n",
       "      <td>Winter</td>\n",
       "      <td>Calgary</td>\n",
       "      <td>Speed Skating</td>\n",
       "      <td>Speed Skating Women's 500 metres</td>\n",
       "      <td>NaN</td>\n",
       "    </tr>\n",
       "  </tbody>\n",
       "</table>\n",
       "</div>"
      ],
      "text/plain": [
       "   ID                      Name Sex   Age  Height  Weight            Team  \\\n",
       "0   1                 A Dijiang   M  24.0   180.0    80.0           China   \n",
       "1   2                  A Lamusi   M  23.0   170.0    60.0           China   \n",
       "2   3       Gunnar Nielsen Aaby   M  24.0     NaN     NaN         Denmark   \n",
       "3   4      Edgar Lindenau Aabye   M  34.0     NaN     NaN  Denmark/Sweden   \n",
       "4   5  Christine Jacoba Aaftink   F  21.0   185.0    82.0     Netherlands   \n",
       "\n",
       "   NOC        Games  Year  Season       City          Sport  \\\n",
       "0  CHN  1992 Summer  1992  Summer  Barcelona     Basketball   \n",
       "1  CHN  2012 Summer  2012  Summer     London           Judo   \n",
       "2  DEN  1920 Summer  1920  Summer  Antwerpen       Football   \n",
       "3  DEN  1900 Summer  1900  Summer      Paris     Tug-Of-War   \n",
       "4  NED  1988 Winter  1988  Winter    Calgary  Speed Skating   \n",
       "\n",
       "                              Event Medal  \n",
       "0       Basketball Men's Basketball   NaN  \n",
       "1      Judo Men's Extra-Lightweight   NaN  \n",
       "2           Football Men's Football   NaN  \n",
       "3       Tug-Of-War Men's Tug-Of-War  Gold  \n",
       "4  Speed Skating Women's 500 metres   NaN  "
      ]
     },
     "execution_count": 1,
     "metadata": {},
     "output_type": "execute_result"
    }
   ],
   "source": [
    "import pandas as pd\n",
    "\n",
    "# Читаем таблицу olymp.csv и сохраняем в переменной olmp\n",
    "olmp = pd.read_csv(\"olymp.csv\")\n",
    "olmp.head()"
   ]
  },
  {
   "cell_type": "code",
   "execution_count": 2,
   "metadata": {},
   "outputs": [],
   "source": [
    "# Таблица могла подгрузиться не полностью. Если это так - выскочит ошибка\n",
    "# Если с датасетом все окей - ячейка запустится без ошибок\n",
    "assert olmp.shape[0] == 271116, \"Ваш датасет имеет неверное число строк. Скачайте его заново\""
   ]
  },
  {
   "cell_type": "markdown",
   "metadata": {},
   "source": [
    "## Новые признаки"
   ]
  },
  {
   "cell_type": "markdown",
   "metadata": {},
   "source": [
    "### Задание 1\n",
    "Создайте функцию **age_cat**, которая по столбцу с возрастом определяет атлета в одну из четырех групп:\n",
    "- \"меньше 18\" (0 - 17)\n",
    "- \"от 18 до 30\" (18 - 29)\n",
    "- \"30 и больше\" (от 30)\n",
    "- если информации о возрасте нет (**NaN**), то вернуть само значение из столбца c возрастом"
   ]
  },
  {
   "cell_type": "code",
   "execution_count": 3,
   "metadata": {},
   "outputs": [],
   "source": [
    "def age_cat(x):\n",
    "    if x < 18:\n",
    "        return \"меньше 18\"\n",
    "    elif x >= 18 and x < 30:\n",
    "        return \"от 18 до 30\"\n",
    "    elif x >=30:\n",
    "        return \"30 и больше\"\n",
    "    else:\n",
    "        return x"
   ]
  },
  {
   "cell_type": "markdown",
   "metadata": {},
   "source": [
    "### Задание 2\n",
    "\n",
    "Датафрейм лежит в переменной `olmp`. Примените функцию созданную в прошлом задании к столбцу `Age` и создайте новый признак `Age_category` в датафрейме `olmp`."
   ]
  },
  {
   "cell_type": "code",
   "execution_count": 4,
   "metadata": {},
   "outputs": [],
   "source": [
    "olmp['Age_category'] = olmp['Age'].apply(age_cat)"
   ]
  },
  {
   "cell_type": "markdown",
   "metadata": {},
   "source": [
    "### Задание 3\n",
    "\n",
    "Определите тип данных получившегося столбца **`Age_category`**\n",
    "- Категориальный порядковый (ранговый) - так как содержит категории (меньше 18, от 18 до 30 и т.д.), которые можно однозначно упорядочить "
   ]
  },
  {
   "cell_type": "markdown",
   "metadata": {},
   "source": [
    "### Задание 4\n",
    "\n",
    "Определите процент атлетов в возрастной категории **30 и больше**, которые получили золотые медали (**Medal: Gold**). Ответ округлите до двух знаков после запятой. Целая от вещественной части отделена точкой.\n",
    "\n",
    "**АЛГОРИТМ РЕШЕНИЯ**:\n",
    "\n",
    "1. Найдите количество уникальных атлетов возрастной категории **30 лет и старше**:\n",
    "    - *Отфильтруйте* данные, оставив только тех, кому **30 лет и старше**.\n",
    "    - *Удалите дубликаты* по признаку **`ID`**, чтобы учесть только уникальных атлетов. Для этого примените метод `.drop_duplicates('признак')`.\n",
    "    - Определите *количество строк* в получившемся датафрейме с помощью свойства `.shape`. Это и будет количество атлетов, которым **30 лет и старше**.\n",
    "   \n",
    "2. Найдите количество уникальных атлетов возрастной категории **30 лет и старше**, которые получили **золотые медали**:\n",
    "    - *Отфильтруйте* данные, оставив только атлетов **30 лет и старше**, которые получили золотые медали (**Medal: Gold**).\n",
    "    - *Удалите дубликаты* по признаку **`ID`**, чтобы учесть только уникальных атлетов. Для этого примените метод `.drop_duplicates('признак')`.\n",
    "    - Определите *количество строк* в получившемся датафрейме с помощью свойства `.shape`. Это и будет число атлетов, которым **30 лет и старше** и которые имеют хотя бы одну золотую медаль.\n",
    "   \n",
    "3. Рассчитайте процент атлетов в возрастной категории **30 лет и старше**, имеющих **золотые медали**, по отношению к общему числу атлетов этой возрастной категории. \n",
    "\n",
    "*Примечание*: Возрастная категория — это признак `Age_category`."
   ]
  },
  {
   "cell_type": "code",
   "execution_count": 9,
   "metadata": {},
   "outputs": [
    {
     "data": {
      "text/plain": [
       "7.749364944961896"
      ]
     },
     "execution_count": 9,
     "metadata": {},
     "output_type": "execute_result"
    }
   ],
   "source": [
    "##########  1. Фильтрация ##########\n",
    "# 1.1 Количество уникальных атлетов категории 30 лет и старше\n",
    "olmp_filtrated = olmp[olmp['Age_category'] == '30 и больше']\n",
    "\n",
    "# 1.2 Количество уникальных атлетов категории 30 лет и старше, имеющих золотые медали\n",
    "olmp_filtrated2 = olmp[(olmp['Age_category'] == '30 и больше') & (olmp['Medal'] == 'Gold')]\n",
    "\n",
    "########## 2. Удаление дубликатов по атлетам ##########\n",
    "# 2.1 В датафрейме с атлетами категории 30 лет и старше\n",
    "olmp_filtrated = olmp_filtrated.drop_duplicates('ID')\n",
    "\n",
    "# 2.2 В датафрейме с атлетами категории 30 лет и старше, имеющих золотые медали\n",
    "olmp_filtrated2 = olmp_filtrated2.drop_duplicates('ID')\n",
    "\n",
    "########### 3. Определяем количество атлетов ##########\n",
    "# 3.1 Которым более 30 лет\n",
    "num_over_30 = olmp_filtrated.shape[0]\n",
    "\n",
    "# 3.2 Которым более 30 лет и которые имеют золотые медали\n",
    "num_over_30_with_gold = olmp_filtrated2.shape[0]\n",
    "\n",
    "########### 4. Находим процентное соотношение  ##########\n",
    "num_over_30_with_gold / num_over_30 * 100"
   ]
  },
  {
   "cell_type": "markdown",
   "metadata": {},
   "source": [
    "### Задание 5\n",
    "\n",
    "Датафрейм лежит в переменной **olmp**. Cоздайте новый признак **BMI** в датафрейме **olmp**, который содержит информацию об индексе массы тела для каждого спортсмена на основе столбца с массой (**Weight**) и ростом (**Height**):\n",
    "$$\\text{BMI} = \\frac{\\text{Масса (кг.)}}{\\text{Рост (м}^2\\text{)}}$$\n",
    "\n",
    "*HINT*: Обратите внимание, что рост (**Height**) в таблице дан в сантиметрах, а по формуле рост нужен в метрах"
   ]
  },
  {
   "cell_type": "code",
   "execution_count": 10,
   "metadata": {},
   "outputs": [],
   "source": [
    "olmp['BMI'] = olmp['Weight'] / (olmp['Height'] / 100)**2"
   ]
  },
  {
   "cell_type": "markdown",
   "metadata": {},
   "source": [
    "### Задание 6\n",
    "Определите тип данных получившегося столбца **BMI**\n",
    "- **Числовой непрерывный** - поскольку BMI также рассчитывается с помощью арифметических операций над непрерывными признаками (рост=Height, и вес=Weight). Непрерывные числовые признаки можно складывать, вычитать, умножать и делить, при этом результат остается в той же категории — непрерывных числовых данных."
   ]
  },
  {
   "cell_type": "markdown",
   "metadata": {},
   "source": [
    "### Задание 7\n",
    "Найдите модуль разности между максимальным и минимальным значением индекса массы тела атлетов (**BMI**). Ответ округлите до двух знаков. Целая от вещественной части отделена точкой. \n",
    "\n",
    "**АЛГОРИТМ РЕШЕНИЯ**\n",
    "1. Отсортируйте датафрейм по возрастанию по столбцу **BMI** и найдите минимальный индекс массы тела\n",
    "2. Отсортируйте датафрейм по убыванию по столбцу **BMI** и найдите максимальный индекс массы тела\n",
    "3. Найдите разницу между максимумом и минимумом  по модулю* (функция `abs()`)\n",
    "\n",
    "*Модуль числа — это его абсолютное значение, которое всегда положительно, даже если число отрицательно. \n",
    "- модуль числа $-1$: $\\text{abs} (-1) = 1$,\n",
    "- модуль числа $1$ : $\\text{abs}(1) = 1$"
   ]
  },
  {
   "cell_type": "code",
   "execution_count": 13,
   "metadata": {},
   "outputs": [
    {
     "data": {
      "text/plain": [
       "np.float64(55.54062527994266)"
      ]
     },
     "execution_count": 13,
     "metadata": {},
     "output_type": "execute_result"
    }
   ],
   "source": [
    "# 1. Сортируем датафрейм по возрастанию и находим минимальный индекс массы тела\n",
    "BMI_min = olmp.sort_values('BMI').iloc[0]['BMI']\n",
    "\n",
    "# 2. Сортируем датафрейм по убыванию и находим максимальный индекс массы тела\n",
    "BMI_max = olmp.sort_values('BMI', ascending=False).iloc[0]['BMI']\n",
    "\n",
    "# 3. Вычисляем модуль разности между максимумом и минимумом\n",
    "abs(BMI_max - BMI_min)"
   ]
  },
  {
   "cell_type": "markdown",
   "metadata": {},
   "source": [
    "### Задание 8\n",
    "\n",
    "Датафрейм лежит в переменной **olmp**. Вам дан список **NA_cities**, который содержит информацию о городах Северной Америки, в которых проводилась Олимпиада \n",
    "\n",
    "С помощью анонимной функции создайте новый признак **`NA_olymp`**, который бы возвращал **True**, если Олимпиада проводилась в Северной Америке, а иначе **False**. Определите это на основании признака **`City`**."
   ]
  },
  {
   "cell_type": "code",
   "execution_count": 14,
   "metadata": {},
   "outputs": [],
   "source": [
    "NA_cities = ['St. Louis', 'Los Angeles', 'Lake Placid', 'Squaw Valley', 'Mexico City', \n",
    "             'Montreal', 'Calgary', 'Atlanta', 'Salt Lake City', 'Vancouver']\n",
    "\n",
    "# x in NA_cities: возвращает True, если значение x (какое-то значение столбца) лежит в списке NA_cities. И False иначе\n",
    "olmp['NA_olymp'] = olmp['City'].apply(lambda x: x in NA_cities)"
   ]
  },
  {
   "cell_type": "markdown",
   "metadata": {},
   "source": [
    "### Задание 9\n",
    "\n",
    "Определите тип данных получившегося столбца **`NA_olymp`**\n",
    "- **Бинарный** - есть только два значения, **True** (=да, олимпиада проводилась в Северной Америке) и **False** (=нет, олимпиада проводилась не в  Северной Америке)"
   ]
  },
  {
   "cell_type": "markdown",
   "metadata": {},
   "source": [
    "### Задание 10\n",
    "\n",
    "Определите в каком году (**Year**) были последние зимние (**Winter**) Олимпийские игры (по признаку **Season**) в Северной Америке (по признаку **NA_olymp**)\n",
    "\n",
    "**АЛГОРИТМ РЕШЕНИЯ**\n",
    "1. *Фильтруем* датасет по двум признакам - оставляем только зимние олимпийские игры (**Season**), которые проходили в Северной Америке (**NA_olymp**)\n",
    "2. *Сортируем* датасет по признаку **Year** - делаем это по убыванию, так как нас интересует последние Олимпийские игры (с наибольшим годом)\n",
    "3. Извлекаем значение **Year** из первой строчки"
   ]
  },
  {
   "cell_type": "code",
   "execution_count": 17,
   "metadata": {},
   "outputs": [
    {
     "data": {
      "text/plain": [
       "np.int64(2010)"
      ]
     },
     "execution_count": 17,
     "metadata": {},
     "output_type": "execute_result"
    }
   ],
   "source": [
    "# 1. Фильтрация датасета по сезону и месту проведения игры\n",
    "olmp_filtrated = olmp[(olmp['Season']=='Winter') & (olmp['NA_olymp']==True)]\n",
    "\n",
    "# 2. Сортировка датасета по убыванию Year - от новейших игр к более поздним\n",
    "olmp_filtrated = olmp_filtrated.sort_values('Year', ascending=False)\n",
    "\n",
    "# 3. Излекаем значение Year из первой строчки\n",
    "olmp_filtrated.iloc[0]['Year']"
   ]
  },
  {
   "cell_type": "markdown",
   "metadata": {},
   "source": [
    "## Визуализация"
   ]
  },
  {
   "cell_type": "markdown",
   "metadata": {},
   "source": [
    "### Задание 11\n",
    "\n",
    "Какие типы визуализации подходят для представленных признаков? Поставьте + там, где график подходит, а там где нет -\n",
    "\n",
    "\n",
    "| Признак  | Линейный график | Круговая диаграмма | Столбчатая диаграмма | Гистограмма |\n",
    "|----------|-----------------|--------------------|----------------------|-------------|\n",
    "| Sex      | -               | +                  | +                    | -           |\n",
    "| Age      | -               | -                  | -                    | +           |\n",
    "| Year     | +               | -                  | -                    | -           |\n",
    "| Medal    | -               | +                  | +                    | -           |\n",
    "| Weight   | -               | -                  | -                    | +           |\n",
    "\n",
    "**Пояснения**\n",
    "- Для категориальных данных (**Sex**, **Medal**), а также числовых дискретных (их здесь нет), подходящие визуализации - круговая и столбчатая диаграммы\n",
    "- Для непрерывных числовых признаков (**Age**, **Weight**) подходящие визуализации - гистограмма\n",
    "- Для признаков, связанных с временными промежутками (**Year**) можно строить линейные графики"
   ]
  },
  {
   "cell_type": "markdown",
   "metadata": {},
   "source": [
    "### Задание 12\n",
    "\n",
    "Выберите какой график визуализирует количество уникальных атлетов на каждой летней олимпиаде (по порядку) с 1980 года"
   ]
  },
  {
   "cell_type": "markdown",
   "metadata": {},
   "source": [
    "**АЛГОРИТМ РЕШЕНИЯ**\n",
    "\n",
    "1. Сделайте фильтрацию по заданным условиям (летние олимпиады с 1980 года)\n",
    "2. Удалите повторяющихся атлетов с помощью `.drop_duplicates()` (по признаку **ID**)\n",
    "3. Постройте частотную таблицу по отфильтрованным данным без дубликатов по столбцу **Year** с помощью `.value_counts()`\n",
    "4. Отсортируйте частотную таблицу по индексам с помощью `.sort_index()`"
   ]
  },
  {
   "cell_type": "code",
   "execution_count": 18,
   "metadata": {},
   "outputs": [],
   "source": [
    "olmp_filt = olmp[(olmp['Season'] == 'Summer') & (olmp['Year'] >= 1980)]\n",
    "data_filt = olmp_filt.drop_duplicates('ID')\n",
    "\n",
    "plot_data = olmp_filt['Year'].value_counts().sort_index()"
   ]
  },
  {
   "cell_type": "code",
   "execution_count": 25,
   "metadata": {},
   "outputs": [
    {
     "data": {
      "text/plain": [
       "<Axes: xlabel='Year'>"
      ]
     },
     "execution_count": 25,
     "metadata": {},
     "output_type": "execute_result"
    },
    {
     "data": {
      "image/png": "[encoded data removed]",
      "text/plain": [
       "<Figure size 400x300 with 1 Axes>"
      ]
     },
     "metadata": {},
     "output_type": "display_data"
    }
   ],
   "source": [
    "# линейный график\n",
    "plot_data.plot(figsize=(4, 3))"
   ]
  },
  {
   "cell_type": "code",
   "execution_count": 26,
   "metadata": {},
   "outputs": [
    {
     "data": {
      "text/plain": [
       "<Axes: xlabel='Year'>"
      ]
     },
     "execution_count": 26,
     "metadata": {},
     "output_type": "execute_result"
    },
    {
     "data": {
      "image/png": "[encoded data removed]",
      "text/plain": [
       "<Figure size 400x300 with 1 Axes>"
      ]
     },
     "metadata": {},
     "output_type": "display_data"
    }
   ],
   "source": [
    "# столбчатая диаграмма\n",
    "plot_data.plot(kind='bar', figsize=(4, 3))"
   ]
  },
  {
   "cell_type": "code",
   "execution_count": 27,
   "metadata": {},
   "outputs": [
    {
     "data": {
      "text/plain": [
       "<Axes: ylabel='count'>"
      ]
     },
     "execution_count": 27,
     "metadata": {},
     "output_type": "execute_result"
    },
    {
     "data": {
      "image/png": "[encoded data removed]",
      "text/plain": [
       "<Figure size 400x300 with 1 Axes>"
      ]
     },
     "metadata": {},
     "output_type": "display_data"
    }
   ],
   "source": [
    "# круговая диаграмма\n",
    "plot_data.plot(kind='pie', figsize=(4, 3))"
   ]
  },
  {
   "cell_type": "code",
   "execution_count": 28,
   "metadata": {},
   "outputs": [
    {
     "data": {
      "text/plain": [
       "<Axes: ylabel='Frequency'>"
      ]
     },
     "execution_count": 28,
     "metadata": {},
     "output_type": "execute_result"
    },
    {
     "data": {
      "image/png": "[encoded data removed]",
      "text/plain": [
       "<Figure size 400x300 with 1 Axes>"
      ]
     },
     "metadata": {},
     "output_type": "display_data"
    }
   ],
   "source": [
    "# гистограмма\n",
    "plot_data.plot(kind='hist', figsize=(4, 3))"
   ]
  },
  {
   "cell_type": "markdown",
   "metadata": {},
   "source": [
    "### Задание 13\n",
    "\n",
    "Вам дан график динамики процентов атлетов, завоевавших золотые медали, к общему количеству участников от страны на зимних Олимпиадах с 2002 по 2014 год. Отметьте все верные утверждения:"
   ]
  },
  {
   "cell_type": "code",
   "execution_count": 38,
   "metadata": {},
   "outputs": [],
   "source": [
    "# Код ниже предназначен лишь для отрисовки графика. Но для интереса можете посмотреть\n",
    "\n",
    "def get_gold_percent_data(data_filt, noc):\n",
    "    data_filt_noc = data_filt[data_filt['NOC'] == noc]\n",
    "    data_filt_noc_gold = data_filt_noc[data_filt_noc['Medal']=='Gold']\n",
    "\n",
    "    # группируем по году и считаем число уникальных атлетов\n",
    "    unique_athletes_by_year = data_filt_noc.groupby('Year')['ID'].nunique()\n",
    "    unique_athletes_gold_by_year = data_filt_noc_gold.groupby('Year')['ID'].nunique()\n",
    "\n",
    "    # находим процент атлетов, завоевавших золотые медали, к общему количеству участников от страны\n",
    "    athletes_percent = 100 * unique_athletes_gold_by_year / unique_athletes_by_year\n",
    "\n",
    "    return athletes_percent"
   ]
  },
  {
   "cell_type": "code",
   "execution_count": 39,
   "metadata": {},
   "outputs": [],
   "source": [
    "olmp_filt = olmp[(olmp['Season']=='Winter') & (olmp['Year'] >= 2002) & (olmp['Year'] <= 2014)]\n",
    "\n",
    "olmp_filt_usa = get_gold_percent_data(olmp_filt, 'USA')\n",
    "olmp_filt_rus = get_gold_percent_data(olmp_filt, 'RUS')\n",
    "olmp_filt_chn = get_gold_percent_data(olmp_filt, 'CHN')"
   ]
  },
  {
   "cell_type": "code",
   "execution_count": 47,
   "metadata": {},
   "outputs": [
    {
     "data": {
      "image/png": "[encoded data removed]",
      "text/plain": [
       "<Figure size 640x480 with 1 Axes>"
      ]
     },
     "metadata": {},
     "output_type": "display_data"
    }
   ],
   "source": [
    "import matplotlib.pyplot as plt\n",
    "\n",
    "olmp_filt_chn.plot(label='CHN')\n",
    "olmp_filt_usa.plot(label='USA')\n",
    "olmp_filt_rus.plot(label='RUS')\n",
    "\n",
    "plt.ylim(0, 15)\n",
    "plt.legend();"
   ]
  },
  {
   "cell_type": "markdown",
   "metadata": {},
   "source": [
    "- *В 2006 году Россия (RUS) завоевала 9 золотых медалей* \n",
    "    - **Нет**. На графике мы видим лишь процентное соотношение тех, кто получил золотые медали к тем, кто их не получил. Более того, на графике отображена только зимняя олимпиада\n",
    "- *Не было такой Олимпиады, на которой все представленные страны завоевали равные доли золотых медалей*\n",
    "    - **Да**. Мы не видим года, когда все три графика пересекались бы по оси OY. Стоит помнить, что это пересечение должно быть строго над годом проведения олимпиады, т.к. год здесь - категориальный признак.\n",
    "- *В 2010 году процент атлетов из Китая (CHN) завоевавших золотые был наибольший, по сравнению с остальными странами*\n",
    "    - **Да**. У Китая он составлял ~7%, а у друних стран - ~5% и ~3% \n",
    "- *Динамика процента золотых медалей у атлетов из США (USA) менялась меньше по сравнению с другими странами*\n",
    "    - **Да**, этот график менее всего \"колеблется\""
   ]
  }
 ],
 "metadata": {
  "kernelspec": {
   "display_name": "data-analysis",
   "language": "python",
   "name": "python3"
  },
  "language_info": {
   "codemirror_mode": {
    "name": "ipython",
    "version": 3
   },
   "file_extension": ".py",
   "mimetype": "text/x-python",
   "name": "python",
   "nbconvert_exporter": "python",
   "pygments_lexer": "ipython3",
   "version": "3.12.4"
  }
 },
 "nbformat": 4,
 "nbformat_minor": 2
}
