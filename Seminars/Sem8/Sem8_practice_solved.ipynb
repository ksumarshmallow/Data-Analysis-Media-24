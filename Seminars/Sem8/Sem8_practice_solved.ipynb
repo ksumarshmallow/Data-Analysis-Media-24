{
 "cells": [
  {
   "cell_type": "markdown",
   "metadata": {},
   "source": [
    "# **Практика. Семинар 8. Корреляция**\n",
    "\n",
    "#### <i>Малкова Ксения, Преподаватель ФКН НИУ ВШЭ, kemalkova@hse.ru</i>"
   ]
  },
  {
   "cell_type": "markdown",
   "metadata": {},
   "source": [
    "Работаем с датасэтом по игрокам **FIFA23** [FIFA2023_el.csv](https://github.com/ksumarshmallow/Data-Analysis-Media-24/blob/main/data/FIFA2023_el.csv)\n",
    "\n",
    "- `Full name` - полное имя\n",
    "- `Value(in Euro)` - стоимость игрока (млн. евро)\n",
    "- `Overall` - общий рейтинг игрока\n",
    "- `Reactions` - оценка реакции игрока\n",
    "- `Dribbling Total` - оценка владения мячом\n",
    "- `Passing Total` - оценка количества и точности передач\n",
    "- `Positions Played` - позиция на которой чаще всего играет футболист (фактическая)\n",
    "- `Best Position` - позиция на которой у игрока наилучшие показатели\n",
    "- `Nationality` - национальность игрока\n",
    "- `Club Name` - клуб за который играет футболист\n",
    "- `Position check` - если Positions Played совпадает с Best Position, то 1, иначе 0 "
   ]
  },
  {
   "cell_type": "code",
   "execution_count": 2,
   "metadata": {},
   "outputs": [
    {
     "data": {
      "text/html": [
       "<div>\n",
       "<style scoped>\n",
       "    .dataframe tbody tr th:only-of-type {\n",
       "        vertical-align: middle;\n",
       "    }\n",
       "\n",
       "    .dataframe tbody tr th {\n",
       "        vertical-align: top;\n",
       "    }\n",
       "\n",
       "    .dataframe thead th {\n",
       "        text-align: right;\n",
       "    }\n",
       "</style>\n",
       "<table border=\"1\" class=\"dataframe\">\n",
       "  <thead>\n",
       "    <tr style=\"text-align: right;\">\n",
       "      <th></th>\n",
       "      <th>Full Name</th>\n",
       "      <th>Value(in Euro)</th>\n",
       "      <th>Overall</th>\n",
       "      <th>Reactions</th>\n",
       "      <th>Dribbling Total</th>\n",
       "      <th>Passing Total</th>\n",
       "      <th>Positions Played</th>\n",
       "      <th>Best Position</th>\n",
       "      <th>Nationality</th>\n",
       "      <th>Club Name</th>\n",
       "      <th>Position check</th>\n",
       "    </tr>\n",
       "  </thead>\n",
       "  <tbody>\n",
       "    <tr>\n",
       "      <th>0</th>\n",
       "      <td>Lionel Messi</td>\n",
       "      <td>17.804495</td>\n",
       "      <td>91</td>\n",
       "      <td>92</td>\n",
       "      <td>94</td>\n",
       "      <td>90</td>\n",
       "      <td>RW</td>\n",
       "      <td>CAM</td>\n",
       "      <td>Argentina</td>\n",
       "      <td>Paris Saint-Germain</td>\n",
       "      <td>0</td>\n",
       "    </tr>\n",
       "    <tr>\n",
       "      <th>1</th>\n",
       "      <td>Karim Benzema</td>\n",
       "      <td>17.974394</td>\n",
       "      <td>91</td>\n",
       "      <td>92</td>\n",
       "      <td>87</td>\n",
       "      <td>83</td>\n",
       "      <td>CF,ST</td>\n",
       "      <td>CF</td>\n",
       "      <td>France</td>\n",
       "      <td>Real Madrid CF</td>\n",
       "      <td>0</td>\n",
       "    </tr>\n",
       "    <tr>\n",
       "      <th>2</th>\n",
       "      <td>Robert Lewandowski</td>\n",
       "      <td>18.246327</td>\n",
       "      <td>91</td>\n",
       "      <td>93</td>\n",
       "      <td>86</td>\n",
       "      <td>79</td>\n",
       "      <td>ST</td>\n",
       "      <td>ST</td>\n",
       "      <td>Poland</td>\n",
       "      <td>FC Barcelona</td>\n",
       "      <td>1</td>\n",
       "    </tr>\n",
       "    <tr>\n",
       "      <th>3</th>\n",
       "      <td>Kevin De Bruyne</td>\n",
       "      <td>18.493001</td>\n",
       "      <td>91</td>\n",
       "      <td>91</td>\n",
       "      <td>87</td>\n",
       "      <td>93</td>\n",
       "      <td>CM,CAM</td>\n",
       "      <td>CM</td>\n",
       "      <td>Belgium</td>\n",
       "      <td>Manchester City</td>\n",
       "      <td>0</td>\n",
       "    </tr>\n",
       "    <tr>\n",
       "      <th>4</th>\n",
       "      <td>Kylian Mbappé</td>\n",
       "      <td>19.065163</td>\n",
       "      <td>91</td>\n",
       "      <td>93</td>\n",
       "      <td>92</td>\n",
       "      <td>80</td>\n",
       "      <td>ST,LW</td>\n",
       "      <td>ST</td>\n",
       "      <td>France</td>\n",
       "      <td>Paris Saint-Germain</td>\n",
       "      <td>0</td>\n",
       "    </tr>\n",
       "  </tbody>\n",
       "</table>\n",
       "</div>"
      ],
      "text/plain": [
       "            Full Name  Value(in Euro)  Overall  Reactions  Dribbling Total  \\\n",
       "0        Lionel Messi       17.804495       91         92               94   \n",
       "1       Karim Benzema       17.974394       91         92               87   \n",
       "2  Robert Lewandowski       18.246327       91         93               86   \n",
       "3     Kevin De Bruyne       18.493001       91         91               87   \n",
       "4       Kylian Mbappé       19.065163       91         93               92   \n",
       "\n",
       "   Passing Total Positions Played Best Position Nationality  \\\n",
       "0             90               RW           CAM   Argentina   \n",
       "1             83            CF,ST            CF      France   \n",
       "2             79               ST            ST      Poland   \n",
       "3             93           CM,CAM            CM     Belgium   \n",
       "4             80            ST,LW            ST      France   \n",
       "\n",
       "             Club Name  Position check  \n",
       "0  Paris Saint-Germain               0  \n",
       "1       Real Madrid CF               0  \n",
       "2         FC Barcelona               1  \n",
       "3      Manchester City               0  \n",
       "4  Paris Saint-Germain               0  "
      ]
     },
     "execution_count": 2,
     "metadata": {},
     "output_type": "execute_result"
    }
   ],
   "source": [
    "import pandas as pd\n",
    "data = pd.read_csv('../../data/FIFA2023_el.csv')\n",
    "data.head()"
   ]
  },
  {
   "cell_type": "markdown",
   "metadata": {},
   "source": [
    "## Задание 1\n",
    "Будем считать, что выбросами считаются наблюдения, которые отличаются от среднего на 2 стандартных отклонения и более. Определите, сколько игроков НЕ считаются выбросами по признаку `Value(in Euro)`."
   ]
  },
  {
   "cell_type": "code",
   "execution_count": 3,
   "metadata": {},
   "outputs": [
    {
     "data": {
      "text/plain": [
       "(17376, 11)"
      ]
     },
     "execution_count": 3,
     "metadata": {},
     "output_type": "execute_result"
    }
   ],
   "source": [
    "low_border = data['Value(in Euro)'].mean() - data['Value(in Euro)'].std() * 2\n",
    "up_border = data['Value(in Euro)'].mean() + data['Value(in Euro)'].std() * 2\n",
    "\n",
    "data_filt = data[(data['Value(in Euro)'] > low_border) & (data['Value(in Euro)'] < up_border)]\n",
    "data_filt.shape"
   ]
  },
  {
   "cell_type": "markdown",
   "metadata": {},
   "source": [
    "**Ответ:** 17376"
   ]
  },
  {
   "cell_type": "markdown",
   "metadata": {},
   "source": [
    "## Задание 2\n",
    "Укажите между какими признаками самая сильная прямая корреляция.\n",
    "\n"
   ]
  },
  {
   "cell_type": "markdown",
   "metadata": {},
   "source": [
    "![[image]](data:image/png;base64,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)"
   ]
  },
  {
   "cell_type": "markdown",
   "metadata": {},
   "source": [
    "**Ответ:** A"
   ]
  },
  {
   "cell_type": "markdown",
   "metadata": {},
   "source": [
    "## Задание 3\n",
    "Выберите какой из графиков предыдущего задания визуализирует зависимость `Passing Total` и `Reactions`"
   ]
  },
  {
   "cell_type": "code",
   "execution_count": 4,
   "metadata": {},
   "outputs": [
    {
     "data": {
      "text/plain": [
       "<Axes: xlabel='Passing Total', ylabel='Reactions'>"
      ]
     },
     "execution_count": 4,
     "metadata": {},
     "output_type": "execute_result"
    },
    {
     "data": {
      "image/png": "[encoded data removed]",
      "text/plain": [
       "<Figure size 640x480 with 1 Axes>"
      ]
     },
     "metadata": {},
     "output_type": "display_data"
    }
   ],
   "source": [
    "data_filt.plot('Passing Total', 'Reactions', kind='scatter')"
   ]
  },
  {
   "cell_type": "markdown",
   "metadata": {},
   "source": [
    "**Ответ:** B"
   ]
  },
  {
   "cell_type": "markdown",
   "metadata": {},
   "source": [
    "## Задание 4\n",
    "Среди признаков `Overall`, `Dribbling Total`, `Nationality`,  выберите два, между которыми можно рассчитать интерпретируемый коэффициент корреляции Пирсона. В ответ запишите найденное значение корреляции. Ответ округлите до двух знаков.\n",
    "\n"
   ]
  },
  {
   "cell_type": "code",
   "execution_count": 5,
   "metadata": {},
   "outputs": [
    {
     "data": {
      "text/plain": [
       "Full Name            object\n",
       "Value(in Euro)      float64\n",
       "Overall               int64\n",
       "Reactions             int64\n",
       "Dribbling Total       int64\n",
       "Passing Total         int64\n",
       "Positions Played     object\n",
       "Best Position        object\n",
       "Nationality          object\n",
       "Club Name            object\n",
       "Position check        int64\n",
       "dtype: object"
      ]
     },
     "execution_count": 5,
     "metadata": {},
     "output_type": "execute_result"
    }
   ],
   "source": [
    "data_filt.dtypes"
   ]
  },
  {
   "cell_type": "markdown",
   "metadata": {},
   "source": [
    "Интерпретируемый коэффициент корреляции Пирсона можно рассчитать только между числовыми признаками."
   ]
  },
  {
   "cell_type": "code",
   "execution_count": 7,
   "metadata": {},
   "outputs": [
    {
     "data": {
      "text/html": [
       "<div>\n",
       "<style scoped>\n",
       "    .dataframe tbody tr th:only-of-type {\n",
       "        vertical-align: middle;\n",
       "    }\n",
       "\n",
       "    .dataframe tbody tr th {\n",
       "        vertical-align: top;\n",
       "    }\n",
       "\n",
       "    .dataframe thead th {\n",
       "        text-align: right;\n",
       "    }\n",
       "</style>\n",
       "<table border=\"1\" class=\"dataframe\">\n",
       "  <thead>\n",
       "    <tr style=\"text-align: right;\">\n",
       "      <th></th>\n",
       "      <th>Overall</th>\n",
       "      <th>Dribbling Total</th>\n",
       "    </tr>\n",
       "  </thead>\n",
       "  <tbody>\n",
       "    <tr>\n",
       "      <th>Overall</th>\n",
       "      <td>1.00</td>\n",
       "      <td>0.62</td>\n",
       "    </tr>\n",
       "    <tr>\n",
       "      <th>Dribbling Total</th>\n",
       "      <td>0.62</td>\n",
       "      <td>1.00</td>\n",
       "    </tr>\n",
       "  </tbody>\n",
       "</table>\n",
       "</div>"
      ],
      "text/plain": [
       "                 Overall  Dribbling Total\n",
       "Overall             1.00             0.62\n",
       "Dribbling Total     0.62             1.00"
      ]
     },
     "execution_count": 7,
     "metadata": {},
     "output_type": "execute_result"
    }
   ],
   "source": [
    "data_filt[['Overall', 'Dribbling Total']].corr().round(2)"
   ]
  },
  {
   "cell_type": "markdown",
   "metadata": {},
   "source": [
    "**Ответ:** 0.62"
   ]
  },
  {
   "cell_type": "markdown",
   "metadata": {},
   "source": [
    "## Задание 5\n",
    "Выберите все верные утверждения про значение корреляции, полученное в предыдущем задании\n",
    "- При увеличении одного признака, второй скорее всего уменьшится\n",
    "- **Между признаками скорее всего существует линейная взаимосвязь**\n",
    "- Один признак влияет на другой\n",
    "- **При увеличении одного признака, второй скорее всего увеличится**"
   ]
  },
  {
   "cell_type": "markdown",
   "metadata": {},
   "source": [
    "## Задание 6\n",
    "Постройте корреляционную матрицу. Укажите признак, который имеет самую слабую прямую корреляцию с признаком `Value(in Euro)`. "
   ]
  },
  {
   "cell_type": "code",
   "execution_count": 8,
   "metadata": {},
   "outputs": [
    {
     "data": {
      "text/html": [
       "<div>\n",
       "<style scoped>\n",
       "    .dataframe tbody tr th:only-of-type {\n",
       "        vertical-align: middle;\n",
       "    }\n",
       "\n",
       "    .dataframe tbody tr th {\n",
       "        vertical-align: top;\n",
       "    }\n",
       "\n",
       "    .dataframe thead th {\n",
       "        text-align: right;\n",
       "    }\n",
       "</style>\n",
       "<table border=\"1\" class=\"dataframe\">\n",
       "  <thead>\n",
       "    <tr style=\"text-align: right;\">\n",
       "      <th></th>\n",
       "      <th>Value(in Euro)</th>\n",
       "      <th>Overall</th>\n",
       "      <th>Reactions</th>\n",
       "      <th>Dribbling Total</th>\n",
       "      <th>Passing Total</th>\n",
       "      <th>Position check</th>\n",
       "    </tr>\n",
       "  </thead>\n",
       "  <tbody>\n",
       "    <tr>\n",
       "      <th>Value(in Euro)</th>\n",
       "      <td>1.00</td>\n",
       "      <td>0.86</td>\n",
       "      <td>0.70</td>\n",
       "      <td>0.58</td>\n",
       "      <td>0.54</td>\n",
       "      <td>-0.12</td>\n",
       "    </tr>\n",
       "    <tr>\n",
       "      <th>Overall</th>\n",
       "      <td>0.86</td>\n",
       "      <td>1.00</td>\n",
       "      <td>0.84</td>\n",
       "      <td>0.62</td>\n",
       "      <td>0.65</td>\n",
       "      <td>-0.05</td>\n",
       "    </tr>\n",
       "    <tr>\n",
       "      <th>Reactions</th>\n",
       "      <td>0.70</td>\n",
       "      <td>0.84</td>\n",
       "      <td>1.00</td>\n",
       "      <td>0.52</td>\n",
       "      <td>0.56</td>\n",
       "      <td>-0.09</td>\n",
       "    </tr>\n",
       "    <tr>\n",
       "      <th>Dribbling Total</th>\n",
       "      <td>0.58</td>\n",
       "      <td>0.62</td>\n",
       "      <td>0.52</td>\n",
       "      <td>1.00</td>\n",
       "      <td>0.82</td>\n",
       "      <td>-0.29</td>\n",
       "    </tr>\n",
       "    <tr>\n",
       "      <th>Passing Total</th>\n",
       "      <td>0.54</td>\n",
       "      <td>0.65</td>\n",
       "      <td>0.56</td>\n",
       "      <td>0.82</td>\n",
       "      <td>1.00</td>\n",
       "      <td>-0.29</td>\n",
       "    </tr>\n",
       "    <tr>\n",
       "      <th>Position check</th>\n",
       "      <td>-0.12</td>\n",
       "      <td>-0.05</td>\n",
       "      <td>-0.09</td>\n",
       "      <td>-0.29</td>\n",
       "      <td>-0.29</td>\n",
       "      <td>1.00</td>\n",
       "    </tr>\n",
       "  </tbody>\n",
       "</table>\n",
       "</div>"
      ],
      "text/plain": [
       "                 Value(in Euro)  Overall  Reactions  Dribbling Total  \\\n",
       "Value(in Euro)             1.00     0.86       0.70             0.58   \n",
       "Overall                    0.86     1.00       0.84             0.62   \n",
       "Reactions                  0.70     0.84       1.00             0.52   \n",
       "Dribbling Total            0.58     0.62       0.52             1.00   \n",
       "Passing Total              0.54     0.65       0.56             0.82   \n",
       "Position check            -0.12    -0.05      -0.09            -0.29   \n",
       "\n",
       "                 Passing Total  Position check  \n",
       "Value(in Euro)            0.54           -0.12  \n",
       "Overall                   0.65           -0.05  \n",
       "Reactions                 0.56           -0.09  \n",
       "Dribbling Total           0.82           -0.29  \n",
       "Passing Total             1.00           -0.29  \n",
       "Position check           -0.29            1.00  "
      ]
     },
     "execution_count": 8,
     "metadata": {},
     "output_type": "execute_result"
    }
   ],
   "source": [
    "data_filt.corr(numeric_only=True).round(2)"
   ]
  },
  {
   "cell_type": "markdown",
   "metadata": {},
   "source": [
    "**Ответ:** Poition check"
   ]
  },
  {
   "cell_type": "code",
   "execution_count": null,
   "metadata": {},
   "outputs": [],
   "source": []
  }
 ],
 "metadata": {
  "kernelspec": {
   "display_name": "data-analysis",
   "language": "python",
   "name": "python3"
  },
  "language_info": {
   "codemirror_mode": {
    "name": "ipython",
    "version": 3
   },
   "file_extension": ".py",
   "mimetype": "text/x-python",
   "name": "python",
   "nbconvert_exporter": "python",
   "pygments_lexer": "ipython3",
   "version": "3.12.4"
  }
 },
 "nbformat": 4,
 "nbformat_minor": 2
}
