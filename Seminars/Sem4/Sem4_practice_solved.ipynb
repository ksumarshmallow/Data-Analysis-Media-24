{
 "cells": [
  {
   "cell_type": "markdown",
   "metadata": {},
   "source": [
    "# Семинар 4 - практика. Группировка"
   ]
  },
  {
   "cell_type": "markdown",
   "metadata": {},
   "source": [
    "Анализируем датасет с информацией об атлетах участвовавших в Олимпийских играх (**olymp.csv**)\n",
    "\n",
    "Данные содержат следующие признаки:\n",
    "- **`ID`** - уникальный номер спортсмена\n",
    "- **`Name`** - имя атлета\n",
    "- **`Sex`** - пол (мужской - M,  женский - F)\n",
    "- **`Age`** - возраст атлета\n",
    "- **`Height`** - рост (в см)\n",
    "- **`Weight`** - вес (в кг)\n",
    "- **`Team`** - cтрана\n",
    "- **`NOC`** - код страны от Олимпийского комитета (3 буквы)\n",
    "- **`Games`** - год и сезон Олимпийских игр\n",
    "- **`Year`** - год Олимпийских игр\n",
    "- **`Season`** - сезон (Зимние - Winter,  Лето - Summer)\n",
    "- **`City`** - город проведения Олимпийских игр\n",
    "- **`Sport`** - спортивная дисциплина\n",
    "- **`Event`** - категория спортивной дисциплины\n",
    "- **`Medal`** - достоинство медали (Золото - Gold, Серебро - Silver, Бронза - Bronze, Без медали - NaN)\n"
   ]
  },
  {
   "cell_type": "code",
   "execution_count": 1,
   "metadata": {},
   "outputs": [],
   "source": [
    "import pandas as pd\n",
    "\n",
    "# определите свой путь к таблице\n",
    "olmp = pd.read_csv('../../data/olymp.csv')"
   ]
  },
  {
   "cell_type": "markdown",
   "metadata": {},
   "source": [
    "## Задание 1. \n",
    "\n",
    "Найдите год проведения Олимпиады, в который средний возраст атлетов был минимальный\n",
    "\n",
    "**Решение**\n",
    "- Сгруппируйте данные: \n",
    "    - столбец группировки - год/игра (**Year**/**Games**), \n",
    "    - столбец агрегирования - возраст (**Age**), \n",
    "    - метод агрегирования - среднее\n",
    "- Отсортируйте данные по возрастанию с помощью `.sort_values()`"
   ]
  },
  {
   "cell_type": "code",
   "execution_count": 2,
   "metadata": {},
   "outputs": [
    {
     "data": {
      "text/plain": [
       "Games\n",
       "1984 Winter    23.443241\n",
       "1896 Summer    23.580645\n",
       "1980 Winter    23.656160\n",
       "1980 Summer    23.704354\n",
       "1976 Winter    23.739459\n",
       "Name: Age, dtype: float64"
      ]
     },
     "execution_count": 2,
     "metadata": {},
     "output_type": "execute_result"
    }
   ],
   "source": [
    "olmp.groupby(['Games'])['Age'].mean().sort_values().head()"
   ]
  },
  {
   "cell_type": "markdown",
   "metadata": {},
   "source": [
    "**Ответ**: 1984"
   ]
  },
  {
   "cell_type": "markdown",
   "metadata": {},
   "source": [
    "## Задание 2\n",
    "\n",
    "Какой вид спорта (**Sport**) является самым многочисленным с точки зрения количества уникальных атлетов, принявших в нем участие?"
   ]
  },
  {
   "cell_type": "code",
   "execution_count": 3,
   "metadata": {},
   "outputs": [
    {
     "data": {
      "text/plain": [
       "Sport\n",
       "Aeronautics          1\n",
       "Basque Pelota        2\n",
       "Roque                4\n",
       "Racquets             7\n",
       "Croquet             10\n",
       "                 ...  \n",
       "Cycling           5819\n",
       "Football          6161\n",
       "Rowing            7687\n",
       "Swimming          8765\n",
       "Athletics        22071\n",
       "Name: ID, Length: 66, dtype: int64"
      ]
     },
     "execution_count": 3,
     "metadata": {},
     "output_type": "execute_result"
    }
   ],
   "source": [
    "olmp.groupby(['Sport'])['ID'].nunique().sort_values()"
   ]
  },
  {
   "cell_type": "markdown",
   "metadata": {},
   "source": [
    "## Задание 3\n",
    "\n",
    "Выясните, атлеты из какой страны (**Team**) завоевали наибольшее количество золотых медалей на Зимней Олимпиаде 1984 года\n",
    "\n",
    "**Решение**\n",
    "- Сделайте фильтрацию и оставьте только атлетов завоевавших золотые медали на Зимней Олимпиаде 1984 года\n",
    "- На отфильтрованных данных постройте сводную таблицу: \n",
    "    - Индекс - названия стран (**Team**)\n",
    "    - Колонка - **ID** атлета\n",
    "    - В ячейках - уникальное количество атлетов из каждой страны. \n",
    "\n",
    "    Чтобы получить количество уникальных атлетов воспользуйтесь методом агрегирования `.nunique()`\n",
    "- Отсортируйте данные по убыванию"
   ]
  },
  {
   "cell_type": "code",
   "execution_count": 4,
   "metadata": {},
   "outputs": [
    {
     "data": {
      "text/plain": [
       "Team\n",
       "Soviet Union       27\n",
       "Norway              6\n",
       "East Germany        6\n",
       "Sweden              5\n",
       "United States       4\n",
       "East Germany-1      4\n",
       "East Germany-2      2\n",
       "Soviet Union-1      2\n",
       "Italy               2\n",
       "Finland             2\n",
       "Great Britain-1     2\n",
       "West Germany-1      2\n",
       "Switzerland         2\n",
       "Canada              1\n",
       "West Germany        1\n",
       "Name: ID, dtype: int64"
      ]
     },
     "execution_count": 4,
     "metadata": {},
     "output_type": "execute_result"
    }
   ],
   "source": [
    "olmp_filt = olmp[(olmp['Games'] == '1984 Winter') & (olmp['Medal']=='Gold')]\n",
    "olmp_filt.groupby('Team')['ID'].nunique().sort_values(ascending=False)"
   ]
  },
  {
   "cell_type": "markdown",
   "metadata": {},
   "source": [
    "## Задание 4\n",
    "\n",
    "Определите минимальное значение разницы между максимальным ростом и весом атлетов из определенной страны. В ответ запишите положительное целое число\n",
    "\n",
    "**Решение**\n",
    "- Создайте сводную таблицу: \n",
    "    - в рядах - короткое название страны (**NOC**), \n",
    "    - в колонках - рост (**Height**) и вес (**Weight**) атлетов\n",
    "    - в ячейках - **максимальное** значение роста и веса по каждой стране\n",
    "- В получившейся сводной таблице создайте новый признак, который будет рассчитан как разность между ростом и весом (по модулю)\n",
    "- По новому признаку найдите минимум"
   ]
  },
  {
   "cell_type": "code",
   "execution_count": 5,
   "metadata": {},
   "outputs": [
    {
     "data": {
      "text/plain": [
       "NOC\n",
       "GUM    21.0\n",
       "ESP    23.0\n",
       "POL    25.0\n",
       "NRU    27.0\n",
       "VEN    28.0\n",
       "Name: w_h_diff, dtype: float64"
      ]
     },
     "execution_count": 5,
     "metadata": {},
     "output_type": "execute_result"
    }
   ],
   "source": [
    "olmp_4 = olmp.groupby('NOC')[['Weight', 'Height']].max()\n",
    "olmp_4['w_h_diff'] = abs(olmp_4['Weight'] - olmp_4['Height'])\n",
    "\n",
    "olmp_4['w_h_diff'].sort_values().head() #.iloc[0]"
   ]
  },
  {
   "cell_type": "markdown",
   "metadata": {},
   "source": [
    "## Задание 5\n",
    "\n",
    "Определите количество атлетов из Советского Союза (**Soviet Union**) чья доля успеха на олимпиаде не менее 0.5. \n",
    "\n",
    "Показатель доли успеха рассчитывается как частное (количество завоеванных медалей к количеству категорий спортивных дисциплин, в которых они приняли участие).\n",
    "\n",
    "**Решение**\n",
    "- Сделайте фильтрацию и оставьте только атлетов из Советского союза\n",
    "- По отфильтрованным данным создайте сводную таблицу: в рядах - уникальный номер атлета (**ID**), в столбцах -  категория спортивной дисциплины (**Event**) и медали (**Medal**), в ячейках - количество категорий спортивных дисциплин и количество медалей для каждого атлета. Сохраните сгруппированные данные в новую переменную\n",
    "- В получившемся датафрейме создайте новый признак доля успеха\n",
    "- Сделайте фильтрацию по новому признаку"
   ]
  },
  {
   "cell_type": "code",
   "execution_count": 6,
   "metadata": {},
   "outputs": [
    {
     "data": {
      "text/plain": [
       "1453"
      ]
     },
     "execution_count": 6,
     "metadata": {},
     "output_type": "execute_result"
    }
   ],
   "source": [
    "olmp_soviet = olmp[olmp['Team'] == 'Soviet Union']\n",
    "olmp_soviet_grouped = olmp_soviet.groupby('ID')[['Event', 'Medal']].count()\n",
    "olmp_soviet_grouped['success'] = olmp_soviet_grouped['Medal'] / olmp_soviet_grouped['Event']\n",
    "\n",
    "sum(olmp_soviet_grouped['success'] >= 0.5)"
   ]
  },
  {
   "cell_type": "markdown",
   "metadata": {},
   "source": [
    "## Задание 6\n",
    "\n",
    "Определите количество Олимпиад, на которых доля женщин больше, чем средняя доля их участия в целом\n",
    "\n",
    "**Решение**\n",
    "- Создайте сводную таблицу и сохраните ее в отдельную переменную: \n",
    "    - в рядах - олимпиада (**Games**), \n",
    "    - в колонке - уникальный номер атлета (**ID**), \n",
    "    - в ячейках  - количество уникальных атлетов в каждому году. \n",
    "- Создайте сводную таблицу только по женщинам: в рядах - олимпиада (**Games**), в колонке - уникальный номер атлетки (**ID**), в ячейках  - количество уникальных атлеток в каждому году. Сохраните сводную таблицу в переменную\n",
    "- Найдите долю женщин в каждому году (найдите частное сводных таблиц). Получившуюся таблицу сохраните в новую переменную\n",
    "- Сделайте фильтрацию и оставьте, только те Олимпиады, где доля женщин больше чем среднее значение доли их участия\n",
    "- Посчитайте количество таких Олимпиад с метода `.count()`"
   ]
  },
  {
   "cell_type": "code",
   "execution_count": 7,
   "metadata": {},
   "outputs": [
    {
     "data": {
      "text/plain": [
       "np.int64(24)"
      ]
     },
     "execution_count": 7,
     "metadata": {},
     "output_type": "execute_result"
    }
   ],
   "source": [
    "olmp_games = olmp.groupby('Games')['ID'].nunique()\n",
    "olmp_games_woman = olmp[olmp['Sex']=='F'].groupby('Games')['ID'].nunique()\n",
    "\n",
    "woman_frac = olmp_games_woman / olmp_games\n",
    "woman_frac_mean = woman_frac.mean()\n",
    "\n",
    "olmp_games[woman_frac > woman_frac_mean].count()"
   ]
  },
  {
   "cell_type": "markdown",
   "metadata": {},
   "source": [
    "## Задание 7\n",
    "\n",
    "Создайте функцию `medal_weight`, которая на основании столбца **Medal**, определяет количество очков за медали разного достоинства:\n",
    "- 3 - Gold\n",
    "- 2 - Silver\n",
    "- 1 - Bronze\n",
    "- 0 - NaN"
   ]
  },
  {
   "cell_type": "code",
   "execution_count": 8,
   "metadata": {},
   "outputs": [],
   "source": [
    "def medal_weight(x):\n",
    "    if x == 'Gold':\n",
    "        return 3\n",
    "    elif x == 'Silver':\n",
    "        return 2\n",
    "    elif x == 'Bronze':\n",
    "        return 1\n",
    "    else:\n",
    "        return x"
   ]
  },
  {
   "cell_type": "markdown",
   "metadata": {},
   "source": [
    "## Задание 8\n",
    "\n",
    "Датафрейм лежит в переменной **olmp**. Примените функцию созданную в прошлом задании к столбцу **Medal** и создайте новый признак **Medal_score** в датафрейме **olmp**."
   ]
  },
  {
   "cell_type": "code",
   "execution_count": 9,
   "metadata": {},
   "outputs": [],
   "source": [
    "olmp['Medal_score'] = olmp['Medal'].apply(medal_weight)"
   ]
  },
  {
   "cell_type": "markdown",
   "metadata": {},
   "source": [
    "## Задание 9\n",
    "\n",
    "Определите тип данных с точки зрения анализа в новом столбце **Medal_score**\n",
    "- категориальный порядковый\n",
    "- числовой непрерывный\n",
    "- категориальный номинальный\n",
    "- **числовой дискретный**\n",
    "- категориальный номинальный бинарный"
   ]
  },
  {
   "cell_type": "markdown",
   "metadata": {},
   "source": [
    "## Задание 10\n",
    "\n",
    "Узнайте имя атлета (**Name**), который получил суммарно больше всего очков по новому столбцу **Medal_score**"
   ]
  },
  {
   "cell_type": "code",
   "execution_count": 10,
   "metadata": {},
   "outputs": [
    {
     "data": {
      "text/plain": [
       "Name\n",
       "Michael Fred Phelps, II               77.0\n",
       "Larysa Semenivna Latynina (Diriy-)    41.0\n",
       "Nikolay Yefimovich Andrianov          34.0\n",
       "Ole Einar Bjrndalen                   33.0\n",
       "Paavo Johannes Nurmi                  33.0\n",
       "                                      ... \n",
       "Hugo Dionisio Chila Ayov               0.0\n",
       "Hugo De Grauwe                         0.0\n",
       "Hugo Daini                             0.0\n",
       "Hugo Cuna                              0.0\n",
       "Hugo Gonzlez de Oliveira               0.0\n",
       "Name: Medal_score, Length: 134732, dtype: float64"
      ]
     },
     "execution_count": 10,
     "metadata": {},
     "output_type": "execute_result"
    }
   ],
   "source": [
    "olmp.groupby('Name')['Medal_score'].sum().sort_values(ascending=False)"
   ]
  },
  {
   "cell_type": "code",
   "execution_count": null,
   "metadata": {},
   "outputs": [],
   "source": []
  }
 ],
 "metadata": {
  "kernelspec": {
   "display_name": "data-analysis",
   "language": "python",
   "name": "python3"
  },
  "language_info": {
   "codemirror_mode": {
    "name": "ipython",
    "version": 3
   },
   "file_extension": ".py",
   "mimetype": "text/x-python",
   "name": "python",
   "nbconvert_exporter": "python",
   "pygments_lexer": "ipython3",
   "version": "3.12.4"
  }
 },
 "nbformat": 4,
 "nbformat_minor": 2
}
