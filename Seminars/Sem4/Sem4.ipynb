{
  "cells": [
    {
      "cell_type": "markdown",
      "metadata": {
        "id": "5QfJvqqOM0jq"
      },
      "source": [
        "# **Семинар 4. Группировка**\n",
        "\n",
        "#### <i>Малкова Ксения, Преподаватель ФКН НИУ ВШЭ</i>"
      ]
    },
    {
      "cell_type": "markdown",
      "metadata": {},
      "source": [
        "На данном семинаре мы познакомимся с **группировкой** данных. Группировка позволяет объединять данные по определенным признакам и применять к ним различные **агрегирующие функции**. \n",
        "\n",
        "Представьте, что мы провели онлайн-опрос среди пользователей по оценке качества контента. Теперь мы хотим узнать, *как оценки различаются по возрастным категориям*. С помощью **группировки** данных мы можем *разделить ответы на группы по возрастам* и посчитать *среднее значение оценки в каждой группе*. Кроме того, группировка позволяет выявить минимальные и максимальные оценки в каждой категории, а также другие статистики, чтобы лучше понять, как разные возрастные группы реагируют на контент.\n",
        "\n",
        "Но обо всем - по порядку! 🤗"
      ]
    },
    {
      "cell_type": "markdown",
      "metadata": {},
      "source": [
        "Мы будем работать с привычным датасетом `Titanics.csv`, и для начала, также привычным образом, импортируем `pandas` и прочитаем таблицу. "
      ]
    },
    {
      "cell_type": "code",
      "execution_count": 1,
      "metadata": {
        "colab": {
          "base_uri": "https://localhost:8080/",
          "height": 206
        },
        "id": "rNsFoClWM3TL",
        "outputId": "1a7d0740-3a2b-44a5-dc9f-865e128c25d7"
      },
      "outputs": [
        {
          "data": {
            "text/html": [
              "<div>\n",
              "<style scoped>\n",
              "    .dataframe tbody tr th:only-of-type {\n",
              "        vertical-align: middle;\n",
              "    }\n",
              "\n",
              "    .dataframe tbody tr th {\n",
              "        vertical-align: top;\n",
              "    }\n",
              "\n",
              "    .dataframe thead th {\n",
              "        text-align: right;\n",
              "    }\n",
              "</style>\n",
              "<table border=\"1\" class=\"dataframe\">\n",
              "  <thead>\n",
              "    <tr style=\"text-align: right;\">\n",
              "      <th></th>\n",
              "      <th>PassengerId</th>\n",
              "      <th>Survived</th>\n",
              "      <th>Pclass</th>\n",
              "      <th>Name</th>\n",
              "      <th>Sex</th>\n",
              "      <th>Age</th>\n",
              "      <th>SibSp</th>\n",
              "      <th>Parch</th>\n",
              "      <th>Ticket</th>\n",
              "      <th>Fare</th>\n",
              "      <th>Cabin</th>\n",
              "      <th>Embarked</th>\n",
              "    </tr>\n",
              "  </thead>\n",
              "  <tbody>\n",
              "    <tr>\n",
              "      <th>0</th>\n",
              "      <td>1</td>\n",
              "      <td>0</td>\n",
              "      <td>3</td>\n",
              "      <td>Braund, Mr. Owen Harris</td>\n",
              "      <td>male</td>\n",
              "      <td>22.0</td>\n",
              "      <td>1</td>\n",
              "      <td>0</td>\n",
              "      <td>A/5 21171</td>\n",
              "      <td>7.2500</td>\n",
              "      <td>NaN</td>\n",
              "      <td>S</td>\n",
              "    </tr>\n",
              "    <tr>\n",
              "      <th>1</th>\n",
              "      <td>2</td>\n",
              "      <td>1</td>\n",
              "      <td>1</td>\n",
              "      <td>Cumings, Mrs. John Bradley (Florence Briggs Th...</td>\n",
              "      <td>female</td>\n",
              "      <td>38.0</td>\n",
              "      <td>1</td>\n",
              "      <td>0</td>\n",
              "      <td>PC 17599</td>\n",
              "      <td>71.2833</td>\n",
              "      <td>C85</td>\n",
              "      <td>C</td>\n",
              "    </tr>\n",
              "    <tr>\n",
              "      <th>2</th>\n",
              "      <td>3</td>\n",
              "      <td>1</td>\n",
              "      <td>3</td>\n",
              "      <td>Heikkinen, Miss. Laina</td>\n",
              "      <td>female</td>\n",
              "      <td>26.0</td>\n",
              "      <td>0</td>\n",
              "      <td>0</td>\n",
              "      <td>STON/O2. 3101282</td>\n",
              "      <td>7.9250</td>\n",
              "      <td>NaN</td>\n",
              "      <td>S</td>\n",
              "    </tr>\n",
              "    <tr>\n",
              "      <th>3</th>\n",
              "      <td>4</td>\n",
              "      <td>1</td>\n",
              "      <td>1</td>\n",
              "      <td>Futrelle, Mrs. Jacques Heath (Lily May Peel)</td>\n",
              "      <td>female</td>\n",
              "      <td>35.0</td>\n",
              "      <td>1</td>\n",
              "      <td>0</td>\n",
              "      <td>113803</td>\n",
              "      <td>53.1000</td>\n",
              "      <td>C123</td>\n",
              "      <td>S</td>\n",
              "    </tr>\n",
              "    <tr>\n",
              "      <th>4</th>\n",
              "      <td>5</td>\n",
              "      <td>0</td>\n",
              "      <td>3</td>\n",
              "      <td>Allen, Mr. William Henry</td>\n",
              "      <td>male</td>\n",
              "      <td>35.0</td>\n",
              "      <td>0</td>\n",
              "      <td>0</td>\n",
              "      <td>373450</td>\n",
              "      <td>8.0500</td>\n",
              "      <td>NaN</td>\n",
              "      <td>S</td>\n",
              "    </tr>\n",
              "  </tbody>\n",
              "</table>\n",
              "</div>"
            ],
            "text/plain": [
              "   PassengerId  Survived  Pclass  \\\n",
              "0            1         0       3   \n",
              "1            2         1       1   \n",
              "2            3         1       3   \n",
              "3            4         1       1   \n",
              "4            5         0       3   \n",
              "\n",
              "                                                Name     Sex   Age  SibSp  \\\n",
              "0                            Braund, Mr. Owen Harris    male  22.0      1   \n",
              "1  Cumings, Mrs. John Bradley (Florence Briggs Th...  female  38.0      1   \n",
              "2                             Heikkinen, Miss. Laina  female  26.0      0   \n",
              "3       Futrelle, Mrs. Jacques Heath (Lily May Peel)  female  35.0      1   \n",
              "4                           Allen, Mr. William Henry    male  35.0      0   \n",
              "\n",
              "   Parch            Ticket     Fare Cabin Embarked  \n",
              "0      0         A/5 21171   7.2500   NaN        S  \n",
              "1      0          PC 17599  71.2833   C85        C  \n",
              "2      0  STON/O2. 3101282   7.9250   NaN        S  \n",
              "3      0            113803  53.1000  C123        S  \n",
              "4      0            373450   8.0500   NaN        S  "
            ]
          },
          "execution_count": 1,
          "metadata": {},
          "output_type": "execute_result"
        }
      ],
      "source": [
        "import pandas as pd\n",
        "df = pd.read_csv('https://raw.githubusercontent.com/aaparshina/FCI_22-23_data_analysis/main/data/titanic.csv')\n",
        "df.head()"
      ]
    },
    {
      "cell_type": "markdown",
      "metadata": {
        "id": "7a336fb3"
      },
      "source": [
        "## **Методы агрегирования данных**"
      ]
    },
    {
      "cell_type": "markdown",
      "metadata": {
        "id": "6c6766b6"
      },
      "source": [
        "**Функция агрегирования (аггрегации)** - это функция, которая принимает несколько отдельных значений и возвращает одно обобщенное (аггрегированное) значение.\n",
        "\n",
        "**Основные функции аггрегации**\n",
        "\n",
        "|     | Описание                                                 | Синтаксис в pandas                     |\n",
        "|-------------|----------------------------------------------------------|----------------------------------------|\n",
        "| **Среднее**    | Вычисляет среднее значение группы чисел.                | `df['column_name'].mean()`            |\n",
        "| **Сумма**     | Складывает все значения группы чисел.                        | `df['column_name'].sum()`             |\n",
        "| **Минимум**     | Находит наименьшее значение группы чисел.                   | `df['column_name'].min()`             |\n",
        "| **Максимум**     | Находит наибольшее значение группы чисел.                   | `df['column_name'].max()`             |\n",
        "| **Количество**   | Подсчитывает количество непропущенных значений в группе чисел.              | `df['column_name'].count()`           |\n",
        "| **Количество уникальных значений** | Подсчитывает количество уникальных значений в группе.   | `df['column_name'].nunique()`         |"
      ]
    },
    {
      "cell_type": "markdown",
      "metadata": {},
      "source": [
        "❗️Разные функции агрегации предназначены для **различных типов данных**. Поэтому перед использованием той или иной функции обязательно убедитесь, что выбранный вами признак соответствует необходимому типу данных для применения этой функции\n",
        "- **Числовые непрерывные** признаки - `mean()`, `min()`, `max()`, `sum()`, `count()`\n",
        "- **Числовые дискретные** признаки - `mean()`, `min()`, `max()`, `sum()`, `count()`, `nunique()`\n",
        "- **Категориальные** (номинальные и порядковые) признаки - `count()`, `nunique()`"
      ]
    },
    {
      "cell_type": "code",
      "execution_count": 2,
      "metadata": {},
      "outputs": [
        {
          "name": "stdout",
          "output_type": "stream",
          "text": [
            "<class 'pandas.core.frame.DataFrame'>\n",
            "RangeIndex: 891 entries, 0 to 890\n",
            "Data columns (total 12 columns):\n",
            " #   Column       Non-Null Count  Dtype  \n",
            "---  ------       --------------  -----  \n",
            " 0   PassengerId  891 non-null    int64  \n",
            " 1   Survived     891 non-null    int64  \n",
            " 2   Pclass       891 non-null    int64  \n",
            " 3   Name         891 non-null    object \n",
            " 4   Sex          891 non-null    object \n",
            " 5   Age          714 non-null    float64\n",
            " 6   SibSp        891 non-null    int64  \n",
            " 7   Parch        891 non-null    int64  \n",
            " 8   Ticket       891 non-null    object \n",
            " 9   Fare         891 non-null    float64\n",
            " 10  Cabin        204 non-null    object \n",
            " 11  Embarked     889 non-null    object \n",
            "dtypes: float64(2), int64(5), object(5)\n",
            "memory usage: 83.7+ KB\n"
          ]
        }
      ],
      "source": [
        "# Посмотрим на наши данные\n",
        "df.info()"
      ]
    },
    {
      "cell_type": "markdown",
      "metadata": {
        "id": "017c15e6"
      },
      "source": [
        "### 1. **Среднее значение** - `.mean()`\n",
        "- Вычисляется для **числовых** (как непрерывных, так и дискретных) признаков"
      ]
    },
    {
      "cell_type": "code",
      "execution_count": 3,
      "metadata": {
        "colab": {
          "base_uri": "https://localhost:8080/"
        },
        "id": "4ad7d717",
        "outputId": "0e20bb29-c247-444e-8bcc-e50ff8d3a0f7"
      },
      "outputs": [
        {
          "data": {
            "text/plain": [
              "np.float64(32.204207968574636)"
            ]
          },
          "execution_count": 3,
          "metadata": {},
          "output_type": "execute_result"
        }
      ],
      "source": [
        "df['Fare'].mean()"
      ]
    },
    {
      "cell_type": "markdown",
      "metadata": {
        "id": "f069583e"
      },
      "source": [
        "### 2. **Сумма** - `.sum()`\n",
        "- Вычисляется для **числовых** (как непрерывных, так и дискретных) признаков"
      ]
    },
    {
      "cell_type": "code",
      "execution_count": 4,
      "metadata": {
        "colab": {
          "base_uri": "https://localhost:8080/"
        },
        "id": "51501079",
        "outputId": "c3651523-6aff-49b9-d845-4c8596235b63"
      },
      "outputs": [
        {
          "data": {
            "text/plain": [
              "np.float64(28693.9493)"
            ]
          },
          "execution_count": 4,
          "metadata": {},
          "output_type": "execute_result"
        }
      ],
      "source": [
        "df['Fare'].sum()"
      ]
    },
    {
      "cell_type": "markdown",
      "metadata": {
        "id": "d43af7d0"
      },
      "source": [
        "### 3. **Минимум и максимум** - `.min()` and `.max()`\n",
        "- Вычисляется для **числовых** (как непрерывных, так и дискретных) признаков"
      ]
    },
    {
      "cell_type": "code",
      "execution_count": 5,
      "metadata": {
        "colab": {
          "base_uri": "https://localhost:8080/"
        },
        "id": "4d7061b8",
        "outputId": "9549fb89-6c81-4d98-e1a9-0002843f2511"
      },
      "outputs": [
        {
          "data": {
            "text/plain": [
              "np.float64(0.0)"
            ]
          },
          "execution_count": 5,
          "metadata": {},
          "output_type": "execute_result"
        }
      ],
      "source": [
        "df['Fare'].min()"
      ]
    },
    {
      "cell_type": "code",
      "execution_count": 6,
      "metadata": {
        "colab": {
          "base_uri": "https://localhost:8080/"
        },
        "id": "71980495",
        "outputId": "10b9a90a-f40f-46ad-b56c-ad542424cec2"
      },
      "outputs": [
        {
          "data": {
            "text/plain": [
              "np.float64(512.3292)"
            ]
          },
          "execution_count": 6,
          "metadata": {},
          "output_type": "execute_result"
        }
      ],
      "source": [
        "df['Fare'].max()"
      ]
    },
    {
      "cell_type": "markdown",
      "metadata": {
        "id": "9810be78"
      },
      "source": [
        "### 4. **Общее количество** - `.count()`\n",
        "- Вычисляется для любых признаков\n",
        "- Возвращает количество **не**пропущенных значений"
      ]
    },
    {
      "cell_type": "code",
      "execution_count": 7,
      "metadata": {
        "colab": {
          "base_uri": "https://localhost:8080/"
        },
        "id": "3f8d643e",
        "outputId": "8acfab62-7a26-4790-9203-cac6aafb04bf"
      },
      "outputs": [
        {
          "data": {
            "text/plain": [
              "np.int64(204)"
            ]
          },
          "execution_count": 7,
          "metadata": {},
          "output_type": "execute_result"
        }
      ],
      "source": [
        "df['Cabin'].count()"
      ]
    },
    {
      "cell_type": "code",
      "execution_count": 8,
      "metadata": {},
      "outputs": [
        {
          "data": {
            "text/plain": [
              "np.int64(891)"
            ]
          },
          "execution_count": 8,
          "metadata": {},
          "output_type": "execute_result"
        }
      ],
      "source": [
        "df['Fare'].count()"
      ]
    },
    {
      "cell_type": "markdown",
      "metadata": {
        "id": "7dI9vBweOFGA"
      },
      "source": [
        "### 5. **Количество уникальных значений** - `.nunique()`\n",
        "- Вычисляется для **числовых дискретных** и **категориальных** признаков\n",
        "- Если призутствуют пропущенные значения - также считаются за уникальное значение. Например, если признак содержит три категории 'one', 'second' и 'third', но есть еще и пропущенные значения, `.nunique()` вернет 4."
      ]
    },
    {
      "cell_type": "markdown",
      "metadata": {},
      "source": [
        "Сами уникальные значения можно посмотреть с помощью функции аггрегации `unique()`:"
      ]
    },
    {
      "cell_type": "code",
      "execution_count": 9,
      "metadata": {
        "colab": {
          "base_uri": "https://localhost:8080/"
        },
        "id": "ELssm1FDnPqN",
        "outputId": "97eb04f1-1bb2-4b51-c9d3-fd9351523f3f"
      },
      "outputs": [
        {
          "data": {
            "text/plain": [
              "array([3, 1, 2])"
            ]
          },
          "execution_count": 9,
          "metadata": {},
          "output_type": "execute_result"
        }
      ],
      "source": [
        "df['Pclass'].unique()"
      ]
    },
    {
      "cell_type": "markdown",
      "metadata": {},
      "source": [
        "Их количество (длина массива, возвращаемого `unique()`) и отображается в `nunique()`:"
      ]
    },
    {
      "cell_type": "code",
      "execution_count": 10,
      "metadata": {
        "colab": {
          "base_uri": "https://localhost:8080/"
        },
        "id": "7K5wD89-ODTV",
        "outputId": "c802cd4b-dec8-4808-8463-c4d1ee56d615"
      },
      "outputs": [
        {
          "data": {
            "text/plain": [
              "3"
            ]
          },
          "execution_count": 10,
          "metadata": {},
          "output_type": "execute_result"
        }
      ],
      "source": [
        "df['Pclass'].nunique()"
      ]
    },
    {
      "cell_type": "markdown",
      "metadata": {
        "id": "2DO9mFddOjf0"
      },
      "source": [
        "## **Группировка данных** `.groupby()`"
      ]
    },
    {
      "cell_type": "markdown",
      "metadata": {},
      "source": [
        "Группировка данных с помощью `.groupby()` - метод, который позволяет **объединить** данные по одному или нескольким признакам и далее выполнить **аггрегацию** на этих группах (функциями агреггации, о которых говорили выше). \n",
        "\n",
        "По сути, метод `.groupby()` разбивает датафрейм на группы в зависимости от значений в одном или нескольких столбцах. После группировки по значениям можно применять различные функции агрегации, такие как `mean`, `sum`, `count` и другие, к каждой из групп."
      ]
    },
    {
      "cell_type": "markdown",
      "metadata": {
        "id": "EBfY5y2hOxWy"
      },
      "source": [
        "### 1. Простейшая группировка: одна функция аггрегации и один столбец интереса"
      ]
    },
    {
      "cell_type": "markdown",
      "metadata": {
        "id": "ZaUsJdDQO2-q"
      },
      "source": [
        "Для выполнения простейшей группировки данных с применением одной функции агрегации в pandas используется следующий синтаксис:\n",
        "\n",
        "``` python\n",
        "    датафрейм.groupby(\"столбец группировки\")[\"столбец интереса\"].метод агрегирования()\n",
        "```\n",
        "\n",
        "**Столбец группировки** — признак, по которому мы разбиваем нашу изначальную таблицу на несколько групп (категорий). Обычно это *категориальные переменные*, такие как пол, город или класс.\n",
        "\n",
        "**Столбец интереса** — признак, статистику по которому мы хотим посчитать внутри каждой группы. Под статистикой здесь подразумевается результат любой из функций агрегации, таких как среднее, сумма или количество. Это могут быть как *количественные переменные* (например, возраст или доход), так и *категориальные переменные* (например, вид медали)."
      ]
    },
    {
      "cell_type": "markdown",
      "metadata": {},
      "source": [
        "#### Пример"
      ]
    },
    {
      "cell_type": "markdown",
      "metadata": {
        "id": "TBup21kfPIHD"
      },
      "source": [
        "**Задача** - найти среднюю цену за билет в разных портах. \n",
        "\n",
        "В такой формулировке:\n",
        "- Столбец группировки - порт (`Embarked`)\n",
        "- Столбец интереcа - цена за билет (`Fare`)\n",
        "- Функция аггрегации (статистика) - среднее значение (`mean()`)"
      ]
    },
    {
      "cell_type": "code",
      "execution_count": 11,
      "metadata": {
        "colab": {
          "base_uri": "https://localhost:8080/"
        },
        "id": "wrS7kxyfOfVR",
        "outputId": "9efb777d-00f1-42ba-f0c7-5b2dcdf5569a"
      },
      "outputs": [
        {
          "data": {
            "text/plain": [
              "Embarked\n",
              "C    59.954144\n",
              "Q    13.276030\n",
              "S    27.079812\n",
              "Name: Fare, dtype: float64"
            ]
          },
          "execution_count": 11,
          "metadata": {},
          "output_type": "execute_result"
        }
      ],
      "source": [
        "df.groupby(\"Embarked\")[\"Fare\"].mean()"
      ]
    },
    {
      "cell_type": "markdown",
      "metadata": {
        "id": "Gic8Zz6YPpL1"
      },
      "source": [
        "### 2. Группировка: одна функция аггрегации и несколько столбцов интереса"
      ]
    },
    {
      "cell_type": "markdown",
      "metadata": {
        "id": "hN_dh8iVPpL2"
      },
      "source": [
        "Когда необходимо получить агрегированные значения для **нескольких столбцов интереса**, синтаксис будет выглядеть так:\n",
        "\n",
        "``` python\n",
        "    датафрейм.groupby(\"столбец группировки\")[[\"ст. интереса 1\", \"ст. интереса 2\", ...]].метод агрегирования()\n",
        "```"
      ]
    },
    {
      "cell_type": "markdown",
      "metadata": {},
      "source": [
        "#### Пример\n",
        "**Задача** - найти среднюю цену за билет и средний возраст людей в разных портах.\n",
        "\n",
        "В такой формулировке:\n",
        "- Столбец группировки - порт (`Embarked`)\n",
        "- Столбцы интереcа - цена за билет (`Fare`) и возраст людей (`Age`)\n",
        "- Функция аггрегации (статистика) - среднее значение (`mean()`)"
      ]
    },
    {
      "cell_type": "code",
      "execution_count": 12,
      "metadata": {
        "colab": {
          "base_uri": "https://localhost:8080/",
          "height": 175
        },
        "id": "oC0UmWdoPpL3",
        "outputId": "08fd95b9-9dd6-4aef-cc4c-d1b5c7c1efd4"
      },
      "outputs": [
        {
          "data": {
            "text/html": [
              "<div>\n",
              "<style scoped>\n",
              "    .dataframe tbody tr th:only-of-type {\n",
              "        vertical-align: middle;\n",
              "    }\n",
              "\n",
              "    .dataframe tbody tr th {\n",
              "        vertical-align: top;\n",
              "    }\n",
              "\n",
              "    .dataframe thead th {\n",
              "        text-align: right;\n",
              "    }\n",
              "</style>\n",
              "<table border=\"1\" class=\"dataframe\">\n",
              "  <thead>\n",
              "    <tr style=\"text-align: right;\">\n",
              "      <th></th>\n",
              "      <th>Fare</th>\n",
              "      <th>Age</th>\n",
              "    </tr>\n",
              "    <tr>\n",
              "      <th>Embarked</th>\n",
              "      <th></th>\n",
              "      <th></th>\n",
              "    </tr>\n",
              "  </thead>\n",
              "  <tbody>\n",
              "    <tr>\n",
              "      <th>C</th>\n",
              "      <td>59.954144</td>\n",
              "      <td>30.814769</td>\n",
              "    </tr>\n",
              "    <tr>\n",
              "      <th>Q</th>\n",
              "      <td>13.276030</td>\n",
              "      <td>28.089286</td>\n",
              "    </tr>\n",
              "    <tr>\n",
              "      <th>S</th>\n",
              "      <td>27.079812</td>\n",
              "      <td>29.445397</td>\n",
              "    </tr>\n",
              "  </tbody>\n",
              "</table>\n",
              "</div>"
            ],
            "text/plain": [
              "               Fare        Age\n",
              "Embarked                      \n",
              "C         59.954144  30.814769\n",
              "Q         13.276030  28.089286\n",
              "S         27.079812  29.445397"
            ]
          },
          "execution_count": 12,
          "metadata": {},
          "output_type": "execute_result"
        }
      ],
      "source": [
        "df.groupby('Embarked')[['Fare', 'Age']].mean()"
      ]
    },
    {
      "cell_type": "markdown",
      "metadata": {
        "id": "YcGttcCRSXe7"
      },
      "source": [
        "### 3. Группировка: несколько функций аггрегации"
      ]
    },
    {
      "cell_type": "markdown",
      "metadata": {
        "id": "TU5uJclYAd_x"
      },
      "source": [
        "В pandas также можно применять *несколько методов агрегации* одновременно для одного столбца интереса:\n",
        "\n",
        "``` python\n",
        "    датафрейм.groupby(\"ст. группировки\")[\"ст. интереса\"].agg([\"метод 1\", \"метод 2\", ...])\n",
        "```"
      ]
    },
    {
      "cell_type": "markdown",
      "metadata": {},
      "source": [
        "#### Пример\n",
        "**Задача** - для каждого порта определить среднюю цену за билет и общую стоимость билетов среди пассажиров.\n",
        "\n",
        "В такой формулировке:\n",
        "- Столбец группировки - порт (`Embarked`)\n",
        "- Столбец интереcа - цена за билет (`Fare`)\n",
        "- Функции аггрегации (статистики) - среднее значение (`mean()`) и сумма (`sum()`)"
      ]
    },
    {
      "cell_type": "code",
      "execution_count": 13,
      "metadata": {
        "colab": {
          "base_uri": "https://localhost:8080/",
          "height": 175
        },
        "id": "ij4vU6TQRqQY",
        "outputId": "95dcb9b0-4b99-4870-f281-6ce82c827ac7"
      },
      "outputs": [
        {
          "data": {
            "text/html": [
              "<div>\n",
              "<style scoped>\n",
              "    .dataframe tbody tr th:only-of-type {\n",
              "        vertical-align: middle;\n",
              "    }\n",
              "\n",
              "    .dataframe tbody tr th {\n",
              "        vertical-align: top;\n",
              "    }\n",
              "\n",
              "    .dataframe thead th {\n",
              "        text-align: right;\n",
              "    }\n",
              "</style>\n",
              "<table border=\"1\" class=\"dataframe\">\n",
              "  <thead>\n",
              "    <tr style=\"text-align: right;\">\n",
              "      <th></th>\n",
              "      <th>mean</th>\n",
              "      <th>sum</th>\n",
              "    </tr>\n",
              "    <tr>\n",
              "      <th>Embarked</th>\n",
              "      <th></th>\n",
              "      <th></th>\n",
              "    </tr>\n",
              "  </thead>\n",
              "  <tbody>\n",
              "    <tr>\n",
              "      <th>C</th>\n",
              "      <td>59.954144</td>\n",
              "      <td>10072.2962</td>\n",
              "    </tr>\n",
              "    <tr>\n",
              "      <th>Q</th>\n",
              "      <td>13.276030</td>\n",
              "      <td>1022.2543</td>\n",
              "    </tr>\n",
              "    <tr>\n",
              "      <th>S</th>\n",
              "      <td>27.079812</td>\n",
              "      <td>17439.3988</td>\n",
              "    </tr>\n",
              "  </tbody>\n",
              "</table>\n",
              "</div>"
            ],
            "text/plain": [
              "               mean         sum\n",
              "Embarked                       \n",
              "C         59.954144  10072.2962\n",
              "Q         13.276030   1022.2543\n",
              "S         27.079812  17439.3988"
            ]
          },
          "execution_count": 13,
          "metadata": {},
          "output_type": "execute_result"
        }
      ],
      "source": [
        "df.groupby(\"Embarked\")[\"Fare\"].agg(['mean', 'sum'])"
      ]
    },
    {
      "cell_type": "markdown",
      "metadata": {},
      "source": [
        "# Пример задания из НЭ\n",
        "\n",
        "Тип - [**C3**](https://edu.hse.ru/course/view.php?id=198011#section-6)\n",
        "\n",
        "**Задание**\n",
        "\n",
        ">*Постройте сводную таблицу, где по строкам расположено количество спален (**bedrooms**), а по столбцам — среднее значение жилой площади (**sqft_living**) и среднее значение общей площади (**sqft_lot**) для каждого количества спален. В качестве ответа укажите, сколько спален в домах, где доля жилой площади от общей наибольшая (**sqft_living**/**sqft_lot**). Ответ округлите до двух знаков.*\n",
        "\n",
        "**Решение**\n",
        "1. **Группировка** - определяем, что такое столбец (-цы) интереса, столбец группировки и функция аггрегирования:\n",
        "    - *Столбец группировки* - то, что расположено по строкам, т.е. количество спален (**bedrooms**). Это категории (группы),  внутри которых будем считать какую-то статистика\n",
        "    - *Столбцы интереса* - то, что расположено по столбцам, т.е. жилая площадь (**sqft_living**) и общая площадь (**sqft_lot**)\n",
        "    - *Функция аггрегации* - среднее (`.mean()`)\n",
        "    \n",
        "    Сгруппированную таблицу сохраняем в отдельную переменную (не переопределяем изначальную таблицу!), т.к. в дальнейшем нам необходимо создать в ней новый признак\n",
        "2. **Создание нового признака** - в сгруппированной таблице из п.1 находим долю жилой площади от общей для каждой группы (для каждого количества спален **bedrooms**). Это будет новый признак (новый столбец) в сгреппированной таблице - называем как угодно (только не переопределяем существующие столбцы)\n",
        "3. **Сортировка** - сортируем по убыванию (`ascending=False`) сгруппированную таблицу из п.2 новому признаку и вытаскиваем количество спален из первой строчки. Это и есть количество спален, где доля жилой площади от общей наибольшая"
      ]
    },
    {
      "cell_type": "code",
      "execution_count": 1,
      "metadata": {},
      "outputs": [
        {
          "data": {
            "text/html": [
              "<div>\n",
              "<style scoped>\n",
              "    .dataframe tbody tr th:only-of-type {\n",
              "        vertical-align: middle;\n",
              "    }\n",
              "\n",
              "    .dataframe tbody tr th {\n",
              "        vertical-align: top;\n",
              "    }\n",
              "\n",
              "    .dataframe thead th {\n",
              "        text-align: right;\n",
              "    }\n",
              "</style>\n",
              "<table border=\"1\" class=\"dataframe\">\n",
              "  <thead>\n",
              "    <tr style=\"text-align: right;\">\n",
              "      <th></th>\n",
              "      <th>sqft_living</th>\n",
              "      <th>sqft_lot</th>\n",
              "      <th>sqft_frac</th>\n",
              "    </tr>\n",
              "    <tr>\n",
              "      <th>bedrooms</th>\n",
              "      <th></th>\n",
              "      <th></th>\n",
              "      <th></th>\n",
              "    </tr>\n",
              "  </thead>\n",
              "  <tbody>\n",
              "    <tr>\n",
              "      <th>9</th>\n",
              "      <td>3775.000000</td>\n",
              "      <td>5480.000000</td>\n",
              "      <td>0.688869</td>\n",
              "    </tr>\n",
              "    <tr>\n",
              "      <th>11</th>\n",
              "      <td>3000.000000</td>\n",
              "      <td>4960.000000</td>\n",
              "      <td>0.604839</td>\n",
              "    </tr>\n",
              "    <tr>\n",
              "      <th>8</th>\n",
              "      <td>3800.000000</td>\n",
              "      <td>8971.615385</td>\n",
              "      <td>0.423558</td>\n",
              "    </tr>\n",
              "    <tr>\n",
              "      <th>10</th>\n",
              "      <td>3706.666667</td>\n",
              "      <td>8859.666667</td>\n",
              "      <td>0.418375</td>\n",
              "    </tr>\n",
              "    <tr>\n",
              "      <th>33</th>\n",
              "      <td>1620.000000</td>\n",
              "      <td>6000.000000</td>\n",
              "      <td>0.270000</td>\n",
              "    </tr>\n",
              "    <tr>\n",
              "      <th>7</th>\n",
              "      <td>3974.210526</td>\n",
              "      <td>20840.552632</td>\n",
              "      <td>0.190696</td>\n",
              "    </tr>\n",
              "    <tr>\n",
              "      <th>5</th>\n",
              "      <td>3047.545284</td>\n",
              "      <td>16769.022486</td>\n",
              "      <td>0.181737</td>\n",
              "    </tr>\n",
              "    <tr>\n",
              "      <th>6</th>\n",
              "      <td>3284.341912</td>\n",
              "      <td>18586.930147</td>\n",
              "      <td>0.176702</td>\n",
              "    </tr>\n",
              "    <tr>\n",
              "      <th>4</th>\n",
              "      <td>2554.649666</td>\n",
              "      <td>16720.793374</td>\n",
              "      <td>0.152783</td>\n",
              "    </tr>\n",
              "    <tr>\n",
              "      <th>3</th>\n",
              "      <td>1805.837235</td>\n",
              "      <td>14414.790208</td>\n",
              "      <td>0.125277</td>\n",
              "    </tr>\n",
              "    <tr>\n",
              "      <th>2</th>\n",
              "      <td>1239.752899</td>\n",
              "      <td>12096.726087</td>\n",
              "      <td>0.102487</td>\n",
              "    </tr>\n",
              "    <tr>\n",
              "      <th>0</th>\n",
              "      <td>1707.846154</td>\n",
              "      <td>24141.307692</td>\n",
              "      <td>0.070744</td>\n",
              "    </tr>\n",
              "    <tr>\n",
              "      <th>1</th>\n",
              "      <td>884.613065</td>\n",
              "      <td>16285.673367</td>\n",
              "      <td>0.054318</td>\n",
              "    </tr>\n",
              "  </tbody>\n",
              "</table>\n",
              "</div>"
            ],
            "text/plain": [
              "          sqft_living      sqft_lot  sqft_frac\n",
              "bedrooms                                      \n",
              "9         3775.000000   5480.000000   0.688869\n",
              "11        3000.000000   4960.000000   0.604839\n",
              "8         3800.000000   8971.615385   0.423558\n",
              "10        3706.666667   8859.666667   0.418375\n",
              "33        1620.000000   6000.000000   0.270000\n",
              "7         3974.210526  20840.552632   0.190696\n",
              "5         3047.545284  16769.022486   0.181737\n",
              "6         3284.341912  18586.930147   0.176702\n",
              "4         2554.649666  16720.793374   0.152783\n",
              "3         1805.837235  14414.790208   0.125277\n",
              "2         1239.752899  12096.726087   0.102487\n",
              "0         1707.846154  24141.307692   0.070744\n",
              "1          884.613065  16285.673367   0.054318"
            ]
          },
          "execution_count": 1,
          "metadata": {},
          "output_type": "execute_result"
        }
      ],
      "source": [
        "import pandas as pd\n",
        "\n",
        "# 0. Читаем таблицу \n",
        "data = pd.read_csv('train2_C.csv')\n",
        "\n",
        "# 1. Группировка\n",
        "data_grouped = data.groupby('bedrooms')[['sqft_living', 'sqft_lot']].mean()\n",
        "\n",
        "# 2. Создание нового признака\n",
        "data_grouped['sqft_frac'] = data_grouped['sqft_living'] / data_grouped['sqft_lot']\n",
        "\n",
        "# 3. Сортировка\n",
        "data_grouped.sort_values('sqft_frac', ascending=False)"
      ]
    },
    {
      "cell_type": "markdown",
      "metadata": {},
      "source": [
        "**Ответ:** 9"
      ]
    }
  ],
  "metadata": {
    "colab": {
      "provenance": []
    },
    "kernelspec": {
      "display_name": "data-analysis",
      "language": "python",
      "name": "python3"
    },
    "language_info": {
      "codemirror_mode": {
        "name": "ipython",
        "version": 3
      },
      "file_extension": ".py",
      "mimetype": "text/x-python",
      "name": "python",
      "nbconvert_exporter": "python",
      "pygments_lexer": "ipython3",
      "version": "3.12.4"
    }
  },
  "nbformat": 4,
  "nbformat_minor": 0
}
