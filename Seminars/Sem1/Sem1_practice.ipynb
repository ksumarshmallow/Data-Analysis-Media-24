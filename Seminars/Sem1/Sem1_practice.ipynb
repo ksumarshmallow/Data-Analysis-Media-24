{
 "cells": [
  {
   "cell_type": "markdown",
   "metadata": {},
   "source": [
    "# Анализ данных на Python\n",
    "\n",
    "## Библиотека `Pandas`\n",
    "#### <i>Малкова Ксения, Преподаватель ФКН НИУ ВШЭ, kemalkova@hse.ru*</i>\n",
    "\n",
    "*Почты еще нет, но она в процессе создания :)"
   ]
  },
  {
   "cell_type": "markdown",
   "metadata": {},
   "source": [
    "### Практика "
   ]
  },
  {
   "cell_type": "markdown",
   "metadata": {},
   "source": [
    "Работаем с датасетом [Student Alcohol Consumption](https://www.kaggle.com/datasets/uciml/student-alcohol-consumption). Он содержит информацию о потреблении алкоголя студентами в Португалии и был собран для анализа взаимосвязи между социально-экономическими факторами и потреблением алкоголя среди студентов.\n",
    "\n",
    "**Что к чему:**\n",
    "1. **`school`**: Школа, в которой учится студент (\"GP\" — Gabriel Pereira, \"MS\" — Mousinho da Silveira)\n",
    "2. **`sex`**: Пол студента (\"F\" — женский, \"M\" — мужской)\n",
    "3. **`age`**: Возраст студента\n",
    "4. **`address`**: Место проживания (\"U\" — городской, \"R\" — сельский)\n",
    "5. **`famsize`**: Размер семьи (\"LE3\" — меньше или равно 3 людей в семье, \"GT3\" — больше 3)\n",
    "6. **`Pstatus`**: Статус родителей (\"T\" — живут вместе, \"A\" — раздельно)\n",
    "7. **`Medu`**: Уровень образования матери (0 - неизвестно, 1 - primary education (4th grade), 2 – 5th-9th grade, 3 – secondary education или 4 – higher education)\n",
    "8. **`Fedu`**: Уровень образования отца\n",
    "9. **`Mjob`**: Работа матери\n",
    "10. **`Fjob`**: Работа отца\n",
    "11. **`traveltime`**: Время на дорогу до школы (1 - <15 мин., 2 - 15-30 мин., 3 - 30 мин. - 1 час, или 4 - >1 часа)\n",
    "12. **`studytime`**: Время, затрачиваемое на учебу за неделю (1 - <2 часов, 2 - 2-5 часа, 3 - 5-10 часов, или 4 - >10 часов)\n",
    "13. **`failures`**: Количество заваленных предметов ($n$ если $1 \\leq n \\leq 3$, и 4, если $n \\geq 4$)\n",
    "14. **`higher`** - Хочет ли получать высшее образование \n",
    "15. **`internet`** - Есть ли интернет дома\n",
    "16. **`romantic`** - Есть ли вторая половинка\n",
    "17. **`famrel`** - Отношения с семьей (от 1 - очень плохие до 5 - отличные)\n",
    "18. **`freetime`** - Свободное время вне школы (от 1 - очень мало до 5 - очень много)\n",
    "19. **`Dalc`** - Частота употребления алкоголя в будние дни (от 1 - очень мало до 5 - очень много)\n",
    "20. **`Walc`** - Частота употребления алкоголя в выходные дни (от 1 - очень мало до 5 - очень много)\n",
    "21. **`health`** - Оценка состояния здоровья (от 1 - очень плохое до 5 - очень хорошее)\n",
    "22. **`absences`** - Количество пропущенных занятий (numeric: from 0 to 93)\n",
    "23. **`G1*`**: Оценка за первый квартал (от 0 до 20).\n",
    "24. **`G2`**: Оценка за второй квартал (от 0 до 20).\n",
    "25. **`G3`**: Оценка за год (от 0 до 20, итоговая оценка).\n",
    "\n",
    "*В Португалии используется 20-балльная система оценок, где 0 является самым низким баллом, а 20 — самым высоким. Обычно в образовательных учреждениях Португалии оценка 10 считается проходным баллом, а все, что выше, отражает степень успеваемости студента."
   ]
  },
  {
   "cell_type": "markdown",
   "metadata": {},
   "source": [
    "### Этап 1. Разминка"
   ]
  },
  {
   "cell_type": "markdown",
   "metadata": {},
   "source": [
    "0. Считайте датафрейм по этой ссылке: \n",
    "https://raw.githubusercontent.com/ksumarshmallow/Data-Analysis-Media-24/main/Seminars/Sem1/data/student-mat.csv\n",
    "\n",
    "(используйте библиотеку `Pandas`)"
   ]
  },
  {
   "cell_type": "code",
   "execution_count": 23,
   "metadata": {},
   "outputs": [],
   "source": [
    "# YOUR CODE HERE (ﾉ◕ヮ◕)ﾉ*:･ﾟ✧"
   ]
  },
  {
   "cell_type": "markdown",
   "metadata": {},
   "source": [
    "1. Выведите 10 первых наблюдений"
   ]
  },
  {
   "cell_type": "code",
   "execution_count": 24,
   "metadata": {},
   "outputs": [],
   "source": [
    "# YOUR CODE"
   ]
  },
  {
   "cell_type": "markdown",
   "metadata": {},
   "source": [
    "2. Выведите 15 последних наблюдений"
   ]
  },
  {
   "cell_type": "code",
   "execution_count": 25,
   "metadata": {},
   "outputs": [],
   "source": [
    "# YOUR CODE"
   ]
  },
  {
   "cell_type": "markdown",
   "metadata": {},
   "source": [
    "3. Выведите количество ячеек в датафрейме"
   ]
  },
  {
   "cell_type": "code",
   "execution_count": 26,
   "metadata": {},
   "outputs": [],
   "source": [
    "# YOUR CODE"
   ]
  },
  {
   "cell_type": "markdown",
   "metadata": {},
   "source": [
    "4. Выведите названия столбцов датафрейма"
   ]
  },
  {
   "cell_type": "code",
   "execution_count": 27,
   "metadata": {},
   "outputs": [],
   "source": [
    "# YOUR CODE"
   ]
  },
  {
   "cell_type": "markdown",
   "metadata": {},
   "source": [
    "5. Выведите общую информацию о датафрейме"
   ]
  },
  {
   "cell_type": "code",
   "execution_count": 28,
   "metadata": {},
   "outputs": [],
   "source": [
    "# YOUR CODE"
   ]
  },
  {
   "cell_type": "markdown",
   "metadata": {},
   "source": [
    "### Этап 2. Приступаем к работе"
   ]
  },
  {
   "cell_type": "markdown",
   "metadata": {},
   "source": [
    "1. Выведите столбец **`age`**"
   ]
  },
  {
   "cell_type": "code",
   "execution_count": 29,
   "metadata": {},
   "outputs": [],
   "source": [
    "# YOUR CODE HERE ✨(⌐■_■)"
   ]
  },
  {
   "cell_type": "markdown",
   "metadata": {},
   "source": [
    "2. Выведите столбцы **`Medu`** и **`Mjob`**"
   ]
  },
  {
   "cell_type": "code",
   "execution_count": 30,
   "metadata": {},
   "outputs": [],
   "source": [
    "# YOUR CODE"
   ]
  },
  {
   "cell_type": "markdown",
   "metadata": {},
   "source": [
    "3. Выведите наблюдения со 145 по 189 строку (по всем столбцам)"
   ]
  },
  {
   "cell_type": "code",
   "execution_count": 31,
   "metadata": {},
   "outputs": [],
   "source": [
    "# YOUR CODE"
   ]
  },
  {
   "cell_type": "markdown",
   "metadata": {},
   "source": [
    "4. Выведите каждое третье наблюдение со 84 по 121 строку (по всем столбцам)"
   ]
  },
  {
   "cell_type": "code",
   "execution_count": 32,
   "metadata": {},
   "outputs": [],
   "source": [
    "# YOUR CODE"
   ]
  },
  {
   "cell_type": "markdown",
   "metadata": {},
   "source": [
    "5. Выведите каждое четвёртое наблюдение с 21 по 43 строку по столбцу **`age`**"
   ]
  },
  {
   "cell_type": "code",
   "execution_count": 33,
   "metadata": {},
   "outputs": [],
   "source": [
    "# YOUR CODE"
   ]
  },
  {
   "cell_type": "markdown",
   "metadata": {},
   "source": [
    "### Этап 3. Фильтрация"
   ]
  },
  {
   "cell_type": "markdown",
   "metadata": {},
   "source": [
    "1. Выведите только парней"
   ]
  },
  {
   "cell_type": "code",
   "execution_count": 93,
   "metadata": {},
   "outputs": [],
   "source": [
    "# YOUR CODE HERE ╰(°▽°)╯"
   ]
  },
  {
   "cell_type": "markdown",
   "metadata": {},
   "source": [
    "2. Выведите только девушек в отношениях (колонка **`romantic`**)"
   ]
  },
  {
   "cell_type": "code",
   "execution_count": 94,
   "metadata": {},
   "outputs": [],
   "source": [
    "# YOUR CODE"
   ]
  },
  {
   "cell_type": "markdown",
   "metadata": {},
   "source": [
    "3. Выведите студентов меньше 16 лет (включительно), которые употребляют очень много алкоголя в неделю (колонка **`Walc`**, шкала от 0 до 5, где 1 - очень мало, 5 - очень много)"
   ]
  },
  {
   "cell_type": "code",
   "execution_count": 95,
   "metadata": {},
   "outputs": [],
   "source": [
    "# YOUR CODE"
   ]
  },
  {
   "cell_type": "markdown",
   "metadata": {},
   "source": [
    "4. Выведите студентов, у которых оба родителя имеют высшее образование (колонки **`Medu`** и **`Fedu`** соответственно, шкала от 0 до 4, где 4 - высшее образование), но которые сами не хотят получать высшее образование (колонка **`higher`**)"
   ]
  },
  {
   "cell_type": "code",
   "execution_count": 96,
   "metadata": {},
   "outputs": [],
   "source": [
    "# YOUR CODE"
   ]
  },
  {
   "cell_type": "markdown",
   "metadata": {},
   "source": [
    "5. Выведите студентов, которые хотят получать высшее образование, но любая из их оценок (**`G1`**, **`G2`** или **`G3`**) меньше 10"
   ]
  },
  {
   "cell_type": "code",
   "execution_count": 97,
   "metadata": {},
   "outputs": [],
   "source": [
    "# YOUR CODE"
   ]
  },
  {
   "cell_type": "markdown",
   "metadata": {},
   "source": [
    "### Этап 4. Сортировка"
   ]
  },
  {
   "cell_type": "markdown",
   "metadata": {},
   "source": [
    "1. Отсортируйте данные по финальной оценке (**`G3`**)"
   ]
  },
  {
   "cell_type": "code",
   "execution_count": 98,
   "metadata": {},
   "outputs": [],
   "source": [
    "# YOUR CODE HERE ฅ^•ﻌ•^ฅ"
   ]
  },
  {
   "cell_type": "markdown",
   "metadata": {},
   "source": [
    "2. Отсортируйте данные по финальной оценке по убыванию"
   ]
  },
  {
   "cell_type": "code",
   "execution_count": 99,
   "metadata": {},
   "outputs": [],
   "source": [
    "# YOUR CODE"
   ]
  },
  {
   "cell_type": "markdown",
   "metadata": {},
   "source": [
    "3. Отсортируйте данные сперва по финальной оценке (по убыванию), потом по частоте употребления алкоголя в неделю (по убыванию)"
   ]
  },
  {
   "cell_type": "code",
   "execution_count": 100,
   "metadata": {},
   "outputs": [],
   "source": [
    "# YOUR CODE"
   ]
  },
  {
   "cell_type": "markdown",
   "metadata": {},
   "source": [
    "4. Удалите дубликаты по переменной **`age`**"
   ]
  },
  {
   "cell_type": "code",
   "execution_count": 101,
   "metadata": {},
   "outputs": [],
   "source": [
    "# YOUR CODE"
   ]
  }
 ],
 "metadata": {
  "kernelspec": {
   "display_name": "Python 3",
   "language": "python",
   "name": "python3"
  },
  "language_info": {
   "codemirror_mode": {
    "name": "ipython",
    "version": 3
   },
   "file_extension": ".py",
   "mimetype": "text/x-python",
   "name": "python",
   "nbconvert_exporter": "python",
   "pygments_lexer": "ipython3",
   "version": "3.12.4"
  }
 },
 "nbformat": 4,
 "nbformat_minor": 2
}
