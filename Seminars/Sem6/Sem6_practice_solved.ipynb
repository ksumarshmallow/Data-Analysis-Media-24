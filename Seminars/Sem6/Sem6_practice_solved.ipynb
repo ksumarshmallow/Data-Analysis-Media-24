{
 "cells": [
  {
   "cell_type": "markdown",
   "metadata": {},
   "source": [
    "# **Семинар 6. Описательные статистики. Пропуски и выбросы.**\n",
    "\n",
    "#### <i>Малкова Ксения, Преподаватель ФКН НИУ ВШЭ, kemalkova@hse.ru</i>"
   ]
  },
  {
   "cell_type": "markdown",
   "metadata": {},
   "source": [
    "Анализируем датасет с информацией об атлетах участвовавших в Олимпийских играх (**olymp.csv**)\n",
    "\n",
    "Данные содержат следующие признаки:\n",
    "- **`ID`** - уникальный номер спортсмена\n",
    "- **`Name`** - имя атлета\n",
    "- **`Sex`** - пол (мужской - M,  женский - F)\n",
    "- **`Age`** - возраст атлета\n",
    "- **`Height`** - рост (в см)\n",
    "- **`Weight`** - вес (в кг)\n",
    "- **`Team`** - cтрана\n",
    "- **`NOC`** - код страны от Олимпийского комитета (3 буквы)\n",
    "- **`Games`** - год и сезон Олимпийских игр\n",
    "- **`Year`** - год Олимпийских игр\n",
    "- **`Season`** - сезон (Зимние - Winter,  Лето - Summer)\n",
    "- **`City`** - город проведения Олимпийских игр\n",
    "- **`Sport`** - спортивная дисциплина\n",
    "- **`Event`** - категория спортивной дисциплины\n",
    "- **`Medal`** - достоинство медали (Золото - Gold, Серебро - Silver, Бронза - Bronze, Без медали - NaN)\n"
   ]
  },
  {
   "cell_type": "code",
   "execution_count": 51,
   "metadata": {},
   "outputs": [],
   "source": [
    "import pandas as pd\n",
    "olmp = pd.read_csv('../../data/olymp.csv')"
   ]
  },
  {
   "cell_type": "markdown",
   "metadata": {},
   "source": [
    "# Задание 1\n",
    "\n",
    "Какие меры центральной тенденции и вариативности лучше подходят для оценки представленных признаков? \n",
    "\n",
    "| Признак | Описание | Кодировка | МЦТ | Мера разброса |\n",
    "| ------- | -------- | --------- | --- | ------------- | \n",
    "| **Name** | имя атлета | - | ? | ? |\n",
    "| **Sex** | пол | мужской (M), женский (F) | ? | ? |\n",
    "| **Sex** | пол | мужской (0), женский (1) | ? | ? |\n",
    "| **Height** | рост | см | ? | ? |\n",
    "| **Medal** | достоиноство медали | Золото (Gold), Серебро (Silver), Бронза (Bronze), Без медали (NaN) | ? | ? |\n",
    "| **Medal** | достоиноство медали | Золото (3), Серебро (2), Бронза (1), Без медали (0) | ? | ? |\n",
    "\n",
    "Варианты МЦТ:\n",
    "- Среднее\n",
    "- Мода\n",
    "- Медиана\n",
    "- Среднее, мода\n",
    "- Медиана, мода\n",
    "- Среднее, медиана, мода\n",
    "\n",
    "Варианты мер разброса:\n",
    "- Количество уникальных значений\n",
    "- Дисперсия, Размах, Интерквартильное расстояние"
   ]
  },
  {
   "cell_type": "markdown",
   "metadata": {},
   "source": [
    "**Решение**\n",
    "| Тип переменной | МЦТ | Мера разброса |\n",
    "| -------------- | --- | ------------- | \n",
    "| Числовая | Среднее, медиана, мода | Дисперсия, размах, интерквартильный размах |\n",
    "| Категориальная | Мода | Количество уникальных значений |\n",
    "| Бинарная | Мода и Среднее* | Количество уникальных значений |\n",
    "\n",
    "*Среднее можно рассчитать для бинарных переменных, если они закодированы 0 и 1."
   ]
  },
  {
   "cell_type": "markdown",
   "metadata": {},
   "source": [
    "**Ответ**\n",
    "| Признак | Описание | Кодировка | МЦТ | Мера разброса |\n",
    "| ------- | -------- | --------- | --- | ------------- | \n",
    "| **Name** | имя атлета | - | <font color=green>Мода</font> | <font color=green>Количество уникальных значений</font> |\n",
    "| **Sex** | пол | мужской (M), женский (F) | <font color=green>Мода | <font color=green>Количество уникальных значений</font> |\n",
    "| **Sex** | пол | мужской (0), женский (1) | <font color=green>Среднее, мода | <font color=green>Количество уникальных значений</font> |\n",
    "| **Height** | рост | см | <font color=green>Среднее, медиана, мода | <font color=green>Размах, интерквартильный размах, размах</font> |\n",
    "| **Medal** | достоинство медали | Золото (Gold), Серебро (Silver), Бронза (Bronze), Без медали (NaN) | <font color=green>Мода</font> | <font color=green>Количество уникальных значений</font> |\n",
    "| **Medal** | достоинство медали | Золото (3), Серебро (2), Бронза (1), Без медали (0) | <font color=green>Мода</font> | <font color=green>Количество уникальных значений</font> |\n"
   ]
  },
  {
   "cell_type": "markdown",
   "metadata": {},
   "source": [
    "# Задание 2\n",
    "Постройте гистограммы для роста (**Height**) и веса (**Weight**) атлетов. Отметьте верные утверждения:\n",
    "\n",
    "- В даных скорее всего есть атлеты, чей вес (Weight) экстремально большой\n",
    "- В даных скорее всего есть атлеты, чей вес (Weight) экстремально низкий\n",
    "- Среднее и медиана для роста (Height) практически совпадают\n",
    "- Распределение роста (Height) атлетов похоже на нормальное"
   ]
  },
  {
   "cell_type": "markdown",
   "metadata": {},
   "source": [
    "Распределение роста:"
   ]
  },
  {
   "cell_type": "code",
   "execution_count": 52,
   "metadata": {},
   "outputs": [
    {
     "data": {
      "text/plain": [
       "<Axes: ylabel='Frequency'>"
      ]
     },
     "execution_count": 52,
     "metadata": {},
     "output_type": "execute_result"
    },
    {
     "data": {
      "image/png": "[encoded data removed]",
      "text/plain": [
       "<Figure size 640x480 with 1 Axes>"
      ]
     },
     "metadata": {},
     "output_type": "display_data"
    }
   ],
   "source": [
    "olmp['Height'].plot(kind = 'hist', color = 'skyblue', bins = 30)"
   ]
  },
  {
   "cell_type": "markdown",
   "metadata": {},
   "source": [
    "- Распределение роста похоже на симметричное унимодальное распределение, для которого хакатерно равенство **медиана = мода = среднее**. Так как у нас не идеализированное, а реальное распределение, то это верно только приблизительно (медиана $\\approx$ мода $\\approx$ среднее) \n",
    "- Такое \"колокообразное\" распределение с называют **нормальным** распределением. При нормальном распределении большинство значений сосредоточено около среднего, а при удалении от среднего количество наблюдений уменьшается"
   ]
  },
  {
   "cell_type": "markdown",
   "metadata": {},
   "source": [
    "Распределение веса:"
   ]
  },
  {
   "cell_type": "code",
   "execution_count": 53,
   "metadata": {},
   "outputs": [
    {
     "data": {
      "text/plain": [
       "<Axes: ylabel='Frequency'>"
      ]
     },
     "execution_count": 53,
     "metadata": {},
     "output_type": "execute_result"
    },
    {
     "data": {
      "image/png": "[encoded data removed]",
      "text/plain": [
       "<Figure size 640x480 with 1 Axes>"
      ]
     },
     "metadata": {},
     "output_type": "display_data"
    }
   ],
   "source": [
    "olmp['Weight'].plot(kind = 'hist', color = 'skyblue', bins = 30)"
   ]
  },
  {
   "cell_type": "markdown",
   "metadata": {},
   "source": [
    "- Распределение веса асимметрично - **смещено вправо** (существует правый **хвост** распределения)\n",
    "- Это означает, что существуют **экстремально высокие** значения веса. На гистограмме они видны как маленькие столбцы справа (вес > 125)"
   ]
  },
  {
   "cell_type": "markdown",
   "metadata": {},
   "source": [
    "Таким образом, ответ:\n",
    "\n",
    "- <font color=green>В даных скорее всего есть атлеты, чей вес (Weight) экстремально большой</font>\n",
    "- <font color=red>В даных скорее всего есть атлеты, чей вес (Weight) экстремально низкий</font>\n",
    "- <font color=green>Среднее и медиана для роста (Height) практически совпадают</font>\n",
    "- <font color=green>Распределение роста (Height) атлетов похоже на нормальное</font>"
   ]
  },
  {
   "attachments": {
    "image.png": {
     "image/png": "[encoded data removed]"
    }
   },
   "cell_type": "markdown",
   "metadata": {},
   "source": [
    "# Задание 3\n",
    "На рисунке представлена гистограмма распределения роста атлетов (**Height**)\n",
    "\n",
    "![image.png](attachment:image.png)\n",
    "\n",
    "Выберите все верные утверждения:\n",
    "- Рост 68.2% атлетов находится в диапазоне от 164.82 до 185.86 см.\n",
    "- 15,7% атлетов имеют рост от 185.86 до 206.98 см\n",
    "- Рост до 185.86 см имеют 84.1% атлетов\n",
    "- Средний рост атлетов равен 175.34"
   ]
  },
  {
   "cell_type": "markdown",
   "metadata": {},
   "source": [
    "**Решение:**"
   ]
  },
  {
   "cell_type": "code",
   "execution_count": 54,
   "metadata": {},
   "outputs": [
    {
     "data": {
      "text/plain": [
       "(np.float64(164.82050765098452), np.float64(185.857432096343))"
      ]
     },
     "execution_count": 54,
     "metadata": {},
     "output_type": "execute_result"
    }
   ],
   "source": [
    "# рассчитываем mean() +- std()\n",
    "olmp['Height'].mean() - olmp['Height'].std(), olmp['Height'].mean() + olmp['Height'].std()"
   ]
  },
  {
   "cell_type": "code",
   "execution_count": 55,
   "metadata": {},
   "outputs": [
    {
     "data": {
      "text/plain": [
       "(np.float64(185.857432096343), np.float64(206.89435654170143))"
      ]
     },
     "execution_count": 55,
     "metadata": {},
     "output_type": "execute_result"
    }
   ],
   "source": [
    "# Какому росту соответствует mean+std() и mean() + 3*std()?\n",
    "olmp['Height'].mean() + olmp['Height'].std(), olmp['Height'].mean() + 3 * olmp['Height'].std()"
   ]
  },
  {
   "cell_type": "code",
   "execution_count": 56,
   "metadata": {},
   "outputs": [
    {
     "data": {
      "text/plain": [
       "65.35763289514452"
      ]
     },
     "execution_count": 56,
     "metadata": {},
     "output_type": "execute_result"
    }
   ],
   "source": [
    "# Какой % атлетов имеют рост до 185.86 см?\n",
    "sum(olmp['Height'] < 185.86) / len(olmp) * 100"
   ]
  },
  {
   "cell_type": "code",
   "execution_count": 57,
   "metadata": {},
   "outputs": [
    {
     "data": {
      "text/plain": [
       "np.float64(175.33896987366376)"
      ]
     },
     "execution_count": 57,
     "metadata": {},
     "output_type": "execute_result"
    }
   ],
   "source": [
    "# Какой средний рост атлетов?\n",
    "olmp['Height'].mean()"
   ]
  },
  {
   "cell_type": "markdown",
   "metadata": {},
   "source": [
    "- <font color=green>Рост 68.2% атлетов находится в диапазоне от 164.82 до 185.86 см</font>\n",
    "- <font color=red>15,7% атлетов имеют рост от 185.86 до 206.98 см</font>\n",
    "- <font color=red>Рост до 185.86 см имеют 84.1% атлетов</font>\n",
    "- <font color=green>Средний рост атлетов равен 175.34</font>"
   ]
  },
  {
   "cell_type": "markdown",
   "metadata": {},
   "source": [
    "# Задание 4\n",
    "Узнайте в каком году наибольшее количество \"атлетов\" приняло участие в соревнованиях (**Sport**) по искусству (**Art Competitions**)\n",
    "\n",
    "**Решение**\n",
    "1. Найдите только строчки, соответсвующие конкурсу (**Sport**) искусств (**Art Competitions**)\n",
    "2. В отфильтрованных данных удалите повторяющихся атлетов с помощью метода `.drop_duplicates(\"ID\")`\n",
    "3. Найдите моду по признаку Year"
   ]
  },
  {
   "cell_type": "code",
   "execution_count": 58,
   "metadata": {},
   "outputs": [
    {
     "data": {
      "text/plain": [
       "0    1932\n",
       "Name: Year, dtype: int64"
      ]
     },
     "execution_count": 58,
     "metadata": {},
     "output_type": "execute_result"
    }
   ],
   "source": [
    "olmp[olmp['Sport'] == 'Art Competitions'].drop_duplicates('ID')['Year'].mode()"
   ]
  },
  {
   "cell_type": "markdown",
   "metadata": {},
   "source": [
    "**Ответ**: 1932"
   ]
  },
  {
   "cell_type": "markdown",
   "metadata": {},
   "source": [
    "# Задание 5"
   ]
  },
  {
   "cell_type": "markdown",
   "metadata": {},
   "source": [
    "Добавьте в таблицу новый признак **AC**, который будет представлять собой кодированные значения переменной **Sport**. Кодировку проведите следующим образом: если значение **Sport** равно **Art Competitions** – то перенесите значение как есть, в противном случае – **Other**. В ответ впишите, сколько строк датафрейма входят в категорию **Other**.\n",
    "\n",
    "*Чтобы узнать ответ, можно построить частотную таблицу по новому признаку AC*"
   ]
  },
  {
   "cell_type": "code",
   "execution_count": 59,
   "metadata": {},
   "outputs": [
    {
     "data": {
      "text/plain": [
       "AC\n",
       "Other               267538\n",
       "Art Competitions      3578\n",
       "Name: count, dtype: int64"
      ]
     },
     "execution_count": 59,
     "metadata": {},
     "output_type": "execute_result"
    }
   ],
   "source": [
    "olmp['AC'] = olmp['Sport'].apply(lambda x: x if x == 'Art Competitions' else 'Other')\n",
    "olmp['AC'].value_counts()"
   ]
  },
  {
   "cell_type": "markdown",
   "metadata": {},
   "source": [
    "**Ответ:** 267538"
   ]
  },
  {
   "cell_type": "markdown",
   "metadata": {},
   "source": [
    "# Задание 6\n",
    "Создайте сводную таблицу по Олимпиаде в которой приняло участие больше всего атлетов в конкурсе искусств: в рядах должны быть уникальные категории по признаку **AC**, в колонках среднее, медиана и стандартное отклонение по возрасту **Age**"
   ]
  },
  {
   "cell_type": "code",
   "execution_count": 60,
   "metadata": {},
   "outputs": [
    {
     "data": {
      "text/plain": [
       "Year\n",
       "1932    1124\n",
       "1936     813\n",
       "1928     808\n",
       "1948     471\n",
       "1924     318\n",
       "1912      33\n",
       "1920      11\n",
       "Name: count, dtype: int64"
      ]
     },
     "execution_count": 60,
     "metadata": {},
     "output_type": "execute_result"
    }
   ],
   "source": [
    "# Определяем год, в который приняло участие больше всего атлетов в конкурсе искусств (Art Competitions)\n",
    "olmp[olmp['AC'] == 'Art Competitions']['Year'].value_counts()"
   ]
  },
  {
   "cell_type": "code",
   "execution_count": 61,
   "metadata": {},
   "outputs": [
    {
     "data": {
      "text/html": [
       "<div>\n",
       "<style scoped>\n",
       "    .dataframe tbody tr th:only-of-type {\n",
       "        vertical-align: middle;\n",
       "    }\n",
       "\n",
       "    .dataframe tbody tr th {\n",
       "        vertical-align: top;\n",
       "    }\n",
       "\n",
       "    .dataframe thead th {\n",
       "        text-align: right;\n",
       "    }\n",
       "</style>\n",
       "<table border=\"1\" class=\"dataframe\">\n",
       "  <thead>\n",
       "    <tr style=\"text-align: right;\">\n",
       "      <th></th>\n",
       "      <th>mean</th>\n",
       "      <th>std</th>\n",
       "      <th>median</th>\n",
       "    </tr>\n",
       "    <tr>\n",
       "      <th>AC</th>\n",
       "      <th></th>\n",
       "      <th></th>\n",
       "      <th></th>\n",
       "    </tr>\n",
       "  </thead>\n",
       "  <tbody>\n",
       "    <tr>\n",
       "      <th>Art Competitions</th>\n",
       "      <td>46.937931</td>\n",
       "      <td>13.278205</td>\n",
       "      <td>47.0</td>\n",
       "    </tr>\n",
       "    <tr>\n",
       "      <th>Other</th>\n",
       "      <td>25.207996</td>\n",
       "      <td>6.106876</td>\n",
       "      <td>24.0</td>\n",
       "    </tr>\n",
       "  </tbody>\n",
       "</table>\n",
       "</div>"
      ],
      "text/plain": [
       "                       mean        std  median\n",
       "AC                                            \n",
       "Art Competitions  46.937931  13.278205    47.0\n",
       "Other             25.207996   6.106876    24.0"
      ]
     },
     "execution_count": 61,
     "metadata": {},
     "output_type": "execute_result"
    }
   ],
   "source": [
    "# Создание сводной таблицы по AC\n",
    "olmp[olmp['Year']==1932].groupby('AC')['Age'].agg(['mean', 'std', 'median'])"
   ]
  },
  {
   "cell_type": "code",
   "execution_count": 62,
   "metadata": {},
   "outputs": [
    {
     "data": {
      "text/html": [
       "<div>\n",
       "<style scoped>\n",
       "    .dataframe tbody tr th:only-of-type {\n",
       "        vertical-align: middle;\n",
       "    }\n",
       "\n",
       "    .dataframe tbody tr th {\n",
       "        vertical-align: top;\n",
       "    }\n",
       "\n",
       "    .dataframe thead th {\n",
       "        text-align: right;\n",
       "    }\n",
       "</style>\n",
       "<table border=\"1\" class=\"dataframe\">\n",
       "  <thead>\n",
       "    <tr style=\"text-align: right;\">\n",
       "      <th></th>\n",
       "      <th>count</th>\n",
       "      <th>mean</th>\n",
       "      <th>std</th>\n",
       "      <th>min</th>\n",
       "      <th>25%</th>\n",
       "      <th>50%</th>\n",
       "      <th>75%</th>\n",
       "      <th>max</th>\n",
       "    </tr>\n",
       "    <tr>\n",
       "      <th>AC</th>\n",
       "      <th></th>\n",
       "      <th></th>\n",
       "      <th></th>\n",
       "      <th></th>\n",
       "      <th></th>\n",
       "      <th></th>\n",
       "      <th></th>\n",
       "      <th></th>\n",
       "    </tr>\n",
       "  </thead>\n",
       "  <tbody>\n",
       "    <tr>\n",
       "      <th>Art Competitions</th>\n",
       "      <td>1015.0</td>\n",
       "      <td>46.937931</td>\n",
       "      <td>13.278205</td>\n",
       "      <td>14.0</td>\n",
       "      <td>38.0</td>\n",
       "      <td>47.0</td>\n",
       "      <td>56.0</td>\n",
       "      <td>96.0</td>\n",
       "    </tr>\n",
       "    <tr>\n",
       "      <th>Other</th>\n",
       "      <td>1976.0</td>\n",
       "      <td>25.207996</td>\n",
       "      <td>6.106876</td>\n",
       "      <td>11.0</td>\n",
       "      <td>21.0</td>\n",
       "      <td>24.0</td>\n",
       "      <td>27.0</td>\n",
       "      <td>54.0</td>\n",
       "    </tr>\n",
       "  </tbody>\n",
       "</table>\n",
       "</div>"
      ],
      "text/plain": [
       "                   count       mean        std   min   25%   50%   75%   max\n",
       "AC                                                                          \n",
       "Art Competitions  1015.0  46.937931  13.278205  14.0  38.0  47.0  56.0  96.0\n",
       "Other             1976.0  25.207996   6.106876  11.0  21.0  24.0  27.0  54.0"
      ]
     },
     "execution_count": 62,
     "metadata": {},
     "output_type": "execute_result"
    }
   ],
   "source": [
    "# Более легкий способ получить статистики\n",
    "olmp[olmp['Year']==1932].groupby('AC')['Age'].describe()"
   ]
  },
  {
   "cell_type": "markdown",
   "metadata": {},
   "source": [
    "# Задание 7\n",
    "По созданной сводной таблице изучите описательные статистики и выберите все верные утверждения:\n",
    "\n",
    "- Вариативность возраста выше среди атлетов выступающих в конкурсе искусств (Art Competitions)\n",
    "- В среднем возраст атлетов выступающих в конкурсе искусств (Art Competitions) и других соревнованиях (Other) не отличается\n",
    "- В данных точно есть атлет НЕ участвовавший в конкурсе искусств, чей возраст равен 24\n",
    "- В категории Other есть атлет чей возраст аномально низкий\n",
    "- В категории Art Competitions есть атлет чей возраст аномально высокий"
   ]
  },
  {
   "cell_type": "markdown",
   "metadata": {},
   "source": [
    "**Решение**\n",
    "- <font color=green>Вариативность возраста выше среди атлетов выступающих в конкурсе искусств (Art Competitions)</font> - верно, так как стандартное отклонение (`std`) у студентов, выступающих в конкурсе искусств = 13.28, в то время как стандартное отклонение у других атлетов = 6.11\n",
    "- <font color=red>В среднем возраст атлетов выступающих в конкурсе искусств (Art Competitions) и других соревнованиях (Other) не отличается</font> - средний (`mean`) возраст атлетов, выступающих в конкурсе искусств (46.94) почти в два раза больше возраста других атлетов (25.21)\n",
    "- <font color=red>В данных точно есть атлет НЕ участвовавший в конкурсе искусств, чей возраст равен 24</font> - вообще ничего не можем сказать про атлета с 24 годами\n",
    "- <font color=red>В категории Other есть атлет чей возраст аномально низкий</font> - нет, так как среднее $\\approx$ медиана\n",
    "- <font color=red>В категории Art Competitions есть атлет чей возраст аномально высокий</font> - нет, так как среднее $\\approx$ медиана"
   ]
  },
  {
   "cell_type": "markdown",
   "metadata": {},
   "source": [
    "# Задание 8\n",
    "Посчитайте следующие описательные статистики:\n",
    "1. Какой атлет (**Name**) завоевал больше всего золотых (**Gold**) медалей (**Medal**)?\n",
    "2. Среднеквадратичное отклонение возраста (**Age**) атлетов, соревнующихся в **Boxing**?\n",
    "3. В каком городе (**City**) прошла первая (**Year**) зимняя (**Winter**) Олимпиада?\n",
    "4. В каком количестве стран (**NOC**) межкварительный диапазон роста атлетов равен 8?\n",
    "    - Найдите 3 квартиль роста для каждой страны (сохраните в переменную)\n",
    "    - Найдите 1 квартиль роста для каждой страны (сохраните в переменную)\n",
    "    - Вычтите переменную с данными по 1 квартилю из переменной с данными по 3 квартилю (сохраните в переменную)\n",
    "    - Преобразуйте **Series** в **DataFrame** c помощью метода `.to_frame()`\n",
    "    - Постройте частотную таблицу по столбцу **Height** и найдите количество стран, чей межкварительный диапазон роста атлетов равен 8"
   ]
  },
  {
   "cell_type": "markdown",
   "metadata": {},
   "source": [
    "**Решение:**"
   ]
  },
  {
   "cell_type": "code",
   "execution_count": 63,
   "metadata": {},
   "outputs": [
    {
     "data": {
      "text/plain": [
       "Name\n",
       "Michael Fred Phelps, II    23\n",
       "Name: count, dtype: int64"
      ]
     },
     "execution_count": 63,
     "metadata": {},
     "output_type": "execute_result"
    }
   ],
   "source": [
    "# 1. Какой атлет (Name) завоевал больше всего золотых (Gold) медалей (Medal)\n",
    "olmp[olmp['Medal'] == 'Gold']['Name'].value_counts().iloc[:1]"
   ]
  },
  {
   "cell_type": "code",
   "execution_count": 64,
   "metadata": {},
   "outputs": [
    {
     "data": {
      "text/plain": [
       "np.float64(3.44)"
      ]
     },
     "execution_count": 64,
     "metadata": {},
     "output_type": "execute_result"
    }
   ],
   "source": [
    "# 2. Среднеквадратичное отклонение возраста (Age) атлетов, соревнующихся в Boxing\n",
    "olmp[olmp['Sport'] == 'Boxing']['Age'].std().round(2)"
   ]
  },
  {
   "cell_type": "code",
   "execution_count": 65,
   "metadata": {},
   "outputs": [
    {
     "data": {
      "text/plain": [
       "13539    Chamonix\n",
       "Name: City, dtype: object"
      ]
     },
     "execution_count": 65,
     "metadata": {},
     "output_type": "execute_result"
    }
   ],
   "source": [
    "# 3. В каком городе (City) прошла первая (Year) зимняя (Winter) Олимпиада?\n",
    "olmp[olmp['Season'] == 'Winter'].sort_values('Year')['City'].iloc[:1]"
   ]
  },
  {
   "cell_type": "code",
   "execution_count": 66,
   "metadata": {},
   "outputs": [
    {
     "data": {
      "text/plain": [
       "11"
      ]
     },
     "execution_count": 66,
     "metadata": {},
     "output_type": "execute_result"
    }
   ],
   "source": [
    "# 4. В каком количестве стран (NOC) межкварительный диапазон роста атлетов равен 8?\n",
    "# 4.1 Найдите 3 квартиль роста для каждой страны (сохраните в переменную)\n",
    "noc_3q = olmp.groupby('NOC')['Height'].quantile(0.75)\n",
    "\n",
    "## 4.2 Найдите 1 квартиль роста для каждой страны (сохраните в переменную)\n",
    "noc_1q = olmp.groupby('NOC')['Height'].quantile(0.25)\n",
    "\n",
    "## 4.3 Вычтите переменную с данными по 1 квартилю из переменной с данными по 3 квартилю (сохраните в переменную)\n",
    "noc_iqr = noc_3q - noc_1q\n",
    "\n",
    "## 4.4 Преобразуйте Series в DataFrame c помощью метода .to_frame()\n",
    "noc_iqr = noc_iqr.to_frame()\n",
    "\n",
    "## 4.5 Постройте частотную таблицу по столбцу Height и найдите количество стран, чей межкварительный диапазон роста атлетов равен 8\n",
    "sum(noc_iqr['Height'] == 8)"
   ]
  },
  {
   "cell_type": "markdown",
   "metadata": {},
   "source": [
    "# Задание 9\n",
    "Посчитайте следующие описательные статистики.\n",
    "- Дисперсию переменной Weight. Ответы округлите до сотых\n",
    "- Размах переменной Year \n",
    "- Медиану переменной Age \n",
    "- Межквартильное расстояние переменной Height"
   ]
  },
  {
   "cell_type": "code",
   "execution_count": 67,
   "metadata": {},
   "outputs": [
    {
     "data": {
      "text/plain": [
       "np.float64(205.87)"
      ]
     },
     "execution_count": 67,
     "metadata": {},
     "output_type": "execute_result"
    }
   ],
   "source": [
    "# Дисперсию переменной Weight\n",
    "olmp['Weight'].var().round(2)"
   ]
  },
  {
   "cell_type": "code",
   "execution_count": 68,
   "metadata": {},
   "outputs": [
    {
     "data": {
      "text/plain": [
       "np.int64(120)"
      ]
     },
     "execution_count": 68,
     "metadata": {},
     "output_type": "execute_result"
    }
   ],
   "source": [
    "# Размах переменной Year \n",
    "olmp['Year'].max() - olmp['Year'].min()"
   ]
  },
  {
   "cell_type": "code",
   "execution_count": 69,
   "metadata": {},
   "outputs": [
    {
     "data": {
      "text/plain": [
       "np.float64(24.0)"
      ]
     },
     "execution_count": 69,
     "metadata": {},
     "output_type": "execute_result"
    }
   ],
   "source": [
    "# Медиану переменной Age \n",
    "olmp['Age'].median()"
   ]
  },
  {
   "cell_type": "code",
   "execution_count": 70,
   "metadata": {},
   "outputs": [
    {
     "data": {
      "text/plain": [
       "np.float64(15.0)"
      ]
     },
     "execution_count": 70,
     "metadata": {},
     "output_type": "execute_result"
    }
   ],
   "source": [
    "# Межквартильное расстояние переменной Height \n",
    "olmp['Height'].quantile(0.75) - olmp['Height'].quantile(0.25)"
   ]
  }
 ],
 "metadata": {
  "kernelspec": {
   "display_name": "data-analysis",
   "language": "python",
   "name": "python3"
  },
  "language_info": {
   "codemirror_mode": {
    "name": "ipython",
    "version": 3
   },
   "file_extension": ".py",
   "mimetype": "text/x-python",
   "name": "python",
   "nbconvert_exporter": "python",
   "pygments_lexer": "ipython3",
   "version": "3.12.4"
  }
 },
 "nbformat": 4,
 "nbformat_minor": 2
}
