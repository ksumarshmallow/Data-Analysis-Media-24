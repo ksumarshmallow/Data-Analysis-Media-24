{
 "cells": [
  {
   "cell_type": "markdown",
   "metadata": {},
   "source": [
    "# **Семинар 6. Описательные статистики. Пропуски и выбросы.**\n",
    "\n",
    "#### <i>Малкова Ксения, Преподаватель ФКН НИУ ВШЭ, kemalkova@hse.ru</i>"
   ]
  },
  {
   "cell_type": "markdown",
   "metadata": {},
   "source": [
    "Анализируем датасет с информацией об атлетах участвовавших в Олимпийских играх (**olymp.csv**)\n",
    "\n",
    "Данные содержат следующие признаки:\n",
    "- **`ID`** - уникальный номер спортсмена\n",
    "- **`Name`** - имя атлета\n",
    "- **`Sex`** - пол (мужской - M,  женский - F)\n",
    "- **`Age`** - возраст атлета\n",
    "- **`Height`** - рост (в см)\n",
    "- **`Weight`** - вес (в кг)\n",
    "- **`Team`** - cтрана\n",
    "- **`NOC`** - код страны от Олимпийского комитета (3 буквы)\n",
    "- **`Games`** - год и сезон Олимпийских игр\n",
    "- **`Year`** - год Олимпийских игр\n",
    "- **`Season`** - сезон (Зимние - Winter,  Лето - Summer)\n",
    "- **`City`** - город проведения Олимпийских игр\n",
    "- **`Sport`** - спортивная дисциплина\n",
    "- **`Event`** - категория спортивной дисциплины\n",
    "- **`Medal`** - достоинство медали (Золото - Gold, Серебро - Silver, Бронза - Bronze, Без медали - NaN)\n"
   ]
  },
  {
   "cell_type": "code",
   "execution_count": 1,
   "metadata": {},
   "outputs": [],
   "source": [
    "import pandas as pd\n",
    "olmp = pd.read_csv('../../data/olymp.csv')"
   ]
  },
  {
   "cell_type": "markdown",
   "metadata": {},
   "source": [
    "# Задание 1\n",
    "\n",
    "Какие меры центральной тенденции и вариативности лучше подходят для оценки представленных признаков? \n",
    "\n",
    "| Признак | Описание | Кодировка | МЦТ | Мера разброса |\n",
    "| ------- | -------- | --------- | --- | ------------- | \n",
    "| **Name** | имя атлета | - | ? | ? |\n",
    "| **Sex** | пол | мужской (M), женский (F) | ? | ? |\n",
    "| **Sex** | пол | мужской (0), женский (1) | ? | ? |\n",
    "| **Height** | рост | см | ? | ? |\n",
    "| **Medal** | достоиноство медали | Золото (Gold), Серебро (Silver), Бронза (Bronze), Без медали (NaN) | ? | ? |\n",
    "| **Medal** | достоиноство медали | Золото (3), Серебро (2), Бронза (1), Без медали (0) | ? | ? |\n",
    "\n",
    "Варианты МЦТ:\n",
    "- Среднее\n",
    "- Мода\n",
    "- Медиана\n",
    "- Среднее, мода\n",
    "- Медиана, мода\n",
    "- Среднее, медиана, мода\n",
    "\n",
    "Варианты мер разброса:\n",
    "- Количество уникальных значений\n",
    "- Дисперсия, Размах, Интерквартильное расстояние"
   ]
  },
  {
   "cell_type": "markdown",
   "metadata": {},
   "source": [
    "# Задание 2\n",
    "Постройте гистограммы для роста (**Height**) и веса (**Weight**) атлетов. Отметьте верные утверждения:\n",
    "\n",
    "- В даных скорее всего есть атлеты, чей вес (Weight) экстремально большой\n",
    "- В даных скорее всего есть атлеты, чей вес (Weight) экстремально низкий\n",
    "- Среднее и медиана для роста (Height) практически совпадают\n",
    "- Распределение роста (Height) атлетов похоже на нормальное"
   ]
  },
  {
   "attachments": {
    "image.png": {
     "image/png": "[encoded data removed]"
    }
   },
   "cell_type": "markdown",
   "metadata": {},
   "source": [
    "# Задание 3\n",
    "На рисунке представлена гистограмма распределения роста атлетов (**Height**)\n",
    "\n",
    "![image.png](attachment:image.png)\n",
    "\n",
    "Выберите все верные утверждения:\n",
    "- Рост 68.2% атлетов находится в диапазоне от 164.82 до 185.86 см.\n",
    "- 15,7% атлетов имеют рост от 185.86 до 206.98 см\n",
    "- Рост до 185.86 см имеют 84.1% атлетов\n",
    "- Средний рост атлетов равен 175.34"
   ]
  },
  {
   "cell_type": "markdown",
   "metadata": {},
   "source": [
    "# Задание 4\n",
    "Узнайте в каком году наибольшее количество \"атлетов\" приняло участие в соревнованиях (**Sport**) по искусству (**Art Competitions**)\n",
    "\n",
    "**Решение**\n",
    "1. Найдите только строчки, соответсвующие конкурсу (**Sport**) искусств (**Art Competitions**)\n",
    "2. В отфильтрованных данных удалите повторяющихся атлетов с помощью метода `.drop_duplicates(\"ID\")`\n",
    "3. Найдите моду по признаку Year"
   ]
  },
  {
   "cell_type": "markdown",
   "metadata": {},
   "source": [
    "# Задание 5"
   ]
  },
  {
   "cell_type": "markdown",
   "metadata": {},
   "source": [
    "Добавьте в таблицу новый признак **AC**, который будет представлять собой кодированные значения переменной **Sport**. Кодировку проведите следующим образом: если значение **Sport** равно **Art Competitions** – то перенесите значение как есть, в противном случае – **Other**. В ответ впишите, сколько строк датафрейма входят в категорию **Other**.\n",
    "\n",
    "*Чтобы узнать ответ, можно построить частотную таблицу по новому признаку AC*"
   ]
  },
  {
   "cell_type": "markdown",
   "metadata": {},
   "source": [
    "# Задание 6\n",
    "Создайте сводную таблицу по Олимпиаде в которой приняло участие больше всего атлетов в конкурсе искусств: в рядах должны быть уникальные категории по признаку **AC**, в колонках среднее, медиана и стандартное отклонение по возрасту **Age**"
   ]
  },
  {
   "cell_type": "markdown",
   "metadata": {},
   "source": [
    "# Задание 7\n",
    "По созданной сводной таблице изучите описательные статистики и выберите все верные утверждения:\n",
    "\n",
    "- Вариативность возраста выше среди атлетов выступающих в конкурсе искусств (Art Competitions)\n",
    "- В среднем возраст атлетов выступающих в конкурсе искусств (Art Competitions) и других соревнованиях (Other) не отличается\n",
    "- В данных точно есть атлет НЕ участвовавший в конкурсе искусств, чей возраст равен 24\n",
    "- В категории Other есть атлет чей возраст аномально низкий\n",
    "- В категории Art Competitions есть атлет чей возраст аномально высокий"
   ]
  },
  {
   "cell_type": "markdown",
   "metadata": {},
   "source": [
    "# Задание 8\n",
    "Посчитайте следующие описательные статистики:\n",
    "1. Какой атлет (**Name**) завоевал больше всего золотых (**Gold**) медалей (**Medal**)?\n",
    "2. Среднеквадратичное отклонение возраста (**Age**) атлетов, соревнующихся в **Boxing**?\n",
    "3. В каком городе (**City**) прошла первая (**Year**) зимняя (**Winter**) Олимпиада?\n",
    "4. В каком количестве стран (**NOC**) межкварительный диапазон роста атлетов равен 8?\n",
    "    - Найдите 3 квартиль роста для каждой страны (сохраните в переменную)\n",
    "    - Найдите 1 квартиль роста для каждой страны (сохраните в переменную)\n",
    "    - Вычтите переменную с данными по 1 квартилю из переменной с данными по 3 квартилю (сохраните в переменную)\n",
    "    - Преобразуйте **Series** в **DataFrame** c помощью метода `.to_frame()`\n",
    "    - Постройте частотную таблицу по столбцу **Height** и найдите количество стран, чей межкварительный диапазон роста атлетов равен 8"
   ]
  },
  {
   "cell_type": "markdown",
   "metadata": {},
   "source": [
    "# Задание 9\n",
    "Посчитайте следующие описательные статистики.\n",
    "- Дисперсию переменной Weight. Ответы округлите до сотых\n",
    "- Размах переменной Year \n",
    "- Медиану переменной Age \n",
    "- Межквартильное расстояние переменной Height"
   ]
  }
 ],
 "metadata": {
  "kernelspec": {
   "display_name": "ai-assistant",
   "language": "python",
   "name": "ai-assistant"
  },
  "language_info": {
   "codemirror_mode": {
    "name": "ipython",
    "version": 3
   },
   "file_extension": ".py",
   "mimetype": "text/x-python",
   "name": "python",
   "nbconvert_exporter": "python",
   "pygments_lexer": "ipython3",
   "version": "3.12.5"
  }
 },
 "nbformat": 4,
 "nbformat_minor": 2
}
