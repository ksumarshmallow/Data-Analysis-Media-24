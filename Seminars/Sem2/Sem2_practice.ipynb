{
  "cells": [
    {
      "cell_type": "markdown",
      "metadata": {
        "id": "On2LQ2shYDec"
      },
      "source": [
        "# Семинар 2. Новые признаки. Базовая визуализация\n",
        "\n",
        "#### <i>Малкова Ксения, Преподаватель ФКН НИУ ВШЭ, kemalkova@hse.ru</i>*\n",
        "\n",
        "*почты все еще нет"
      ]
    },
    {
      "cell_type": "markdown",
      "metadata": {
        "id": "Fg5PJeVe_aSC"
      },
      "source": [
        "## Считываем данные"
      ]
    },
    {
      "cell_type": "code",
      "execution_count": 3,
      "metadata": {},
      "outputs": [],
      "source": [
        "import pandas as pd"
      ]
    },
    {
      "cell_type": "code",
      "execution_count": 4,
      "metadata": {
        "colab": {
          "base_uri": "https://localhost:8080/"
        },
        "id": "3be20c85",
        "outputId": "bd52de6b-6229-4eb7-d02d-2d976a58757d"
      },
      "outputs": [
        {
          "data": {
            "text/html": [
              "<div>\n",
              "<style scoped>\n",
              "    .dataframe tbody tr th:only-of-type {\n",
              "        vertical-align: middle;\n",
              "    }\n",
              "\n",
              "    .dataframe tbody tr th {\n",
              "        vertical-align: top;\n",
              "    }\n",
              "\n",
              "    .dataframe thead th {\n",
              "        text-align: right;\n",
              "    }\n",
              "</style>\n",
              "<table border=\"1\" class=\"dataframe\">\n",
              "  <thead>\n",
              "    <tr style=\"text-align: right;\">\n",
              "      <th></th>\n",
              "      <th>PassengerId</th>\n",
              "      <th>Survived</th>\n",
              "      <th>Pclass</th>\n",
              "      <th>Name</th>\n",
              "      <th>Sex</th>\n",
              "      <th>Age</th>\n",
              "      <th>SibSp</th>\n",
              "      <th>Parch</th>\n",
              "      <th>Ticket</th>\n",
              "      <th>Fare</th>\n",
              "      <th>Cabin</th>\n",
              "      <th>Embarked</th>\n",
              "    </tr>\n",
              "  </thead>\n",
              "  <tbody>\n",
              "    <tr>\n",
              "      <th>0</th>\n",
              "      <td>1</td>\n",
              "      <td>0</td>\n",
              "      <td>3</td>\n",
              "      <td>Braund, Mr. Owen Harris</td>\n",
              "      <td>male</td>\n",
              "      <td>22.0</td>\n",
              "      <td>1</td>\n",
              "      <td>0</td>\n",
              "      <td>A/5 21171</td>\n",
              "      <td>7.2500</td>\n",
              "      <td>NaN</td>\n",
              "      <td>S</td>\n",
              "    </tr>\n",
              "    <tr>\n",
              "      <th>1</th>\n",
              "      <td>2</td>\n",
              "      <td>1</td>\n",
              "      <td>1</td>\n",
              "      <td>Cumings, Mrs. John Bradley (Florence Briggs Th...</td>\n",
              "      <td>female</td>\n",
              "      <td>38.0</td>\n",
              "      <td>1</td>\n",
              "      <td>0</td>\n",
              "      <td>PC 17599</td>\n",
              "      <td>71.2833</td>\n",
              "      <td>C85</td>\n",
              "      <td>C</td>\n",
              "    </tr>\n",
              "    <tr>\n",
              "      <th>2</th>\n",
              "      <td>3</td>\n",
              "      <td>1</td>\n",
              "      <td>3</td>\n",
              "      <td>Heikkinen, Miss. Laina</td>\n",
              "      <td>female</td>\n",
              "      <td>26.0</td>\n",
              "      <td>0</td>\n",
              "      <td>0</td>\n",
              "      <td>STON/O2. 3101282</td>\n",
              "      <td>7.9250</td>\n",
              "      <td>NaN</td>\n",
              "      <td>S</td>\n",
              "    </tr>\n",
              "    <tr>\n",
              "      <th>3</th>\n",
              "      <td>4</td>\n",
              "      <td>1</td>\n",
              "      <td>1</td>\n",
              "      <td>Futrelle, Mrs. Jacques Heath (Lily May Peel)</td>\n",
              "      <td>female</td>\n",
              "      <td>35.0</td>\n",
              "      <td>1</td>\n",
              "      <td>0</td>\n",
              "      <td>113803</td>\n",
              "      <td>53.1000</td>\n",
              "      <td>C123</td>\n",
              "      <td>S</td>\n",
              "    </tr>\n",
              "    <tr>\n",
              "      <th>4</th>\n",
              "      <td>5</td>\n",
              "      <td>0</td>\n",
              "      <td>3</td>\n",
              "      <td>Allen, Mr. William Henry</td>\n",
              "      <td>male</td>\n",
              "      <td>35.0</td>\n",
              "      <td>0</td>\n",
              "      <td>0</td>\n",
              "      <td>373450</td>\n",
              "      <td>8.0500</td>\n",
              "      <td>NaN</td>\n",
              "      <td>S</td>\n",
              "    </tr>\n",
              "  </tbody>\n",
              "</table>\n",
              "</div>"
            ],
            "text/plain": [
              "   PassengerId  Survived  Pclass  \\\n",
              "0            1         0       3   \n",
              "1            2         1       1   \n",
              "2            3         1       3   \n",
              "3            4         1       1   \n",
              "4            5         0       3   \n",
              "\n",
              "                                                Name     Sex   Age  SibSp  \\\n",
              "0                            Braund, Mr. Owen Harris    male  22.0      1   \n",
              "1  Cumings, Mrs. John Bradley (Florence Briggs Th...  female  38.0      1   \n",
              "2                             Heikkinen, Miss. Laina  female  26.0      0   \n",
              "3       Futrelle, Mrs. Jacques Heath (Lily May Peel)  female  35.0      1   \n",
              "4                           Allen, Mr. William Henry    male  35.0      0   \n",
              "\n",
              "   Parch            Ticket     Fare Cabin Embarked  \n",
              "0      0         A/5 21171   7.2500   NaN        S  \n",
              "1      0          PC 17599  71.2833   C85        C  \n",
              "2      0  STON/O2. 3101282   7.9250   NaN        S  \n",
              "3      0            113803  53.1000  C123        S  \n",
              "4      0            373450   8.0500   NaN        S  "
            ]
          },
          "execution_count": 4,
          "metadata": {},
          "output_type": "execute_result"
        }
      ],
      "source": [
        "data = pd.read_csv('https://raw.githubusercontent.com/aaparshina/FCI_22-23_data_analysis/main/data/titanic.csv')\n",
        "data.head()"
      ]
    },
    {
      "cell_type": "markdown",
      "metadata": {
        "id": "NWluuVi5_gyJ"
      },
      "source": [
        "**Описание признаков**:\n",
        "- **`PassengerId`** - id пассажира;\n",
        "- **`Survived`** выжил пассажирил (1) или нет (0);\n",
        "- **`Pclass`** - класс пассажира;\n",
        "- **`Name`** - имя пассажира;\n",
        "- **`Sex`** - пол пассажира;\n",
        "- **`Age`** - возраст пассажира;\n",
        "- **`SibSp`** - количество родственников (братьев, сестер, супругов) пассажира на борту;\n",
        "- **`Parch`** - количество родственников (родителей / детей) пассажира на борту;\n",
        "- **`Ticket`** - номер билета;\n",
        "- **`Fare`** - тариф (стоимость билета);\n",
        "- **`Cabin`** - номер кабины;\n",
        "- **`Embarked`** - порт, в котором пассажир сел на борт (C - Cherbourg, S - Southampton, Q - Queenstown)"
      ]
    },
    {
      "cell_type": "markdown",
      "metadata": {
        "id": "ATP6OEu9d8JP"
      },
      "source": [
        "## 1. Создание новых признаков"
      ]
    },
    {
      "cell_type": "markdown",
      "metadata": {
        "id": "9c17bf63"
      },
      "source": [
        "Иногда нужно создать новый признак из уже существующих, например, нам интересно, сколько всего родственников путешествовало с каждым пассажиром - просто сложим столбцы `SibSp` и `Parch` и поместим сумму в новый столбец `FamilySize`."
      ]
    },
    {
      "cell_type": "code",
      "execution_count": 5,
      "metadata": {
        "colab": {
          "base_uri": "https://localhost:8080/"
        },
        "id": "34ca8a76",
        "outputId": "32efa9e0-ae09-49a0-988e-41933e7b9ce7"
      },
      "outputs": [
        {
          "data": {
            "text/html": [
              "<div>\n",
              "<style scoped>\n",
              "    .dataframe tbody tr th:only-of-type {\n",
              "        vertical-align: middle;\n",
              "    }\n",
              "\n",
              "    .dataframe tbody tr th {\n",
              "        vertical-align: top;\n",
              "    }\n",
              "\n",
              "    .dataframe thead th {\n",
              "        text-align: right;\n",
              "    }\n",
              "</style>\n",
              "<table border=\"1\" class=\"dataframe\">\n",
              "  <thead>\n",
              "    <tr style=\"text-align: right;\">\n",
              "      <th></th>\n",
              "      <th>PassengerId</th>\n",
              "      <th>Survived</th>\n",
              "      <th>Pclass</th>\n",
              "      <th>Name</th>\n",
              "      <th>Sex</th>\n",
              "      <th>Age</th>\n",
              "      <th>SibSp</th>\n",
              "      <th>Parch</th>\n",
              "      <th>Ticket</th>\n",
              "      <th>Fare</th>\n",
              "      <th>Cabin</th>\n",
              "      <th>Embarked</th>\n",
              "      <th>FamilySize</th>\n",
              "    </tr>\n",
              "  </thead>\n",
              "  <tbody>\n",
              "    <tr>\n",
              "      <th>0</th>\n",
              "      <td>1</td>\n",
              "      <td>0</td>\n",
              "      <td>3</td>\n",
              "      <td>Braund, Mr. Owen Harris</td>\n",
              "      <td>male</td>\n",
              "      <td>22.0</td>\n",
              "      <td>1</td>\n",
              "      <td>0</td>\n",
              "      <td>A/5 21171</td>\n",
              "      <td>7.2500</td>\n",
              "      <td>NaN</td>\n",
              "      <td>S</td>\n",
              "      <td>1</td>\n",
              "    </tr>\n",
              "    <tr>\n",
              "      <th>1</th>\n",
              "      <td>2</td>\n",
              "      <td>1</td>\n",
              "      <td>1</td>\n",
              "      <td>Cumings, Mrs. John Bradley (Florence Briggs Th...</td>\n",
              "      <td>female</td>\n",
              "      <td>38.0</td>\n",
              "      <td>1</td>\n",
              "      <td>0</td>\n",
              "      <td>PC 17599</td>\n",
              "      <td>71.2833</td>\n",
              "      <td>C85</td>\n",
              "      <td>C</td>\n",
              "      <td>1</td>\n",
              "    </tr>\n",
              "    <tr>\n",
              "      <th>2</th>\n",
              "      <td>3</td>\n",
              "      <td>1</td>\n",
              "      <td>3</td>\n",
              "      <td>Heikkinen, Miss. Laina</td>\n",
              "      <td>female</td>\n",
              "      <td>26.0</td>\n",
              "      <td>0</td>\n",
              "      <td>0</td>\n",
              "      <td>STON/O2. 3101282</td>\n",
              "      <td>7.9250</td>\n",
              "      <td>NaN</td>\n",
              "      <td>S</td>\n",
              "      <td>0</td>\n",
              "    </tr>\n",
              "    <tr>\n",
              "      <th>3</th>\n",
              "      <td>4</td>\n",
              "      <td>1</td>\n",
              "      <td>1</td>\n",
              "      <td>Futrelle, Mrs. Jacques Heath (Lily May Peel)</td>\n",
              "      <td>female</td>\n",
              "      <td>35.0</td>\n",
              "      <td>1</td>\n",
              "      <td>0</td>\n",
              "      <td>113803</td>\n",
              "      <td>53.1000</td>\n",
              "      <td>C123</td>\n",
              "      <td>S</td>\n",
              "      <td>1</td>\n",
              "    </tr>\n",
              "    <tr>\n",
              "      <th>4</th>\n",
              "      <td>5</td>\n",
              "      <td>0</td>\n",
              "      <td>3</td>\n",
              "      <td>Allen, Mr. William Henry</td>\n",
              "      <td>male</td>\n",
              "      <td>35.0</td>\n",
              "      <td>0</td>\n",
              "      <td>0</td>\n",
              "      <td>373450</td>\n",
              "      <td>8.0500</td>\n",
              "      <td>NaN</td>\n",
              "      <td>S</td>\n",
              "      <td>0</td>\n",
              "    </tr>\n",
              "  </tbody>\n",
              "</table>\n",
              "</div>"
            ],
            "text/plain": [
              "   PassengerId  Survived  Pclass  \\\n",
              "0            1         0       3   \n",
              "1            2         1       1   \n",
              "2            3         1       3   \n",
              "3            4         1       1   \n",
              "4            5         0       3   \n",
              "\n",
              "                                                Name     Sex   Age  SibSp  \\\n",
              "0                            Braund, Mr. Owen Harris    male  22.0      1   \n",
              "1  Cumings, Mrs. John Bradley (Florence Briggs Th...  female  38.0      1   \n",
              "2                             Heikkinen, Miss. Laina  female  26.0      0   \n",
              "3       Futrelle, Mrs. Jacques Heath (Lily May Peel)  female  35.0      1   \n",
              "4                           Allen, Mr. William Henry    male  35.0      0   \n",
              "\n",
              "   Parch            Ticket     Fare Cabin Embarked  FamilySize  \n",
              "0      0         A/5 21171   7.2500   NaN        S           1  \n",
              "1      0          PC 17599  71.2833   C85        C           1  \n",
              "2      0  STON/O2. 3101282   7.9250   NaN        S           0  \n",
              "3      0            113803  53.1000  C123        S           1  \n",
              "4      0            373450   8.0500   NaN        S           0  "
            ]
          },
          "execution_count": 5,
          "metadata": {},
          "output_type": "execute_result"
        }
      ],
      "source": [
        "data['FamilySize'] = data['SibSp'] + data['Parch']\n",
        "data.head()"
      ]
    },
    {
      "cell_type": "markdown",
      "metadata": {
        "id": "AqKQqdVqfqLr"
      },
      "source": [
        "### Анонимные функции (`lambda` функции)"
      ]
    },
    {
      "cell_type": "markdown",
      "metadata": {
        "id": "6f0dd3a8"
      },
      "source": [
        "Это же можно реализовать короче с помощью анонимных функций.\n",
        "\n",
        "Это особый вид функций, которые объявляются с помощью ключевого слова `lambda` вместо `def`:\n",
        "\n",
        "```python\n",
        "    lambda x: инструкция\n",
        "```\n"
      ]
    },
    {
      "cell_type": "markdown",
      "metadata": {
        "id": "7H6PEZycadoD"
      },
      "source": [
        "Применить функцию можно с помощью метода `.apply()`"
      ]
    },
    {
      "cell_type": "markdown",
      "metadata": {
        "id": "-AFV3cSKalPg"
      },
      "source": [
        "Создадим столбец `Alone` на основе признака `FamilySize`, определяет ехал человек в одиночку (**True**) или с родствениками (**False**):"
      ]
    },
    {
      "cell_type": "code",
      "execution_count": 6,
      "metadata": {
        "colab": {
          "base_uri": "https://localhost:8080/"
        },
        "id": "nyKEM_PigFBu",
        "outputId": "6a0a9444-25f3-4163-ce2d-0dcfac184508"
      },
      "outputs": [
        {
          "data": {
            "text/html": [
              "<div>\n",
              "<style scoped>\n",
              "    .dataframe tbody tr th:only-of-type {\n",
              "        vertical-align: middle;\n",
              "    }\n",
              "\n",
              "    .dataframe tbody tr th {\n",
              "        vertical-align: top;\n",
              "    }\n",
              "\n",
              "    .dataframe thead th {\n",
              "        text-align: right;\n",
              "    }\n",
              "</style>\n",
              "<table border=\"1\" class=\"dataframe\">\n",
              "  <thead>\n",
              "    <tr style=\"text-align: right;\">\n",
              "      <th></th>\n",
              "      <th>PassengerId</th>\n",
              "      <th>Survived</th>\n",
              "      <th>Pclass</th>\n",
              "      <th>Name</th>\n",
              "      <th>Sex</th>\n",
              "      <th>Age</th>\n",
              "      <th>SibSp</th>\n",
              "      <th>Parch</th>\n",
              "      <th>Ticket</th>\n",
              "      <th>Fare</th>\n",
              "      <th>Cabin</th>\n",
              "      <th>Embarked</th>\n",
              "      <th>FamilySize</th>\n",
              "      <th>Alone</th>\n",
              "    </tr>\n",
              "  </thead>\n",
              "  <tbody>\n",
              "    <tr>\n",
              "      <th>0</th>\n",
              "      <td>1</td>\n",
              "      <td>0</td>\n",
              "      <td>3</td>\n",
              "      <td>Braund, Mr. Owen Harris</td>\n",
              "      <td>male</td>\n",
              "      <td>22.0</td>\n",
              "      <td>1</td>\n",
              "      <td>0</td>\n",
              "      <td>A/5 21171</td>\n",
              "      <td>7.2500</td>\n",
              "      <td>NaN</td>\n",
              "      <td>S</td>\n",
              "      <td>1</td>\n",
              "      <td>False</td>\n",
              "    </tr>\n",
              "    <tr>\n",
              "      <th>1</th>\n",
              "      <td>2</td>\n",
              "      <td>1</td>\n",
              "      <td>1</td>\n",
              "      <td>Cumings, Mrs. John Bradley (Florence Briggs Th...</td>\n",
              "      <td>female</td>\n",
              "      <td>38.0</td>\n",
              "      <td>1</td>\n",
              "      <td>0</td>\n",
              "      <td>PC 17599</td>\n",
              "      <td>71.2833</td>\n",
              "      <td>C85</td>\n",
              "      <td>C</td>\n",
              "      <td>1</td>\n",
              "      <td>False</td>\n",
              "    </tr>\n",
              "    <tr>\n",
              "      <th>2</th>\n",
              "      <td>3</td>\n",
              "      <td>1</td>\n",
              "      <td>3</td>\n",
              "      <td>Heikkinen, Miss. Laina</td>\n",
              "      <td>female</td>\n",
              "      <td>26.0</td>\n",
              "      <td>0</td>\n",
              "      <td>0</td>\n",
              "      <td>STON/O2. 3101282</td>\n",
              "      <td>7.9250</td>\n",
              "      <td>NaN</td>\n",
              "      <td>S</td>\n",
              "      <td>0</td>\n",
              "      <td>True</td>\n",
              "    </tr>\n",
              "    <tr>\n",
              "      <th>3</th>\n",
              "      <td>4</td>\n",
              "      <td>1</td>\n",
              "      <td>1</td>\n",
              "      <td>Futrelle, Mrs. Jacques Heath (Lily May Peel)</td>\n",
              "      <td>female</td>\n",
              "      <td>35.0</td>\n",
              "      <td>1</td>\n",
              "      <td>0</td>\n",
              "      <td>113803</td>\n",
              "      <td>53.1000</td>\n",
              "      <td>C123</td>\n",
              "      <td>S</td>\n",
              "      <td>1</td>\n",
              "      <td>False</td>\n",
              "    </tr>\n",
              "    <tr>\n",
              "      <th>4</th>\n",
              "      <td>5</td>\n",
              "      <td>0</td>\n",
              "      <td>3</td>\n",
              "      <td>Allen, Mr. William Henry</td>\n",
              "      <td>male</td>\n",
              "      <td>35.0</td>\n",
              "      <td>0</td>\n",
              "      <td>0</td>\n",
              "      <td>373450</td>\n",
              "      <td>8.0500</td>\n",
              "      <td>NaN</td>\n",
              "      <td>S</td>\n",
              "      <td>0</td>\n",
              "      <td>True</td>\n",
              "    </tr>\n",
              "  </tbody>\n",
              "</table>\n",
              "</div>"
            ],
            "text/plain": [
              "   PassengerId  Survived  Pclass  \\\n",
              "0            1         0       3   \n",
              "1            2         1       1   \n",
              "2            3         1       3   \n",
              "3            4         1       1   \n",
              "4            5         0       3   \n",
              "\n",
              "                                                Name     Sex   Age  SibSp  \\\n",
              "0                            Braund, Mr. Owen Harris    male  22.0      1   \n",
              "1  Cumings, Mrs. John Bradley (Florence Briggs Th...  female  38.0      1   \n",
              "2                             Heikkinen, Miss. Laina  female  26.0      0   \n",
              "3       Futrelle, Mrs. Jacques Heath (Lily May Peel)  female  35.0      1   \n",
              "4                           Allen, Mr. William Henry    male  35.0      0   \n",
              "\n",
              "   Parch            Ticket     Fare Cabin Embarked  FamilySize  Alone  \n",
              "0      0         A/5 21171   7.2500   NaN        S           1  False  \n",
              "1      0          PC 17599  71.2833   C85        C           1  False  \n",
              "2      0  STON/O2. 3101282   7.9250   NaN        S           0   True  \n",
              "3      0            113803  53.1000  C123        S           1  False  \n",
              "4      0            373450   8.0500   NaN        S           0   True  "
            ]
          },
          "execution_count": 6,
          "metadata": {},
          "output_type": "execute_result"
        }
      ],
      "source": [
        "data['Alone'] = data['FamilySize'].apply(lambda x: True if x == 0 else False)\n",
        "data.head()"
      ]
    },
    {
      "cell_type": "markdown",
      "metadata": {},
      "source": [
        "Так как `x == 0` - выражение, которое возвращает **True**, если условие выполняется, и **False**, если условие не выполняется, то можно *сделать более краткую запись* - она аналогична предыдущей:"
      ]
    },
    {
      "cell_type": "code",
      "execution_count": 7,
      "metadata": {},
      "outputs": [
        {
          "data": {
            "text/html": [
              "<div>\n",
              "<style scoped>\n",
              "    .dataframe tbody tr th:only-of-type {\n",
              "        vertical-align: middle;\n",
              "    }\n",
              "\n",
              "    .dataframe tbody tr th {\n",
              "        vertical-align: top;\n",
              "    }\n",
              "\n",
              "    .dataframe thead th {\n",
              "        text-align: right;\n",
              "    }\n",
              "</style>\n",
              "<table border=\"1\" class=\"dataframe\">\n",
              "  <thead>\n",
              "    <tr style=\"text-align: right;\">\n",
              "      <th></th>\n",
              "      <th>PassengerId</th>\n",
              "      <th>Survived</th>\n",
              "      <th>Pclass</th>\n",
              "      <th>Name</th>\n",
              "      <th>Sex</th>\n",
              "      <th>Age</th>\n",
              "      <th>SibSp</th>\n",
              "      <th>Parch</th>\n",
              "      <th>Ticket</th>\n",
              "      <th>Fare</th>\n",
              "      <th>Cabin</th>\n",
              "      <th>Embarked</th>\n",
              "      <th>FamilySize</th>\n",
              "      <th>Alone</th>\n",
              "    </tr>\n",
              "  </thead>\n",
              "  <tbody>\n",
              "    <tr>\n",
              "      <th>0</th>\n",
              "      <td>1</td>\n",
              "      <td>0</td>\n",
              "      <td>3</td>\n",
              "      <td>Braund, Mr. Owen Harris</td>\n",
              "      <td>male</td>\n",
              "      <td>22.0</td>\n",
              "      <td>1</td>\n",
              "      <td>0</td>\n",
              "      <td>A/5 21171</td>\n",
              "      <td>7.2500</td>\n",
              "      <td>NaN</td>\n",
              "      <td>S</td>\n",
              "      <td>1</td>\n",
              "      <td>False</td>\n",
              "    </tr>\n",
              "    <tr>\n",
              "      <th>1</th>\n",
              "      <td>2</td>\n",
              "      <td>1</td>\n",
              "      <td>1</td>\n",
              "      <td>Cumings, Mrs. John Bradley (Florence Briggs Th...</td>\n",
              "      <td>female</td>\n",
              "      <td>38.0</td>\n",
              "      <td>1</td>\n",
              "      <td>0</td>\n",
              "      <td>PC 17599</td>\n",
              "      <td>71.2833</td>\n",
              "      <td>C85</td>\n",
              "      <td>C</td>\n",
              "      <td>1</td>\n",
              "      <td>False</td>\n",
              "    </tr>\n",
              "    <tr>\n",
              "      <th>2</th>\n",
              "      <td>3</td>\n",
              "      <td>1</td>\n",
              "      <td>3</td>\n",
              "      <td>Heikkinen, Miss. Laina</td>\n",
              "      <td>female</td>\n",
              "      <td>26.0</td>\n",
              "      <td>0</td>\n",
              "      <td>0</td>\n",
              "      <td>STON/O2. 3101282</td>\n",
              "      <td>7.9250</td>\n",
              "      <td>NaN</td>\n",
              "      <td>S</td>\n",
              "      <td>0</td>\n",
              "      <td>True</td>\n",
              "    </tr>\n",
              "    <tr>\n",
              "      <th>3</th>\n",
              "      <td>4</td>\n",
              "      <td>1</td>\n",
              "      <td>1</td>\n",
              "      <td>Futrelle, Mrs. Jacques Heath (Lily May Peel)</td>\n",
              "      <td>female</td>\n",
              "      <td>35.0</td>\n",
              "      <td>1</td>\n",
              "      <td>0</td>\n",
              "      <td>113803</td>\n",
              "      <td>53.1000</td>\n",
              "      <td>C123</td>\n",
              "      <td>S</td>\n",
              "      <td>1</td>\n",
              "      <td>False</td>\n",
              "    </tr>\n",
              "    <tr>\n",
              "      <th>4</th>\n",
              "      <td>5</td>\n",
              "      <td>0</td>\n",
              "      <td>3</td>\n",
              "      <td>Allen, Mr. William Henry</td>\n",
              "      <td>male</td>\n",
              "      <td>35.0</td>\n",
              "      <td>0</td>\n",
              "      <td>0</td>\n",
              "      <td>373450</td>\n",
              "      <td>8.0500</td>\n",
              "      <td>NaN</td>\n",
              "      <td>S</td>\n",
              "      <td>0</td>\n",
              "      <td>True</td>\n",
              "    </tr>\n",
              "  </tbody>\n",
              "</table>\n",
              "</div>"
            ],
            "text/plain": [
              "   PassengerId  Survived  Pclass  \\\n",
              "0            1         0       3   \n",
              "1            2         1       1   \n",
              "2            3         1       3   \n",
              "3            4         1       1   \n",
              "4            5         0       3   \n",
              "\n",
              "                                                Name     Sex   Age  SibSp  \\\n",
              "0                            Braund, Mr. Owen Harris    male  22.0      1   \n",
              "1  Cumings, Mrs. John Bradley (Florence Briggs Th...  female  38.0      1   \n",
              "2                             Heikkinen, Miss. Laina  female  26.0      0   \n",
              "3       Futrelle, Mrs. Jacques Heath (Lily May Peel)  female  35.0      1   \n",
              "4                           Allen, Mr. William Henry    male  35.0      0   \n",
              "\n",
              "   Parch            Ticket     Fare Cabin Embarked  FamilySize  Alone  \n",
              "0      0         A/5 21171   7.2500   NaN        S           1  False  \n",
              "1      0          PC 17599  71.2833   C85        C           1  False  \n",
              "2      0  STON/O2. 3101282   7.9250   NaN        S           0   True  \n",
              "3      0            113803  53.1000  C123        S           1  False  \n",
              "4      0            373450   8.0500   NaN        S           0   True  "
            ]
          },
          "execution_count": 7,
          "metadata": {},
          "output_type": "execute_result"
        }
      ],
      "source": [
        "data['Alone'] = data['FamilySize'].apply(lambda x: x == 0)\n",
        "data.head()"
      ]
    },
    {
      "cell_type": "markdown",
      "metadata": {
        "id": "BCYNHxzQezMG"
      },
      "source": [
        "### Функции"
      ]
    },
    {
      "cell_type": "markdown",
      "metadata": {
        "id": "f54beb47"
      },
      "source": [
        "Можно использовать обычную функцию, которую мы создаем при помощи `def`:\n",
        "\n",
        "```python\n",
        "def name(x):\n",
        "  if условие 1:\n",
        "     return результат\n",
        "  elif условие 2:\n",
        "     return результат\n",
        "  ...\n",
        "  else:\n",
        "     return результат\n",
        "```"
      ]
    },
    {
      "cell_type": "markdown",
      "metadata": {
        "id": "8pnDVIEx5YzH"
      },
      "source": [
        "Создаем функцию `clss`, которая перекодирует признак `Pclass` следущим образом:\n",
        "- *1 класс*  - **High**\n",
        "- *2 класс* - **Middle**\n",
        "- *3 класс* - **Low**"
      ]
    },
    {
      "cell_type": "code",
      "execution_count": 8,
      "metadata": {
        "id": "GOhe-wqNbVDp"
      },
      "outputs": [],
      "source": [
        "def clss(x):\n",
        "  if x == 1:\n",
        "    return 'High'\n",
        "  elif x == 2:\n",
        "   return 'Middle'\n",
        "  else:\n",
        "    return 'Low'"
      ]
    },
    {
      "cell_type": "markdown",
      "metadata": {
        "id": "0tuZNGDb6Y7a"
      },
      "source": [
        "Теперь создаем новую колонку `Pclass_coded`, куда запишем результат работы нашей функции класс `clss`:"
      ]
    },
    {
      "cell_type": "code",
      "execution_count": 9,
      "metadata": {
        "colab": {
          "base_uri": "https://localhost:8080/"
        },
        "id": "L0gVeWSkbVDp",
        "outputId": "3796e823-c435-4145-ef5b-c6f3839b302f"
      },
      "outputs": [
        {
          "data": {
            "text/html": [
              "<div>\n",
              "<style scoped>\n",
              "    .dataframe tbody tr th:only-of-type {\n",
              "        vertical-align: middle;\n",
              "    }\n",
              "\n",
              "    .dataframe tbody tr th {\n",
              "        vertical-align: top;\n",
              "    }\n",
              "\n",
              "    .dataframe thead th {\n",
              "        text-align: right;\n",
              "    }\n",
              "</style>\n",
              "<table border=\"1\" class=\"dataframe\">\n",
              "  <thead>\n",
              "    <tr style=\"text-align: right;\">\n",
              "      <th></th>\n",
              "      <th>PassengerId</th>\n",
              "      <th>Survived</th>\n",
              "      <th>Pclass</th>\n",
              "      <th>Name</th>\n",
              "      <th>Sex</th>\n",
              "      <th>Age</th>\n",
              "      <th>SibSp</th>\n",
              "      <th>Parch</th>\n",
              "      <th>Ticket</th>\n",
              "      <th>Fare</th>\n",
              "      <th>Cabin</th>\n",
              "      <th>Embarked</th>\n",
              "      <th>FamilySize</th>\n",
              "      <th>Alone</th>\n",
              "      <th>Pclass_coded</th>\n",
              "    </tr>\n",
              "  </thead>\n",
              "  <tbody>\n",
              "    <tr>\n",
              "      <th>0</th>\n",
              "      <td>1</td>\n",
              "      <td>0</td>\n",
              "      <td>3</td>\n",
              "      <td>Braund, Mr. Owen Harris</td>\n",
              "      <td>male</td>\n",
              "      <td>22.0</td>\n",
              "      <td>1</td>\n",
              "      <td>0</td>\n",
              "      <td>A/5 21171</td>\n",
              "      <td>7.2500</td>\n",
              "      <td>NaN</td>\n",
              "      <td>S</td>\n",
              "      <td>1</td>\n",
              "      <td>False</td>\n",
              "      <td>Low</td>\n",
              "    </tr>\n",
              "    <tr>\n",
              "      <th>1</th>\n",
              "      <td>2</td>\n",
              "      <td>1</td>\n",
              "      <td>1</td>\n",
              "      <td>Cumings, Mrs. John Bradley (Florence Briggs Th...</td>\n",
              "      <td>female</td>\n",
              "      <td>38.0</td>\n",
              "      <td>1</td>\n",
              "      <td>0</td>\n",
              "      <td>PC 17599</td>\n",
              "      <td>71.2833</td>\n",
              "      <td>C85</td>\n",
              "      <td>C</td>\n",
              "      <td>1</td>\n",
              "      <td>False</td>\n",
              "      <td>High</td>\n",
              "    </tr>\n",
              "    <tr>\n",
              "      <th>2</th>\n",
              "      <td>3</td>\n",
              "      <td>1</td>\n",
              "      <td>3</td>\n",
              "      <td>Heikkinen, Miss. Laina</td>\n",
              "      <td>female</td>\n",
              "      <td>26.0</td>\n",
              "      <td>0</td>\n",
              "      <td>0</td>\n",
              "      <td>STON/O2. 3101282</td>\n",
              "      <td>7.9250</td>\n",
              "      <td>NaN</td>\n",
              "      <td>S</td>\n",
              "      <td>0</td>\n",
              "      <td>True</td>\n",
              "      <td>Low</td>\n",
              "    </tr>\n",
              "    <tr>\n",
              "      <th>3</th>\n",
              "      <td>4</td>\n",
              "      <td>1</td>\n",
              "      <td>1</td>\n",
              "      <td>Futrelle, Mrs. Jacques Heath (Lily May Peel)</td>\n",
              "      <td>female</td>\n",
              "      <td>35.0</td>\n",
              "      <td>1</td>\n",
              "      <td>0</td>\n",
              "      <td>113803</td>\n",
              "      <td>53.1000</td>\n",
              "      <td>C123</td>\n",
              "      <td>S</td>\n",
              "      <td>1</td>\n",
              "      <td>False</td>\n",
              "      <td>High</td>\n",
              "    </tr>\n",
              "    <tr>\n",
              "      <th>4</th>\n",
              "      <td>5</td>\n",
              "      <td>0</td>\n",
              "      <td>3</td>\n",
              "      <td>Allen, Mr. William Henry</td>\n",
              "      <td>male</td>\n",
              "      <td>35.0</td>\n",
              "      <td>0</td>\n",
              "      <td>0</td>\n",
              "      <td>373450</td>\n",
              "      <td>8.0500</td>\n",
              "      <td>NaN</td>\n",
              "      <td>S</td>\n",
              "      <td>0</td>\n",
              "      <td>True</td>\n",
              "      <td>Low</td>\n",
              "    </tr>\n",
              "  </tbody>\n",
              "</table>\n",
              "</div>"
            ],
            "text/plain": [
              "   PassengerId  Survived  Pclass  \\\n",
              "0            1         0       3   \n",
              "1            2         1       1   \n",
              "2            3         1       3   \n",
              "3            4         1       1   \n",
              "4            5         0       3   \n",
              "\n",
              "                                                Name     Sex   Age  SibSp  \\\n",
              "0                            Braund, Mr. Owen Harris    male  22.0      1   \n",
              "1  Cumings, Mrs. John Bradley (Florence Briggs Th...  female  38.0      1   \n",
              "2                             Heikkinen, Miss. Laina  female  26.0      0   \n",
              "3       Futrelle, Mrs. Jacques Heath (Lily May Peel)  female  35.0      1   \n",
              "4                           Allen, Mr. William Henry    male  35.0      0   \n",
              "\n",
              "   Parch            Ticket     Fare Cabin Embarked  FamilySize  Alone  \\\n",
              "0      0         A/5 21171   7.2500   NaN        S           1  False   \n",
              "1      0          PC 17599  71.2833   C85        C           1  False   \n",
              "2      0  STON/O2. 3101282   7.9250   NaN        S           0   True   \n",
              "3      0            113803  53.1000  C123        S           1  False   \n",
              "4      0            373450   8.0500   NaN        S           0   True   \n",
              "\n",
              "  Pclass_coded  \n",
              "0          Low  \n",
              "1         High  \n",
              "2          Low  \n",
              "3         High  \n",
              "4          Low  "
            ]
          },
          "execution_count": 9,
          "metadata": {},
          "output_type": "execute_result"
        }
      ],
      "source": [
        "data['Pclass_coded'] = data['Pclass'].apply(clss)\n",
        "data.head()"
      ]
    },
    {
      "cell_type": "markdown",
      "metadata": {
        "id": "O7Muj05EdzsE"
      },
      "source": [
        "## 2. Частотная таблица `.value_counts()`"
      ]
    },
    {
      "cell_type": "markdown",
      "metadata": {
        "id": "P_rUL6t7eB8q"
      },
      "source": [
        "### 2.1 Основные моменты `.value_counts()`\n",
        "- Строится, как правило, по **категориальным** данным\n",
        "- Показывает, сколько раз каждая уникальная категория встретилась в признаке\n",
        "- Метод возвращает **тип данных** под названием `Series object`\n",
        "- В `Series object` всего **два столбца**:\n",
        "    1. Первый столбец - индексы (`.index`). В методе `.value_counts()` - индексы категорий.\n",
        "    2. Второй столбец - значения (`.values`). В методе `.value_counts()` - сколько раз данная категория встретилась в признаке.\n",
        "\n",
        "- **Синтаксис:**\n",
        "    ```python\n",
        "        датафрейм['столбец'].value_counts()\n",
        "    ```"
      ]
    },
    {
      "cell_type": "code",
      "execution_count": 13,
      "metadata": {
        "colab": {
          "base_uri": "https://localhost:8080/",
          "height": 209
        },
        "id": "dIXYwPqEd_6-",
        "outputId": "e2a1f6ef-d548-48a7-ec6b-e43a7a8adac1"
      },
      "outputs": [
        {
          "data": {
            "text/plain": [
              "Pclass\n",
              "3    491\n",
              "1    216\n",
              "2    184\n",
              "Name: count, dtype: int64"
            ]
          },
          "execution_count": 13,
          "metadata": {},
          "output_type": "execute_result"
        }
      ],
      "source": [
        "# Смотрим на то, что возвращает .value_counts() - два столбца\n",
        "data['Pclass'].value_counts()"
      ]
    },
    {
      "cell_type": "code",
      "execution_count": 12,
      "metadata": {},
      "outputs": [
        {
          "data": {
            "text/plain": [
              "pandas.core.series.Series"
            ]
          },
          "execution_count": 12,
          "metadata": {},
          "output_type": "execute_result"
        }
      ],
      "source": [
        "# Тип возвращаемых данных\n",
        "type(data['Pclass'].value_counts())"
      ]
    },
    {
      "cell_type": "code",
      "execution_count": null,
      "metadata": {
        "colab": {
          "base_uri": "https://localhost:8080/"
        },
        "id": "9yKfTMfOfiSL",
        "outputId": "0af73826-26ec-4e89-b295-e1e95dc30a2e"
      },
      "outputs": [
        {
          "data": {
            "text/plain": [
              "Index([3, 1, 2], dtype='int64', name='Pclass')"
            ]
          },
          "execution_count": 7,
          "metadata": {},
          "output_type": "execute_result"
        }
      ],
      "source": [
        "# Глянем на индексы - это уникальные категории в признаке 'Pclass'\n",
        "data['Pclass'].value_counts().index"
      ]
    },
    {
      "cell_type": "code",
      "execution_count": 14,
      "metadata": {
        "colab": {
          "base_uri": "https://localhost:8080/"
        },
        "id": "jur9Pj7jfmar",
        "outputId": "4fc60cce-bea9-439d-a62d-86a9d4d42e39"
      },
      "outputs": [
        {
          "data": {
            "text/plain": [
              "array([491, 216, 184])"
            ]
          },
          "execution_count": 14,
          "metadata": {},
          "output_type": "execute_result"
        }
      ],
      "source": [
        "# Поглядим на значения - это частоты соответствующих категорий в признаке 'Pclass'\n",
        "data['Pclass'].value_counts().values"
      ]
    },
    {
      "cell_type": "markdown",
      "metadata": {
        "id": "EdI_pgC2ef9n"
      },
      "source": [
        "### 2.2 Сортировка в `.value_counts()` ⭐️\n",
        "\n",
        "1) **По встречаемости категорий**\n",
        "\n",
        "  - *От самой частой до самой редкой* - `.value_counts()` автоматически сортирует категории от самой частой до самой редкой.\n",
        "    ```python\n",
        "      датафрейм['столбец'].value_counts()\n",
        "    ```\n",
        "  - *От самой редкой до самой частой* - после применения `value_counts()` воспользуйтесь `.sort_values()`.\n",
        "    ```python\n",
        "      датафрейм['столбец'].value_counts().sort_values()\n",
        "    ```\n",
        "\n",
        "2) **По категориям** (индексам, первый столбец) - можем воспользоваться `.sort_index()`\n",
        "  - *По возрастанию категорий* (A-Z, от 0 до N)\n",
        "    ```python\n",
        "      датафрейм['столбец'].value_counts().sort_index()\n",
        "    ```\n",
        "  - *По убыванию категорий* (Z-A, от N до 0)\n",
        "    ```python\n",
        "      датафрейм['столбец'].value_counts().sort_index(ascending = False)\n",
        "    ```"
      ]
    },
    {
      "cell_type": "code",
      "execution_count": 16,
      "metadata": {},
      "outputs": [
        {
          "data": {
            "text/plain": [
              "Pclass\n",
              "3    491\n",
              "1    216\n",
              "2    184\n",
              "Name: count, dtype: int64"
            ]
          },
          "execution_count": 16,
          "metadata": {},
          "output_type": "execute_result"
        }
      ],
      "source": [
        "# 1.1 Сортируем по встречаемости категорий: от частой (491) до редкой (184)\n",
        "data['Pclass'].value_counts()"
      ]
    },
    {
      "cell_type": "code",
      "execution_count": 17,
      "metadata": {},
      "outputs": [
        {
          "data": {
            "text/plain": [
              "Pclass\n",
              "2    184\n",
              "1    216\n",
              "3    491\n",
              "Name: count, dtype: int64"
            ]
          },
          "execution_count": 17,
          "metadata": {},
          "output_type": "execute_result"
        }
      ],
      "source": [
        "# 1.2 Сортируем по встречаемости категорий: от редкой (184) до частой (491)\n",
        "data['Pclass'].value_counts().sort_values()"
      ]
    },
    {
      "cell_type": "code",
      "execution_count": 18,
      "metadata": {
        "colab": {
          "base_uri": "https://localhost:8080/",
          "height": 209
        },
        "id": "3L4t0ghkiCb5",
        "outputId": "e6142a13-ae93-4f5b-ba72-a6373927a553"
      },
      "outputs": [
        {
          "data": {
            "text/plain": [
              "Pclass\n",
              "1    216\n",
              "2    184\n",
              "3    491\n",
              "Name: count, dtype: int64"
            ]
          },
          "execution_count": 18,
          "metadata": {},
          "output_type": "execute_result"
        }
      ],
      "source": [
        "# 2.1 Сортируем по возрастанию категорий (1 -> 3)\n",
        "data['Pclass'].value_counts().sort_index()"
      ]
    },
    {
      "cell_type": "code",
      "execution_count": 19,
      "metadata": {
        "colab": {
          "base_uri": "https://localhost:8080/",
          "height": 209
        },
        "id": "WNTFvl1AiKSC",
        "outputId": "18fcc34e-96ed-485a-8847-abee3a188686"
      },
      "outputs": [
        {
          "data": {
            "text/plain": [
              "Pclass\n",
              "3    491\n",
              "2    184\n",
              "1    216\n",
              "Name: count, dtype: int64"
            ]
          },
          "execution_count": 19,
          "metadata": {},
          "output_type": "execute_result"
        }
      ],
      "source": [
        "# 2.2 Сортируем по убыванию категорий (3 -> 1)\n",
        "data['Pclass'].value_counts().sort_index(ascending = False)"
      ]
    },
    {
      "cell_type": "markdown",
      "metadata": {
        "id": "uU4m5JoTHOuv"
      },
      "source": [
        "### 2.3 Приведение частотной таблицы к долям\n",
        "\n",
        "Данные в частотной таблице можно привести к долям с помощью параметра `normalize = True`:\n",
        "```python\n",
        "    датафрейм['столбец'].value_counts(normalize = True)\n",
        "```"
      ]
    },
    {
      "cell_type": "code",
      "execution_count": 20,
      "metadata": {
        "colab": {
          "base_uri": "https://localhost:8080/",
          "height": 209
        },
        "id": "RK8jhgc8HlZ7",
        "outputId": "e47cde82-8194-4c0f-cd30-6e72c69f40a8"
      },
      "outputs": [
        {
          "data": {
            "text/plain": [
              "Pclass\n",
              "3    0.551066\n",
              "1    0.242424\n",
              "2    0.206510\n",
              "Name: proportion, dtype: float64"
            ]
          },
          "execution_count": 20,
          "metadata": {},
          "output_type": "execute_result"
        }
      ],
      "source": [
        "data['Pclass'].value_counts(normalize = True)"
      ]
    },
    {
      "cell_type": "markdown",
      "metadata": {
        "id": "23099dc9"
      },
      "source": [
        "##  3. Базовая визуализация `.plot()`"
      ]
    },
    {
      "cell_type": "markdown",
      "metadata": {},
      "source": [
        "### 3.1 Визуализация категориальных данных"
      ]
    },
    {
      "cell_type": "markdown",
      "metadata": {
        "id": "55f22045"
      },
      "source": [
        "#### 3.1.1 Линейная диаграмма"
      ]
    },
    {
      "cell_type": "markdown",
      "metadata": {
        "id": "LbT4ysl-ixyf"
      },
      "source": [
        "- Используется для **категориальных** данных\n",
        "- Используется, чтобы показать динамику в течении времени (хотя у нас нет временных меток)\n",
        "- **Синтаксис:**\n",
        "    ```python\n",
        "        датафрейм['столбец'].value_counts().plot()\n",
        "    ```"
      ]
    },
    {
      "cell_type": "code",
      "execution_count": 21,
      "metadata": {
        "colab": {
          "base_uri": "https://localhost:8080/",
          "height": 468
        },
        "id": "cxWnJ-GJT6BM",
        "outputId": "985f0ecb-0ba6-4f99-ebe6-45e47aa7dcd2"
      },
      "outputs": [
        {
          "data": {
            "text/plain": [
              "<Axes: xlabel='Embarked'>"
            ]
          },
          "execution_count": 21,
          "metadata": {},
          "output_type": "execute_result"
        },
        {
          "data": {
            "image/png": "[encoded data removed]",
            "text/plain": [
              "<Figure size 640x480 with 1 Axes>"
            ]
          },
          "metadata": {},
          "output_type": "display_data"
        }
      ],
      "source": [
        "data[\"Embarked\"].value_counts().plot()"
      ]
    },
    {
      "cell_type": "markdown",
      "metadata": {
        "id": "d95a4d5e"
      },
      "source": [
        "#### 3.1.2 Столбчатая диаграмма"
      ]
    },
    {
      "cell_type": "markdown",
      "metadata": {
        "id": "ga_H4OV3jSST"
      },
      "source": [
        "- Используется для **категориальных** данных\n",
        "- **Синтаксис:**\n",
        "    ```python\n",
        "        датафрейм['столбец'].value_counts().plot(kin = 'bar')\n",
        "    ```"
      ]
    },
    {
      "cell_type": "code",
      "execution_count": 22,
      "metadata": {
        "colab": {
          "base_uri": "https://localhost:8080/",
          "height": 463
        },
        "id": "oLY3ohe5THna",
        "outputId": "339ef706-5fb1-42d4-a736-0003b7bda0db"
      },
      "outputs": [
        {
          "data": {
            "text/plain": [
              "<Axes: xlabel='Pclass'>"
            ]
          },
          "execution_count": 22,
          "metadata": {},
          "output_type": "execute_result"
        },
        {
          "data": {
            "image/png": "[encoded data removed]",
            "text/plain": [
              "<Figure size 640x480 with 1 Axes>"
            ]
          },
          "metadata": {},
          "output_type": "display_data"
        }
      ],
      "source": [
        "data[\"Pclass\"].value_counts().plot(kind = 'bar')"
      ]
    },
    {
      "cell_type": "code",
      "execution_count": 23,
      "metadata": {
        "colab": {
          "base_uri": "https://localhost:8080/",
          "height": 463
        },
        "id": "d8ebea3a",
        "outputId": "bebad44c-1947-4653-9e95-67ae25ee9cd9"
      },
      "outputs": [
        {
          "data": {
            "text/plain": [
              "<Axes: xlabel='Pclass'>"
            ]
          },
          "execution_count": 23,
          "metadata": {},
          "output_type": "execute_result"
        },
        {
          "data": {
            "image/png": "[encoded data removed]",
            "text/plain": [
              "<Figure size 640x480 with 1 Axes>"
            ]
          },
          "metadata": {},
          "output_type": "display_data"
        }
      ],
      "source": [
        "data[\"Pclass\"].value_counts().sort_values().plot(kind = 'bar')"
      ]
    },
    {
      "cell_type": "code",
      "execution_count": 24,
      "metadata": {
        "colab": {
          "base_uri": "https://localhost:8080/",
          "height": 463
        },
        "id": "q_DybHJYj8si",
        "outputId": "ab8b9120-d5a4-46c8-a9b2-309364c08aeb"
      },
      "outputs": [
        {
          "data": {
            "text/plain": [
              "<Axes: xlabel='Pclass'>"
            ]
          },
          "execution_count": 24,
          "metadata": {},
          "output_type": "execute_result"
        },
        {
          "data": {
            "image/png": "[encoded data removed]",
            "text/plain": [
              "<Figure size 640x480 with 1 Axes>"
            ]
          },
          "metadata": {},
          "output_type": "display_data"
        }
      ],
      "source": [
        "data[\"Pclass\"].value_counts().sort_index().plot(kind = 'bar')"
      ]
    },
    {
      "cell_type": "code",
      "execution_count": 25,
      "metadata": {
        "colab": {
          "base_uri": "https://localhost:8080/",
          "height": 463
        },
        "id": "xYkwbToIkG5b",
        "outputId": "cd26e03a-366c-445c-8e0a-b15183a8f891"
      },
      "outputs": [
        {
          "data": {
            "text/plain": [
              "<Axes: xlabel='Pclass'>"
            ]
          },
          "execution_count": 25,
          "metadata": {},
          "output_type": "execute_result"
        },
        {
          "data": {
            "image/png": "[encoded data removed]",
            "text/plain": [
              "<Figure size 640x480 with 1 Axes>"
            ]
          },
          "metadata": {},
          "output_type": "display_data"
        }
      ],
      "source": [
        "data[\"Pclass\"].value_counts().sort_index(ascending = False).plot(kind = 'bar')"
      ]
    },
    {
      "cell_type": "markdown",
      "metadata": {
        "id": "826efc94"
      },
      "source": [
        "#### 3.1.3 Круговая диаграмма"
      ]
    },
    {
      "cell_type": "markdown",
      "metadata": {
        "id": "1b4kXYArkQIt"
      },
      "source": [
        "- Используется для **категориальных** данных\n",
        "- **Синтаксис:**\n",
        "    ```python\n",
        "        датафрейм['столбец'].value_counts().plot(kin = 'pie')\n",
        "    ```\n"
      ]
    },
    {
      "cell_type": "code",
      "execution_count": 26,
      "metadata": {
        "colab": {
          "base_uri": "https://localhost:8080/",
          "height": 425
        },
        "id": "jbUDsWxQkNJy",
        "outputId": "0a81adde-34a3-4c9b-e0a1-ee980b332b60"
      },
      "outputs": [
        {
          "data": {
            "text/plain": [
              "<Axes: ylabel='count'>"
            ]
          },
          "execution_count": 26,
          "metadata": {},
          "output_type": "execute_result"
        },
        {
          "data": {
            "image/png": "[encoded data removed]",
            "text/plain": [
              "<Figure size 640x480 with 1 Axes>"
            ]
          },
          "metadata": {},
          "output_type": "display_data"
        }
      ],
      "source": [
        "data[\"Pclass\"].value_counts().plot(kind = 'pie')"
      ]
    },
    {
      "cell_type": "markdown",
      "metadata": {},
      "source": [
        "### 3.2 Визуализация числовых данных"
      ]
    },
    {
      "cell_type": "markdown",
      "metadata": {
        "id": "634a8248"
      },
      "source": [
        "#### 3.2.1 Гистограмма распределения"
      ]
    },
    {
      "cell_type": "markdown",
      "metadata": {
        "id": "rrH2mrETcQkx"
      },
      "source": [
        "- Используется для **числовых** данных\n",
        "- По **горизонтальной** оси - *значение признака*, по **вертикальной** - *частота* (количество вхождений, \"встречаемость\")\n",
        "- Используется чтобы показать распределение данных\n",
        "- **Синтаксис:**\n",
        "    ```python\n",
        "        датафрейм['столбец'].plot(kind = 'hist')\n",
        "    ```"
      ]
    },
    {
      "cell_type": "code",
      "execution_count": 27,
      "metadata": {
        "colab": {
          "base_uri": "https://localhost:8080/",
          "height": 430
        },
        "id": "4b89d259",
        "outputId": "0bfb3ec1-feda-4c21-9f22-c8abd7bac8ea"
      },
      "outputs": [
        {
          "data": {
            "text/plain": [
              "<Axes: ylabel='Frequency'>"
            ]
          },
          "execution_count": 27,
          "metadata": {},
          "output_type": "execute_result"
        },
        {
          "data": {
            "image/png": "[encoded data removed]",
            "text/plain": [
              "<Figure size 640x480 with 1 Axes>"
            ]
          },
          "metadata": {},
          "output_type": "display_data"
        }
      ],
      "source": [
        "data['Age'].plot(kind='hist')"
      ]
    },
    {
      "cell_type": "markdown",
      "metadata": {},
      "source": [
        "❗️По **вертикальной** оси также может быть отображена *вероятность* \"встретить\" данное значение признака. В таких случаях график также называется **гистограммой**, но имя вертикальной оси сменяется на **плотность вероятности**"
      ]
    },
    {
      "cell_type": "code",
      "execution_count": 43,
      "metadata": {},
      "outputs": [
        {
          "data": {
            "text/plain": [
              "<Axes: >"
            ]
          },
          "execution_count": 43,
          "metadata": {},
          "output_type": "execute_result"
        },
        {
          "data": {
            "image/png": "[encoded data removed]",
            "text/plain": [
              "<Figure size 640x480 with 1 Axes>"
            ]
          },
          "metadata": {},
          "output_type": "display_data"
        }
      ],
      "source": [
        "data['Age'].hist(density=True, bins=30)"
      ]
    },
    {
      "cell_type": "markdown",
      "metadata": {
        "id": "94xBnOI2cMkl"
      },
      "source": [
        "#### 3.2.2 Ящик с усами"
      ]
    },
    {
      "cell_type": "markdown",
      "metadata": {
        "id": "45oBCF2Kcymn"
      },
      "source": [
        "- Используется для **числовых** данных\n",
        "- По **горизонтальной** оси *значение признака*\n",
        "- Что значит эта коробка разберем на семинаре с описательными статистиками\n",
        "- **Синтаксис:**\n",
        "    ```python\n",
        "        датафрейм['столбец'].plot(kind = 'box', vert = False)\n",
        "    ```"
      ]
    },
    {
      "cell_type": "code",
      "execution_count": 44,
      "metadata": {
        "colab": {
          "base_uri": "https://localhost:8080/",
          "height": 449
        },
        "id": "5QuBylPQdKbN",
        "outputId": "842f3515-d335-4c45-b6bc-7b648f443915"
      },
      "outputs": [
        {
          "data": {
            "text/plain": [
              "<Axes: >"
            ]
          },
          "execution_count": 44,
          "metadata": {},
          "output_type": "execute_result"
        },
        {
          "data": {
            "image/png": "[encoded data removed]",
            "text/plain": [
              "<Figure size 640x480 with 1 Axes>"
            ]
          },
          "metadata": {},
          "output_type": "display_data"
        }
      ],
      "source": [
        "data['Age'].plot(kind='box', vert = False)"
      ]
    },
    {
      "cell_type": "code",
      "execution_count": 45,
      "metadata": {},
      "outputs": [
        {
          "data": {
            "text/plain": [
              "<Axes: >"
            ]
          },
          "execution_count": 45,
          "metadata": {},
          "output_type": "execute_result"
        },
        {
          "data": {
            "image/png": "[encoded data removed]",
            "text/plain": [
              "<Figure size 640x480 with 1 Axes>"
            ]
          },
          "metadata": {},
          "output_type": "display_data"
        }
      ],
      "source": [
        "data['Age'].plot(kind='box', vert = True)"
      ]
    },
    {
      "cell_type": "markdown",
      "metadata": {
        "id": "_VP28nBbkw5x"
      },
      "source": [
        "#### 3.2.3 Диаграмма рассеяния"
      ]
    },
    {
      "cell_type": "markdown",
      "metadata": {
        "id": "qlik5m9tk5nK"
      },
      "source": [
        "- Используется для **числовых** данных\n",
        "- Используется, чтобы показать зависимость между числовыми признаками\n",
        "- **Синтаксис:**\n",
        "    ```python\n",
        "        датафрейм.plot('столбец X', 'столбец Y', kind = 'scatter')\n",
        "    ```"
      ]
    },
    {
      "cell_type": "code",
      "execution_count": 46,
      "metadata": {
        "colab": {
          "base_uri": "https://localhost:8080/",
          "height": 468
        },
        "id": "VDxgaxQok0Ay",
        "outputId": "9e83b191-e102-41b5-ef42-cefa93325acf"
      },
      "outputs": [
        {
          "data": {
            "text/plain": [
              "<Axes: xlabel='Age', ylabel='Fare'>"
            ]
          },
          "execution_count": 46,
          "metadata": {},
          "output_type": "execute_result"
        },
        {
          "data": {
            "image/png": "[encoded data removed]",
            "text/plain": [
              "<Figure size 640x480 with 1 Axes>"
            ]
          },
          "metadata": {},
          "output_type": "display_data"
        }
      ],
      "source": [
        "data.plot('Age', 'Fare', kind = 'scatter')"
      ]
    },
    {
      "cell_type": "markdown",
      "metadata": {
        "id": "BrySV8Kvlcmo"
      },
      "source": [
        "## **A2**"
      ]
    },
    {
      "cell_type": "markdown",
      "metadata": {
        "id": "S8NhhfECllY0"
      },
      "source": [
        "Соотнесите тип визуализации и признак.\n",
        "\n",
        "![image.png](data:image/png;base64,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)"
      ]
    },
    {
      "cell_type": "markdown",
      "metadata": {
        "id": "p076M5jblqht"
      },
      "source": [
        "- Количество спутников у каждого пассажира на Титанике\n",
        "- Распределение выживших и погибших на Титанике\n",
        "- Распределение цены билета на Титаник\n",
        "- Распределение возраста пассажиров Титаника"
      ]
    }
  ],
  "metadata": {
    "colab": {
      "provenance": []
    },
    "kernelspec": {
      "display_name": "Python 3",
      "name": "python3"
    },
    "language_info": {
      "codemirror_mode": {
        "name": "ipython",
        "version": 3
      },
      "file_extension": ".py",
      "mimetype": "text/x-python",
      "name": "python",
      "nbconvert_exporter": "python",
      "pygments_lexer": "ipython3",
      "version": "3.12.4"
    }
  },
  "nbformat": 4,
  "nbformat_minor": 0
}
